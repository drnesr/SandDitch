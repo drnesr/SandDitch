{
 "cells": [
  {
   "cell_type": "markdown",
   "metadata": {},
   "source": [
    "## Basic functions and imports"
   ]
  },
  {
   "cell_type": "code",
   "execution_count": 1,
   "metadata": {
    "ExecuteTime": {
     "end_time": "2019-11-21T10:07:59.943856Z",
     "start_time": "2019-11-21T10:07:58.543605Z"
    }
   },
   "outputs": [],
   "source": [
    "import pandas as pd\n",
    "import numpy as np\n",
    "import matplotlib.pyplot as plt\n",
    "from matplotlib.colors import LinearSegmentedColormap as LSCm\n",
    "from scipy.interpolate import griddata\n",
    "from scipy.signal import savgol_filter\n",
    "from scipy import integrate\n",
    "from NesrHydrusAnalyst import *"
   ]
  },
  {
   "cell_type": "code",
   "execution_count": 33,
   "metadata": {
    "ExecuteTime": {
     "end_time": "2019-11-21T11:02:00.940225Z",
     "start_time": "2019-11-21T11:02:00.937233Z"
    }
   },
   "outputs": [],
   "source": [
    "import itertools"
   ]
  },
  {
   "cell_type": "code",
   "execution_count": 2,
   "metadata": {
    "ExecuteTime": {
     "end_time": "2019-11-21T10:07:59.997713Z",
     "start_time": "2019-11-21T10:07:59.945852Z"
    },
    "code_folding": [
     0,
     130
    ]
   },
   "outputs": [],
   "source": [
    "def draw_contour(X,\n",
    "                 Z,\n",
    "                 M,\n",
    "                 levels=None,\n",
    "                 plot_title=\"ElNesr cross sectional contour map\",\n",
    "                 x_step=10.,\n",
    "                 z_step=25.,\n",
    "                 mirror_x=False,\n",
    "                 mirror_z=False,\n",
    "                 return_figure_object=False,\n",
    "                 fig_size=None):\n",
    "    '''\n",
    "\n",
    "    '''\n",
    "    if levels is None:\n",
    "        levels = get_legend_range(np.nanmin(M), np.nanmax(M))\n",
    "\n",
    "    fig = plt.figure(\n",
    "        num=None, figsize=fig_size, dpi=80, facecolor='w', edgecolor='k')\n",
    "    origin = 'lower'\n",
    "\n",
    "    if levels is None:\n",
    "        #         print(M.min(), M.max())\n",
    "        try:\n",
    "            # levels = get_legend_range(M.min(), M.max())\n",
    "            #np.arange(0.15, 0.42, 0.03)\n",
    "            # np.arange(0.15, 0.42, 0.03)\n",
    "            levels = get_legend_range(np.nanmin(M), np.nanmax(M))\n",
    "        except:\n",
    "            levels = get_legend_range(-.15, 0.15)\n",
    "\n",
    "    CS_lines = plt.contour(\n",
    "        X,\n",
    "        Z,\n",
    "        M,\n",
    "        levels,\n",
    "        cmap=plt.cm.Accent_r,\n",
    "        linewidths=(0.9, ),\n",
    "        origin=origin,\n",
    "        extend='both')\n",
    "\n",
    "    CS_fill = plt.contourf(\n",
    "        X, Z, M, levels, cmap=plt.cm.YlGn, origin=origin, extend='both')\n",
    "\n",
    "    CS_fill.cmap.set_under('oldlace')\n",
    "    CS_fill.cmap.set_over('darkslategrey')\n",
    "    plt.title(plot_title)\n",
    "    plt.ylabel(\"Depth (cm)\")\n",
    "    cols = plt.cm.Accent_r(CS_lines.norm(CS_lines.levels))\n",
    "    # plt.clabel(CS_lines, linewidths=4, fmt='%2.2f', fontsize='x-large',\n",
    "    plt.clabel(\n",
    "        CS_lines,\n",
    "        fmt='%2.2f',\n",
    "        fontsize='x-large',\n",
    "        colors=cols,\n",
    "        inline=True,\n",
    "        inline_spacing=10)\n",
    "    plt.colorbar(CS_fill)\n",
    "\n",
    "    def adjust_max_and_min(_min, _max, _step):\n",
    "        nn, xx, ss = _min, _max, _step\n",
    "        if xx <= 0.:\n",
    "            nn, xx = xx, nn\n",
    "            if ss > 0:\n",
    "                ss = -ss\n",
    "        return nn, xx, ss\n",
    "\n",
    "    def adjust_axis_labels(_min, _max, _step):\n",
    "        nn, xx, ss = adjust_max_and_min(_min, _max, _step)\n",
    "\n",
    "        x_list = np.arange(nn, xx, ss)\n",
    "        if abs(x_list[-1] - xx) > 3:  # The last number is far enough from\n",
    "            # the maximum element\n",
    "            x_list = np.hstack([x_list, xx])\n",
    "        else:  # The last number is too close to the maximum element\n",
    "            x_list = np.hstack([x_list[:-1], xx])\n",
    "        return x_list\n",
    "\n",
    "    def adjust_mirrored_labels(_min, _max, _step):\n",
    "        #         print(_min, _max, _step)\n",
    "        nn, xx, ss = adjust_max_and_min(_min, _max, _step)\n",
    "        x_mid = (xx - nn) / 2.\n",
    "\n",
    "        if x_mid < 0:\n",
    "            right_list = adjust_axis_labels(min(x_mid, xx), max(x_mid, xx), ss)\n",
    "            left_list = right_list - x_mid\n",
    "            right_list = x_mid - right_list\n",
    "\n",
    "            left_list.sort()\n",
    "\n",
    "            label_list = np.hstack([left_list[:-1], right_list])\n",
    "\n",
    "            real_list = x_mid - label_list\n",
    "            label_list = label_list[::-1]\n",
    "            return real_list, label_list\n",
    "        elif x_mid > 0:\n",
    "            right_list = adjust_axis_labels(x_mid, xx, ss)\n",
    "            left_list = 2 * x_mid - right_list\n",
    "            left_list.sort()\n",
    "            real_list = np.hstack([left_list[:-1], right_list])\n",
    "            label_list = real_list - x_mid\n",
    "            label_list = tuple(['{:3.1f}'.format(x) for x in label_list])\n",
    "            return real_list, label_list\n",
    "        else:\n",
    "            real_list, label_list = None, None\n",
    "            return real_list, label_list\n",
    "\n",
    "    if mirror_x:\n",
    "        if x_step is not None:\n",
    "            ticks, labels = adjust_mirrored_labels(X.min(), X.max(), x_step)\n",
    "            plt.xticks(ticks, labels)\n",
    "    else:  # No Mirroring\n",
    "        if x_step is not None:\n",
    "            plt.xticks(adjust_axis_labels(X.min(), X.max(), x_step))\n",
    "\n",
    "    if mirror_z:\n",
    "        if z_step is not None:\n",
    "            ticks, labels = adjust_mirrored_labels(Z.min(), Z.max(), z_step)\n",
    "            plt.yticks(ticks, labels)\n",
    "    else:  # No Mirroring\n",
    "        if z_step is not None:\n",
    "            plt.yticks(adjust_axis_labels(Z.min(), Z.max(), z_step))\n",
    "    ax = plt.gca()\n",
    "    ax.grid(True, zorder=0)\n",
    "    if return_figure_object:\n",
    "        return fig\n",
    "    else:\n",
    "        plt.show()\n",
    "\n",
    "\n",
    "def draw_full_contour(data_frame,\n",
    "                      variable=0,\n",
    "                      time_step=180,\n",
    "                      grid=0.5,\n",
    "                      crosses=35.,\n",
    "                      tol=10.,\n",
    "                      section='x',\n",
    "                      levels=None,\n",
    "                      plot_title=\"ElNesr cross sectional contour map\",\n",
    "                      return_arrays=True,\n",
    "                      x_step=None,\n",
    "                      z_step=None,\n",
    "                      mirror_x=False,\n",
    "                      mirror_z=False,\n",
    "                      is2d=False,\n",
    "                      output_the_contour=True,\n",
    "                      is_axisymmetric=False,\n",
    "                      return_figure_object=False,\n",
    "                      fig_size=None):\n",
    "    '''\n",
    "    Either (1) set the return_arrays to True and use on right \n",
    "                hand side of equal sign, \n",
    "    OR     (2) set the return_arrays to False and use the function as is.\n",
    "    Examples:\n",
    "    (1)\n",
    "       arrays = draw_full_contour(data_frame,variable, time_step, grid, \n",
    "                                   crosses, tol, section)\n",
    "       It will draws the chart AND sets arrays=X, Z, M, levels\n",
    "    (2)\n",
    "       draw_full_contour(data_frame,variable, time_step, grid, crosses, \n",
    "                           tol, section, return_arrays=False)    \n",
    "    '''\n",
    "    #     print('is2d=', is2d)\n",
    "    X, Z, M, x_vals, z_vals = get_grid_values(\n",
    "        data_frame,\n",
    "        variable,\n",
    "        time_step,\n",
    "        grid,\n",
    "        crosses,\n",
    "        tol,\n",
    "        section,\n",
    "        is2d=is2d)\n",
    "    # print(x_vals.shape, z_vals.shape, X.shape, Z.shape, M.shape)\n",
    "    if levels is None:\n",
    "        levels = get_legend_range(np.nanmin(M),\n",
    "                                  np.nanmax(M))  #np.arange(0.15, 0.42, 0.03)\n",
    "\n",
    "    mn, mx = np.nanmin(M), np.nanmax(M)\n",
    "    # print (mx,mn, mx-mn)\n",
    "    if mx - mn < 0.000000001:\n",
    "        print(\n",
    "            'For the requested contour map of {}'.format(plot_title), end='. ')\n",
    "        print(\"The map has one value only ({}), no contour map will be drawn.\".\n",
    "              format(mn))\n",
    "        can_draw_figure = False\n",
    "    else:\n",
    "        can_draw_figure = True\n",
    "\n",
    "    # Adjust a proportional figure size\n",
    "    if fig_size is None:\n",
    "        fig_size = get_fig_shape(data_frame, section)\n",
    "\n",
    "    if not output_the_contour and not return_figure_object:\n",
    "        fig = None\n",
    "    else:\n",
    "        if can_draw_figure:\n",
    "            fig = draw_contour(\n",
    "                X,\n",
    "                Z,\n",
    "                M,\n",
    "                levels,\n",
    "                plot_title,\n",
    "                x_step,\n",
    "                z_step,\n",
    "                mirror_x,\n",
    "                mirror_z,\n",
    "                return_figure_object,\n",
    "                fig_size=fig_size)\n",
    "        else:\n",
    "            fig = None\n",
    "\n",
    "\n",
    "#     exit()\n",
    "    if return_arrays:\n",
    "        if output_the_contour:\n",
    "            if return_figure_object:\n",
    "                return X, Z, M, levels, fig\n",
    "            else:  # return_figure_object=False\n",
    "                display(fig)\n",
    "                # fig.show()\n",
    "                return X, Z, M, levels\n",
    "        else:  #output_the_contour=False\n",
    "            if return_figure_object:\n",
    "                return X, Z, M, levels, fig\n",
    "            else:  # return_figure_object=False\n",
    "                return X, Z, M, levels\n",
    "    else:  #return_arrays=False\n",
    "        if output_the_contour:\n",
    "            if return_figure_object:\n",
    "                return fig\n",
    "            else:  # return_figure_object=False\n",
    "                display(fig)\n",
    "                # fig.show()\n",
    "        else:  #output_the_contour=False\n",
    "            if return_figure_object:\n",
    "                return fig"
   ]
  },
  {
   "cell_type": "markdown",
   "metadata": {},
   "source": [
    "## Loading, rotating and viewing the dataset"
   ]
  },
  {
   "cell_type": "code",
   "execution_count": 3,
   "metadata": {
    "ExecuteTime": {
     "end_time": "2019-11-21T10:08:00.838488Z",
     "start_time": "2019-11-21T10:07:59.998710Z"
    }
   },
   "outputs": [
    {
     "name": "stdout",
     "output_type": "stream",
     "text": [
      " For the entire simulation\n",
      " ========================= \n",
      "Time steps : [0, 5, 15, 30, 60, 120, 180, 240, 500, 720, 1440] \n",
      "Dimensions : {'x': (-0.839105, 49.9601), 'y': (0.0, 20.0), 'z': (0.0, 22.9811)} \n",
      "Matrix dims: x_vals(41,), z_vals(46,), X(46, 41), Z(46, 41), M(46, 41)\n",
      "\n",
      "\n",
      " Variables statistics:\n",
      " =====================\n"
     ]
    },
    {
     "data": {
      "text/html": [
       "<div>\n",
       "<style scoped>\n",
       "    .dataframe tbody tr th:only-of-type {\n",
       "        vertical-align: middle;\n",
       "    }\n",
       "\n",
       "    .dataframe tbody tr th {\n",
       "        vertical-align: top;\n",
       "    }\n",
       "\n",
       "    .dataframe thead th {\n",
       "        text-align: right;\n",
       "    }\n",
       "</style>\n",
       "<table border=\"1\" class=\"dataframe\">\n",
       "  <thead>\n",
       "    <tr style=\"text-align: right;\">\n",
       "      <th></th>\n",
       "      <th>n</th>\n",
       "      <th>x</th>\n",
       "      <th>y</th>\n",
       "      <th>z</th>\n",
       "      <th>Th_T0</th>\n",
       "      <th>Th_T5</th>\n",
       "      <th>Th_T15</th>\n",
       "      <th>Th_T30</th>\n",
       "      <th>Th_T60</th>\n",
       "      <th>Th_T120</th>\n",
       "      <th>...</th>\n",
       "      <th>V3_T240</th>\n",
       "      <th>V1_T500</th>\n",
       "      <th>V2_T500</th>\n",
       "      <th>V3_T500</th>\n",
       "      <th>V1_T720</th>\n",
       "      <th>V2_T720</th>\n",
       "      <th>V3_T720</th>\n",
       "      <th>V1_T1440</th>\n",
       "      <th>V2_T1440</th>\n",
       "      <th>V3_T1440</th>\n",
       "    </tr>\n",
       "  </thead>\n",
       "  <tbody>\n",
       "    <tr>\n",
       "      <th>4435</th>\n",
       "      <td>4435</td>\n",
       "      <td>2.55149</td>\n",
       "      <td>18.2500</td>\n",
       "      <td>12.1907</td>\n",
       "      <td>0.2</td>\n",
       "      <td>0.20000</td>\n",
       "      <td>0.200000</td>\n",
       "      <td>0.200000</td>\n",
       "      <td>0.200000</td>\n",
       "      <td>0.200003</td>\n",
       "      <td>...</td>\n",
       "      <td>-0.000009</td>\n",
       "      <td>-0.000008</td>\n",
       "      <td>0.000002</td>\n",
       "      <td>-0.000059</td>\n",
       "      <td>-0.000014</td>\n",
       "      <td>0.000002</td>\n",
       "      <td>-0.000080</td>\n",
       "      <td>-0.000033</td>\n",
       "      <td>1.314710e-07</td>\n",
       "      <td>0.000014</td>\n",
       "    </tr>\n",
       "    <tr>\n",
       "      <th>3018</th>\n",
       "      <td>3018</td>\n",
       "      <td>2.15850</td>\n",
       "      <td>13.8462</td>\n",
       "      <td>21.1031</td>\n",
       "      <td>0.1</td>\n",
       "      <td>0.08673</td>\n",
       "      <td>0.076326</td>\n",
       "      <td>0.070299</td>\n",
       "      <td>0.103509</td>\n",
       "      <td>0.144379</td>\n",
       "      <td>...</td>\n",
       "      <td>-0.000112</td>\n",
       "      <td>-0.000099</td>\n",
       "      <td>-0.000006</td>\n",
       "      <td>-0.000032</td>\n",
       "      <td>-0.000048</td>\n",
       "      <td>-0.000003</td>\n",
       "      <td>-0.000017</td>\n",
       "      <td>-0.000019</td>\n",
       "      <td>-6.517970e-07</td>\n",
       "      <td>-0.000005</td>\n",
       "    </tr>\n",
       "    <tr>\n",
       "      <th>5455</th>\n",
       "      <td>5455</td>\n",
       "      <td>6.10847</td>\n",
       "      <td>19.1250</td>\n",
       "      <td>13.2219</td>\n",
       "      <td>0.2</td>\n",
       "      <td>0.20000</td>\n",
       "      <td>0.200000</td>\n",
       "      <td>0.200000</td>\n",
       "      <td>0.200000</td>\n",
       "      <td>0.200278</td>\n",
       "      <td>...</td>\n",
       "      <td>-0.000066</td>\n",
       "      <td>-0.000020</td>\n",
       "      <td>-0.000005</td>\n",
       "      <td>-0.000225</td>\n",
       "      <td>-0.000031</td>\n",
       "      <td>-0.000003</td>\n",
       "      <td>-0.000179</td>\n",
       "      <td>-0.000061</td>\n",
       "      <td>-1.185640e-06</td>\n",
       "      <td>-0.000012</td>\n",
       "    </tr>\n",
       "  </tbody>\n",
       "</table>\n",
       "<p>3 rows × 59 columns</p>\n",
       "</div>"
      ],
      "text/plain": [
       "         n        x        y        z  Th_T0    Th_T5    Th_T15    Th_T30  \\\n",
       "4435  4435  2.55149  18.2500  12.1907    0.2  0.20000  0.200000  0.200000   \n",
       "3018  3018  2.15850  13.8462  21.1031    0.1  0.08673  0.076326  0.070299   \n",
       "5455  5455  6.10847  19.1250  13.2219    0.2  0.20000  0.200000  0.200000   \n",
       "\n",
       "        Th_T60   Th_T120  ...   V3_T240   V1_T500   V2_T500   V3_T500  \\\n",
       "4435  0.200000  0.200003  ... -0.000009 -0.000008  0.000002 -0.000059   \n",
       "3018  0.103509  0.144379  ... -0.000112 -0.000099 -0.000006 -0.000032   \n",
       "5455  0.200000  0.200278  ... -0.000066 -0.000020 -0.000005 -0.000225   \n",
       "\n",
       "       V1_T720   V2_T720   V3_T720  V1_T1440      V2_T1440  V3_T1440  \n",
       "4435 -0.000014  0.000002 -0.000080 -0.000033  1.314710e-07  0.000014  \n",
       "3018 -0.000048 -0.000003 -0.000017 -0.000019 -6.517970e-07 -0.000005  \n",
       "5455 -0.000031 -0.000003 -0.000179 -0.000061 -1.185640e-06 -0.000012  \n",
       "\n",
       "[3 rows x 59 columns]"
      ]
     },
     "metadata": {},
     "output_type": "display_data"
    },
    {
     "data": {
      "text/html": [
       "<div>\n",
       "<style scoped>\n",
       "    .dataframe tbody tr th:only-of-type {\n",
       "        vertical-align: middle;\n",
       "    }\n",
       "\n",
       "    .dataframe tbody tr th {\n",
       "        vertical-align: top;\n",
       "    }\n",
       "\n",
       "    .dataframe thead th {\n",
       "        text-align: right;\n",
       "    }\n",
       "</style>\n",
       "<table border=\"1\" class=\"dataframe\">\n",
       "  <thead>\n",
       "    <tr style=\"text-align: right;\">\n",
       "      <th></th>\n",
       "      <th>Min</th>\n",
       "      <th>Mean</th>\n",
       "      <th>Median</th>\n",
       "      <th>Max</th>\n",
       "    </tr>\n",
       "  </thead>\n",
       "  <tbody>\n",
       "    <tr>\n",
       "      <th>Th</th>\n",
       "      <td>0.049132</td>\n",
       "      <td>0.257289</td>\n",
       "      <td>3.117305e-01</td>\n",
       "      <td>0.430000</td>\n",
       "    </tr>\n",
       "    <tr>\n",
       "      <th>H</th>\n",
       "      <td>-676.912000</td>\n",
       "      <td>-66.645863</td>\n",
       "      <td>-1.962600e+01</td>\n",
       "      <td>12.429200</td>\n",
       "    </tr>\n",
       "    <tr>\n",
       "      <th>V1</th>\n",
       "      <td>-1.660930</td>\n",
       "      <td>-0.021988</td>\n",
       "      <td>-1.864930e-05</td>\n",
       "      <td>0.802749</td>\n",
       "    </tr>\n",
       "    <tr>\n",
       "      <th>V2</th>\n",
       "      <td>-0.263769</td>\n",
       "      <td>-0.000331</td>\n",
       "      <td>1.837060e-08</td>\n",
       "      <td>0.265775</td>\n",
       "    </tr>\n",
       "    <tr>\n",
       "      <th>V3</th>\n",
       "      <td>-1.086420</td>\n",
       "      <td>-0.002844</td>\n",
       "      <td>-2.684000e-05</td>\n",
       "      <td>0.777201</td>\n",
       "    </tr>\n",
       "  </tbody>\n",
       "</table>\n",
       "</div>"
      ],
      "text/plain": [
       "           Min       Mean        Median        Max\n",
       "Th    0.049132   0.257289  3.117305e-01   0.430000\n",
       "H  -676.912000 -66.645863 -1.962600e+01  12.429200\n",
       "V1   -1.660930  -0.021988 -1.864930e-05   0.802749\n",
       "V2   -0.263769  -0.000331  1.837060e-08   0.265775\n",
       "V3   -1.086420  -0.002844 -2.684000e-05   0.777201"
      ]
     },
     "metadata": {},
     "output_type": "display_data"
    },
    {
     "name": "stdout",
     "output_type": "stream",
     "text": [
      " For the entire simulation\n",
      " ========================= \n",
      "Time steps : [0, 5, 15, 30, 60, 120, 180, 240, 500, 720, 1440] \n",
      "Dimensions : {'x': (0.0, 50.0), 'y': (0.0, 20.0), 'z': (0.0, 21.0)} \n",
      "Matrix dims: x_vals(41,), z_vals(43,), X(43, 41), Z(43, 41), M(43, 41)\n",
      "\n",
      "\n",
      " Variables statistics:\n",
      " =====================\n"
     ]
    },
    {
     "data": {
      "text/html": [
       "<div>\n",
       "<style scoped>\n",
       "    .dataframe tbody tr th:only-of-type {\n",
       "        vertical-align: middle;\n",
       "    }\n",
       "\n",
       "    .dataframe tbody tr th {\n",
       "        vertical-align: top;\n",
       "    }\n",
       "\n",
       "    .dataframe thead th {\n",
       "        text-align: right;\n",
       "    }\n",
       "</style>\n",
       "<table border=\"1\" class=\"dataframe\">\n",
       "  <thead>\n",
       "    <tr style=\"text-align: right;\">\n",
       "      <th></th>\n",
       "      <th>Min</th>\n",
       "      <th>Mean</th>\n",
       "      <th>Median</th>\n",
       "      <th>Max</th>\n",
       "    </tr>\n",
       "  </thead>\n",
       "  <tbody>\n",
       "    <tr>\n",
       "      <th>Th</th>\n",
       "      <td>0.049132</td>\n",
       "      <td>0.257289</td>\n",
       "      <td>3.117305e-01</td>\n",
       "      <td>0.430000</td>\n",
       "    </tr>\n",
       "    <tr>\n",
       "      <th>H</th>\n",
       "      <td>-676.912000</td>\n",
       "      <td>-66.645863</td>\n",
       "      <td>-1.962600e+01</td>\n",
       "      <td>12.429200</td>\n",
       "    </tr>\n",
       "    <tr>\n",
       "      <th>V1</th>\n",
       "      <td>-1.660930</td>\n",
       "      <td>-0.021988</td>\n",
       "      <td>-1.864930e-05</td>\n",
       "      <td>0.802749</td>\n",
       "    </tr>\n",
       "    <tr>\n",
       "      <th>V2</th>\n",
       "      <td>-0.263769</td>\n",
       "      <td>-0.000331</td>\n",
       "      <td>1.837060e-08</td>\n",
       "      <td>0.265775</td>\n",
       "    </tr>\n",
       "    <tr>\n",
       "      <th>V3</th>\n",
       "      <td>-1.086420</td>\n",
       "      <td>-0.002844</td>\n",
       "      <td>-2.684000e-05</td>\n",
       "      <td>0.777201</td>\n",
       "    </tr>\n",
       "  </tbody>\n",
       "</table>\n",
       "</div>"
      ],
      "text/plain": [
       "           Min       Mean        Median        Max\n",
       "Th    0.049132   0.257289  3.117305e-01   0.430000\n",
       "H  -676.912000 -66.645863 -1.962600e+01  12.429200\n",
       "V1   -1.660930  -0.021988 -1.864930e-05   0.802749\n",
       "V2   -0.263769  -0.000331  1.837060e-08   0.265775\n",
       "V3   -1.086420  -0.002844 -2.684000e-05   0.777201"
      ]
     },
     "execution_count": 3,
     "metadata": {},
     "output_type": "execute_result"
    }
   ],
   "source": [
    "src = '../Datasets/H3D2_SandDitch0011'\n",
    "df = read_hydrus_data(folder=src, save_to_csv=False, read_velocities=True)\n",
    "display(df.sample(3), get_full_simulation_info(df))\n",
    "\n",
    "df_rotated = rotate_back(df, 2.2899, rotation_axis='y')\n",
    "get_full_simulation_info(df_rotated)"
   ]
  },
  {
   "cell_type": "markdown",
   "metadata": {},
   "source": [
    "## Testing the function at different cross section's locations"
   ]
  },
  {
   "cell_type": "code",
   "execution_count": 4,
   "metadata": {
    "ExecuteTime": {
     "end_time": "2019-11-21T10:08:17.316376Z",
     "start_time": "2019-11-21T10:08:00.839459Z"
    }
   },
   "outputs": [
    {
     "name": "stdout",
     "output_type": "stream",
     "text": [
      "For crossing at 0 cm:  {0: 0.025571972769141, 5: 0.0004753291096580985, 15: 0.00018896016402184313, 30: 7.727072209908137e-05, 60: 3.309034507075021e-05, 120: 0.01303980416895945, 180: 0.004550872299236267, 240: 0.0021772356412600663, 500: 0.00033972277613849965, 720: 0.00014726831267375894, 1440: 4.316112459134428e-05}\n",
      "For crossing at 5 cm:  {0: 0.0026500471571024404, 5: 0.00021522881875820385, 15: 7.493716867562261e-05, 30: 3.7636126744538804e-05, 60: 0.5607042408891991, 120: 0.01985819694909728, 180: 0.006212087996364215, 240: 0.002997331313775291, 500: 0.000569122772534766, 720: 0.00029228059571671344, 1440: 0.0001527151598097395}\n",
      "For crossing at 25 cm:  {0: 0.06793663233640436, 5: 0.0038722107011674497, 15: 4.187020516026141, 30: 5.1027670006902515, 60: 7.624927799110168, 120: 0.028884504285443646, 180: 0.009917116017407714, 240: 0.004928400461126036, 500: 0.0009190399167105156, 720: 0.00044090819064856757, 1440: 0.00014639422999429563}\n",
      "For crossing at 40 cm:  {0: 0.003005938342351712, 5: 7.468959022625585, 15: 14.406031518903308, 30: 14.852503449536263, 60: 15.056348001817707, 120: 0.05545100767090318, 180: 0.016814034540479944, 240: 0.007356884616903423, 500: 0.0006964372172643201, 720: 0.00012841496444513208, 1440: 4.731806275155862e-06}\n",
      "For crossing at 50 cm:  {0: 0.0030788018684812847, 5: 13.755568031586748, 15: 13.805302592217695, 30: 13.8466374828078, 60: 13.869340571563677, 120: 0.0020477978163028826, 180: 0.0003607794838176846, 240: 0.00021566747518063806, 500: 0.00012076481775008703, 720: 7.272059683076379e-05, 1440: 1.6658353838414046e-05}\n"
     ]
    }
   ],
   "source": [
    "for crossing in [0, 5, 25, 40, 50]:\n",
    "    print(f'For crossing at {crossing} cm: ', \n",
    "          get_window_time_volumes(df_rotated, crossing, 2, 21))"
   ]
  },
  {
   "cell_type": "markdown",
   "metadata": {},
   "source": [
    "## Modify the `get_window_time_volumes` function to remove negative velocities"
   ]
  },
  {
   "cell_type": "code",
   "execution_count": 45,
   "metadata": {
    "ExecuteTime": {
     "end_time": "2019-11-21T11:38:56.673939Z",
     "start_time": "2019-11-21T11:38:56.661998Z"
    }
   },
   "outputs": [],
   "source": [
    "def get_window_time_volumes(\n",
    "        df,\n",
    "        crosses,\n",
    "        region_length,\n",
    "        region_location,\n",
    "        location_is_start=False,  #the region_location =  region_end\n",
    "        section='x',\n",
    "        grid=0.5,\n",
    "        absolute_velocities=False,\n",
    "        filter_negatives=True\n",
    "        ):\n",
    "    '''\n",
    "    returns a dictionary of the volume passed in a specific region of a \n",
    "    specific cross-section.\n",
    "    requires:\n",
    "    df: a Hydrus dataframe\n",
    "    crosses: The location of the cross section at `section` 'x' for example\n",
    "    region_length: the height of the region\n",
    "    region_location: the end/start position of the region\n",
    "    location_is_start=False,  #the region_location =  region_end\n",
    "    section='x': the cross section axis\n",
    "    grid=0.5: the grid of the dataframe\n",
    "    absolute_velocities=False: if True: the direction of the velocity is neglected.\n",
    "    filter_negatives=True: if True: the negative values will be removed, they will\n",
    "        not been converted to zeros nor to their absolute balue, but totally\n",
    "        removed, in order not to be calculated in the mean function.\n",
    "    \n",
    "    '''\n",
    "    time_steps = get_available_timesteps(df)\n",
    "    section = section\n",
    "    # crosses = 50.\n",
    "    v_mask_cordinates = {\n",
    "        0: 'Moisture',\n",
    "        1: 'Head',\n",
    "        2.1: 'Vx',\n",
    "        2.2: 'Vy',\n",
    "        2.3: 'Vz'\n",
    "    }\n",
    "    plot_title=''\n",
    "#     plot_title=f\"A {crosses} cm {v_mask_cordinates[var]} cross-section \"\\\n",
    "#                 f\"in {section} direction at {time_step} minute\"\n",
    "    grid = grid\n",
    "    time_storage = {}\n",
    "    velocity={'x': 2.1, 'y': 2.2, 'z': 2.3}[section.lower()]\n",
    "    variables = [0, velocity]\n",
    "    for time_step in time_steps:\n",
    "        storage = {}\n",
    "        for var in variables:  #[0, 1, 2.1, 2.2, 2.3]:\n",
    "            storage[var] = draw_full_contour(\n",
    "                df,\n",
    "                variable=var,\n",
    "                time_step=time_step,\n",
    "                grid=grid,\n",
    "                crosses=crosses,\n",
    "                tol=10.,\n",
    "                section=section,\n",
    "                levels=None,\n",
    "                plot_title=plot_title,\n",
    "                return_arrays=True,\n",
    "                x_step=None,\n",
    "                z_step=None,\n",
    "                mirror_x=False,\n",
    "                mirror_z=False,\n",
    "                is2d=False,\n",
    "                output_the_contour=False,\n",
    "                is_axisymmetric=False,\n",
    "                return_figure_object=False)\n",
    "\n",
    "        # Moisture values\n",
    "        Y, Z, M, Lm = storage[0]\n",
    "        # Velocity in X direction values\n",
    "        _, _, Vx, Lv = storage[velocity]  # to get storage[2.1 if 'x']\n",
    "\n",
    "        # section = 'x'  # Commented not to make conflict by the above variables\n",
    "        y_length = get_full_dimensions(df)[{\n",
    "            'x': 'y',\n",
    "            'y': 'x',\n",
    "            'z': 'y'\n",
    "        }[section.lower()]]  # to get_full_dimensions(df)['y'] if 'x'\n",
    "\n",
    "        y_grids = Y.shape[0] - 1\n",
    "\n",
    "        if location_is_start:\n",
    "            region_start = region_location\n",
    "            region_end = region_start + region_length\n",
    "        else:\n",
    "            region_end = region_location\n",
    "            region_start = region_end - region_length\n",
    "\n",
    "\n",
    "#         ng = int(dregion_length / grid) + 1  # Number of grid points\n",
    "        grd_s, grd_e = int(region_start / grid), int(region_end / grid + 1)\n",
    "\n",
    "        # The cropped arrays\n",
    "        Mc, Vc = M[grd_s:grd_e, :], Vx[grd_s:grd_e, :]\n",
    "\n",
    "        # The product\n",
    "        MVc = Mc * Vc\n",
    "\n",
    "        # Area of the drain = 2*20 = 40 cm squared\n",
    "        A = region_length * (y_length[1] - y_length[0])\n",
    "\n",
    "        # The drainage volume =\n",
    "        if absolute_velocities:\n",
    "            vol = A * np.nanmean(np.abs(MVc))\n",
    "        else:\n",
    "            if filter_negatives:\n",
    "                # filter only negatives, but zeros are OK\n",
    "                MVc_positives = MVc[MVc>=0]\n",
    "                if MVc_positives.shape[0]>0:\n",
    "                    vol = A * np.nanmean(MVc_positives)\n",
    "                else:\n",
    "                    vol = 0\n",
    "            else:\n",
    "                vol = A * np.nanmean(MVc)\n",
    "\n",
    "        time_storage[time_step] = vol\n",
    "        \n",
    "    return time_storage"
   ]
  },
  {
   "cell_type": "code",
   "execution_count": 39,
   "metadata": {
    "ExecuteTime": {
     "end_time": "2019-11-21T11:08:23.839904Z",
     "start_time": "2019-11-21T11:08:23.834916Z"
    }
   },
   "outputs": [
    {
     "data": {
      "text/plain": [
       "array([[ True,  True],\n",
       "       [ True, False],\n",
       "       [False,  True],\n",
       "       [False, False]])"
      ]
     },
     "execution_count": 39,
     "metadata": {},
     "output_type": "execute_result"
    }
   ],
   "source": [
    "tt=np.meshgrid([True, False], [True, False])\n",
    "tt = np.array(tt).T.reshape(-1, 2)\n",
    "tt"
   ]
  },
  {
   "cell_type": "code",
   "execution_count": 46,
   "metadata": {
    "ExecuteTime": {
     "end_time": "2019-11-21T11:39:17.233469Z",
     "start_time": "2019-11-21T11:39:03.546070Z"
    }
   },
   "outputs": [
    {
     "name": "stdout",
     "output_type": "stream",
     "text": [
      "absolute_velocities=True, filter_negatives=True\n",
      "{0: 0.0026500471571024404, 5: 0.00021522881875820385, 15: 7.493716867562261e-05, 30: 3.7636126744538804e-05, 60: 0.5607042408891991, 120: 0.01985819694909728, 180: 0.006212087996364215, 240: 0.002997331313775291, 500: 0.000569122772534766, 720: 0.00029228059571671344, 1440: 0.0001527151598097395}\n",
      "absolute_velocities=True, filter_negatives=False\n",
      "{0: 0.0026500471571024404, 5: 0.00021522881875820385, 15: 7.493716867562261e-05, 30: 3.7636126744538804e-05, 60: 0.5607042408891991, 120: 0.01985819694909728, 180: 0.006212087996364215, 240: 0.002997331313775291, 500: 0.000569122772534766, 720: 0.00029228059571671344, 1440: 0.0001527151598097395}\n",
      "absolute_velocities=False, filter_negatives=True\n",
      "{0: 0.002905131849944536, 5: 0.00022077190363269515, 15: 7.955235072878304e-05, 30: 3.935868332236875e-05, 60: 0, 120: 0, 180: 0, 240: 0, 500: 0, 720: 0, 1440: 0}\n",
      "absolute_velocities=False, filter_negatives=False\n",
      "{0: 0.002650047047186614, 5: 0.00021339175512380908, 15: 7.330184585313407e-05, 30: 3.685738120218839e-05, 60: -0.5607042408891991, 120: -0.01985819694909728, 180: -0.006212087996364215, 240: -0.002997331313775291, 500: -0.000569122772534766, 720: -0.00029228059571671344, 1440: -0.0001527151598097395}\n"
     ]
    }
   ],
   "source": [
    "# Testing\n",
    "for i, j in tt:\n",
    "    print(f'absolute_velocities={i}, filter_negatives={j}')\n",
    "    pg = get_window_time_volumes(df_rotated, 5, 2, 21, \n",
    "                                 absolute_velocities=i,\n",
    "                                 filter_negatives=j)\n",
    "    print (pg)"
   ]
  },
  {
   "cell_type": "code",
   "execution_count": null,
   "metadata": {},
   "outputs": [],
   "source": []
  },
  {
   "cell_type": "markdown",
   "metadata": {},
   "source": [
    "## Apply the integration over the volume calculation"
   ]
  },
  {
   "cell_type": "code",
   "execution_count": 20,
   "metadata": {
    "ExecuteTime": {
     "end_time": "2019-11-21T10:42:28.977726Z",
     "start_time": "2019-11-21T10:42:27.272266Z"
    }
   },
   "outputs": [
    {
     "name": "stdout",
     "output_type": "stream",
     "text": [
      "{0: 0.0030788018684812847, 5: 13.755568031586748, 15: 13.805302592217695, 30: 13.8466374828078, 60: 13.869340571563677, 120: 0.0020477978163028826, 180: 0.0003607794838176846, 240: 0.00021566747518063806, 500: 0.00012076481775008703, 720: 7.272059683076379e-05, 1440: 1.6658353838414046e-05}\n"
     ]
    }
   ],
   "source": [
    "# The volume at the drainage part per timestep\n",
    "# it is at 50cm crossing of 'x' axis\n",
    "drainage = get_window_time_volumes(df_rotated, 50, 2, 21)\n",
    "print(drainage)"
   ]
  },
  {
   "cell_type": "code",
   "execution_count": 8,
   "metadata": {
    "ExecuteTime": {
     "end_time": "2019-11-21T10:16:44.445106Z",
     "start_time": "2019-11-21T10:16:44.440116Z"
    }
   },
   "outputs": [
    {
     "data": {
      "text/plain": [
       "array([[0.000, 0.003],\n",
       "       [5.000, 13.756],\n",
       "       [15.000, 13.805],\n",
       "       [30.000, 13.847],\n",
       "       [60.000, 13.869],\n",
       "       [120.000, 0.002],\n",
       "       [180.000, 0.000],\n",
       "       [240.000, 0.000],\n",
       "       [500.000, 0.000],\n",
       "       [720.000, 0.000],\n",
       "       [1440.000, 0.000]])"
      ]
     },
     "execution_count": 8,
     "metadata": {},
     "output_type": "execute_result"
    }
   ],
   "source": [
    "# convert to array\n",
    "drn_ary = np.array([(t, v) for t, v in drainage.items()])\n",
    "drn_ary"
   ]
  },
  {
   "cell_type": "code",
   "execution_count": 42,
   "metadata": {
    "ExecuteTime": {
     "end_time": "2019-11-21T11:34:46.915896Z",
     "start_time": "2019-11-21T11:34:46.909886Z"
    },
    "scrolled": true
   },
   "outputs": [
    {
     "data": {
      "text/plain": [
       "array([[5.000, 13.756],\n",
       "       [15.000, 13.805],\n",
       "       [30.000, 13.847],\n",
       "       [60.000, 13.869]])"
      ]
     },
     "execution_count": 42,
     "metadata": {},
     "output_type": "execute_result"
    }
   ],
   "source": [
    "test = drn_ary[drn_ary[:,1]>12,:]\n",
    "test"
   ]
  },
  {
   "cell_type": "code",
   "execution_count": 43,
   "metadata": {
    "ExecuteTime": {
     "end_time": "2019-11-21T11:35:03.008182Z",
     "start_time": "2019-11-21T11:35:03.003197Z"
    }
   },
   "outputs": [
    {
     "data": {
      "text/plain": [
       "array([], shape=(0, 2), dtype=float64)"
      ]
     },
     "execution_count": 43,
     "metadata": {},
     "output_type": "execute_result"
    }
   ],
   "source": [
    "test2 = drn_ary[drn_ary[:,1]>20,:]\n",
    "test2"
   ]
  },
  {
   "cell_type": "code",
   "execution_count": 44,
   "metadata": {
    "ExecuteTime": {
     "end_time": "2019-11-21T11:35:29.311594Z",
     "start_time": "2019-11-21T11:35:29.307605Z"
    }
   },
   "outputs": [
    {
     "data": {
      "text/plain": [
       "0"
      ]
     },
     "execution_count": 44,
     "metadata": {},
     "output_type": "execute_result"
    }
   ],
   "source": [
    "test2.shape[0]"
   ]
  },
  {
   "cell_type": "code",
   "execution_count": null,
   "metadata": {},
   "outputs": [],
   "source": []
  }
 ],
 "metadata": {
  "kernelspec": {
   "display_name": "Python 3",
   "language": "python",
   "name": "python3"
  },
  "language_info": {
   "codemirror_mode": {
    "name": "ipython",
    "version": 3
   },
   "file_extension": ".py",
   "mimetype": "text/x-python",
   "name": "python",
   "nbconvert_exporter": "python",
   "pygments_lexer": "ipython3",
   "version": "3.7.4"
  },
  "varInspector": {
   "cols": {
    "lenName": 16,
    "lenType": 16,
    "lenVar": 40
   },
   "kernels_config": {
    "python": {
     "delete_cmd_postfix": "",
     "delete_cmd_prefix": "del ",
     "library": "var_list.py",
     "varRefreshCmd": "print(var_dic_list())"
    },
    "r": {
     "delete_cmd_postfix": ") ",
     "delete_cmd_prefix": "rm(",
     "library": "var_list.r",
     "varRefreshCmd": "cat(var_dic_list()) "
    }
   },
   "types_to_exclude": [
    "module",
    "function",
    "builtin_function_or_method",
    "instance",
    "_Feature"
   ],
   "window_display": false
  }
 },
 "nbformat": 4,
 "nbformat_minor": 2
}
