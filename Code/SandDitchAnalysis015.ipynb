{
 "cells": [
  {
   "cell_type": "code",
   "execution_count": 1,
   "metadata": {
    "ExecuteTime": {
     "end_time": "2020-01-02T13:18:05.357940Z",
     "start_time": "2020-01-02T13:18:04.080335Z"
    }
   },
   "outputs": [],
   "source": [
    "import os\n",
    "import glob\n",
    "import shutil\n",
    "import pandas as pd\n",
    "import numpy as np\n",
    "import matplotlib.pyplot as plt\n",
    "\n",
    "from NesrHydrusAnalyst import *"
   ]
  },
  {
   "cell_type": "markdown",
   "metadata": {},
   "source": [
    "![title](../Assets/Domain.png)"
   ]
  },
  {
   "cell_type": "code",
   "execution_count": 2,
   "metadata": {
    "ExecuteTime": {
     "end_time": "2020-01-02T13:18:09.095319Z",
     "start_time": "2020-01-02T13:18:09.092327Z"
    }
   },
   "outputs": [],
   "source": [
    "extensions = ('', 'a', 'b', 'c', 'd', 'e')\n",
    "sources = [f'../Datasets/H3D2_SandDitch0014{x}' for x in extensions]"
   ]
  },
  {
   "cell_type": "code",
   "execution_count": 3,
   "metadata": {
    "ExecuteTime": {
     "end_time": "2020-01-02T13:18:10.747296Z",
     "start_time": "2020-01-02T13:18:10.226692Z"
    }
   },
   "outputs": [],
   "source": [
    "dfs = [\n",
    "    pd.read_csv(os.path.join(sources[x], 'Nesr', '1-Original_Grid.csv'))\n",
    "    for x in range(len(extensions))\n",
    "]"
   ]
  },
  {
   "cell_type": "code",
   "execution_count": 4,
   "metadata": {
    "ExecuteTime": {
     "end_time": "2020-01-01T11:44:10.070883Z",
     "start_time": "2020-01-01T11:44:09.989104Z"
    },
    "scrolled": true
   },
   "outputs": [
    {
     "data": {
      "text/plain": [
       "''"
      ]
     },
     "metadata": {},
     "output_type": "display_data"
    },
    {
     "data": {
      "text/html": [
       "<div>\n",
       "<style scoped>\n",
       "    .dataframe tbody tr th:only-of-type {\n",
       "        vertical-align: middle;\n",
       "    }\n",
       "\n",
       "    .dataframe tbody tr th {\n",
       "        vertical-align: top;\n",
       "    }\n",
       "\n",
       "    .dataframe thead th {\n",
       "        text-align: right;\n",
       "    }\n",
       "</style>\n",
       "<table border=\"1\" class=\"dataframe\">\n",
       "  <thead>\n",
       "    <tr style=\"text-align: right;\">\n",
       "      <th></th>\n",
       "      <th>n</th>\n",
       "      <th>x</th>\n",
       "      <th>y</th>\n",
       "      <th>z</th>\n",
       "      <th>Th_T0</th>\n",
       "      <th>Th_T5</th>\n",
       "      <th>Th_T15</th>\n",
       "      <th>Th_T30</th>\n",
       "      <th>Th_T60</th>\n",
       "      <th>Th_T120</th>\n",
       "      <th>...</th>\n",
       "      <th>V3_T720</th>\n",
       "      <th>V1_T1440</th>\n",
       "      <th>V2_T1440</th>\n",
       "      <th>V3_T1440</th>\n",
       "      <th>V1_T2160</th>\n",
       "      <th>V2_T2160</th>\n",
       "      <th>V3_T2160</th>\n",
       "      <th>V1_T2880</th>\n",
       "      <th>V2_T2880</th>\n",
       "      <th>V3_T2880</th>\n",
       "    </tr>\n",
       "  </thead>\n",
       "  <tbody>\n",
       "    <tr>\n",
       "      <th>0</th>\n",
       "      <td>1</td>\n",
       "      <td>7.5</td>\n",
       "      <td>30.0</td>\n",
       "      <td>19.25</td>\n",
       "      <td>0.15</td>\n",
       "      <td>0.150278</td>\n",
       "      <td>0.150805</td>\n",
       "      <td>0.151563</td>\n",
       "      <td>0.239586</td>\n",
       "      <td>0.417002</td>\n",
       "      <td>...</td>\n",
       "      <td>-0.000162</td>\n",
       "      <td>-0.000031</td>\n",
       "      <td>2.916750e-07</td>\n",
       "      <td>-0.000041</td>\n",
       "      <td>-0.000015</td>\n",
       "      <td>6.311460e-08</td>\n",
       "      <td>-0.00001</td>\n",
       "      <td>-0.000007</td>\n",
       "      <td>1.667550e-08</td>\n",
       "      <td>-0.000002</td>\n",
       "    </tr>\n",
       "  </tbody>\n",
       "</table>\n",
       "<p>1 rows × 69 columns</p>\n",
       "</div>"
      ],
      "text/plain": [
       "   n    x     y      z  Th_T0     Th_T5    Th_T15    Th_T30    Th_T60  \\\n",
       "0  1  7.5  30.0  19.25   0.15  0.150278  0.150805  0.151563  0.239586   \n",
       "\n",
       "    Th_T120  ...   V3_T720  V1_T1440      V2_T1440  V3_T1440  V1_T2160  \\\n",
       "0  0.417002  ... -0.000162 -0.000031  2.916750e-07 -0.000041 -0.000015   \n",
       "\n",
       "       V2_T2160  V3_T2160  V1_T2880      V2_T2880  V3_T2880  \n",
       "0  6.311460e-08  -0.00001 -0.000007  1.667550e-08 -0.000002  \n",
       "\n",
       "[1 rows x 69 columns]"
      ]
     },
     "metadata": {},
     "output_type": "display_data"
    },
    {
     "data": {
      "text/plain": [
       "'a'"
      ]
     },
     "metadata": {},
     "output_type": "display_data"
    },
    {
     "data": {
      "text/html": [
       "<div>\n",
       "<style scoped>\n",
       "    .dataframe tbody tr th:only-of-type {\n",
       "        vertical-align: middle;\n",
       "    }\n",
       "\n",
       "    .dataframe tbody tr th {\n",
       "        vertical-align: top;\n",
       "    }\n",
       "\n",
       "    .dataframe thead th {\n",
       "        text-align: right;\n",
       "    }\n",
       "</style>\n",
       "<table border=\"1\" class=\"dataframe\">\n",
       "  <thead>\n",
       "    <tr style=\"text-align: right;\">\n",
       "      <th></th>\n",
       "      <th>n</th>\n",
       "      <th>x</th>\n",
       "      <th>y</th>\n",
       "      <th>z</th>\n",
       "      <th>Th_T0</th>\n",
       "      <th>Th_T5</th>\n",
       "      <th>Th_T15</th>\n",
       "      <th>Th_T30</th>\n",
       "      <th>Th_T60</th>\n",
       "      <th>Th_T120</th>\n",
       "      <th>...</th>\n",
       "      <th>V3_T720</th>\n",
       "      <th>V1_T1440</th>\n",
       "      <th>V2_T1440</th>\n",
       "      <th>V3_T1440</th>\n",
       "      <th>V1_T2160</th>\n",
       "      <th>V2_T2160</th>\n",
       "      <th>V3_T2160</th>\n",
       "      <th>V1_T2880</th>\n",
       "      <th>V2_T2880</th>\n",
       "      <th>V3_T2880</th>\n",
       "    </tr>\n",
       "  </thead>\n",
       "  <tbody>\n",
       "    <tr>\n",
       "      <th>0</th>\n",
       "      <td>1</td>\n",
       "      <td>7.5</td>\n",
       "      <td>30.0</td>\n",
       "      <td>19.25</td>\n",
       "      <td>0.15</td>\n",
       "      <td>0.150279</td>\n",
       "      <td>0.150848</td>\n",
       "      <td>0.151986</td>\n",
       "      <td>0.327933</td>\n",
       "      <td>0.435693</td>\n",
       "      <td>...</td>\n",
       "      <td>-0.000171</td>\n",
       "      <td>-0.000021</td>\n",
       "      <td>2.702990e-07</td>\n",
       "      <td>-0.000037</td>\n",
       "      <td>-0.00001</td>\n",
       "      <td>5.287160e-08</td>\n",
       "      <td>-0.000009</td>\n",
       "      <td>-0.000005</td>\n",
       "      <td>1.310360e-08</td>\n",
       "      <td>-0.000002</td>\n",
       "    </tr>\n",
       "  </tbody>\n",
       "</table>\n",
       "<p>1 rows × 69 columns</p>\n",
       "</div>"
      ],
      "text/plain": [
       "   n    x     y      z  Th_T0     Th_T5    Th_T15    Th_T30    Th_T60  \\\n",
       "0  1  7.5  30.0  19.25   0.15  0.150279  0.150848  0.151986  0.327933   \n",
       "\n",
       "    Th_T120  ...   V3_T720  V1_T1440      V2_T1440  V3_T1440  V1_T2160  \\\n",
       "0  0.435693  ... -0.000171 -0.000021  2.702990e-07 -0.000037  -0.00001   \n",
       "\n",
       "       V2_T2160  V3_T2160  V1_T2880      V2_T2880  V3_T2880  \n",
       "0  5.287160e-08 -0.000009 -0.000005  1.310360e-08 -0.000002  \n",
       "\n",
       "[1 rows x 69 columns]"
      ]
     },
     "metadata": {},
     "output_type": "display_data"
    },
    {
     "data": {
      "text/plain": [
       "'b'"
      ]
     },
     "metadata": {},
     "output_type": "display_data"
    },
    {
     "data": {
      "text/html": [
       "<div>\n",
       "<style scoped>\n",
       "    .dataframe tbody tr th:only-of-type {\n",
       "        vertical-align: middle;\n",
       "    }\n",
       "\n",
       "    .dataframe tbody tr th {\n",
       "        vertical-align: top;\n",
       "    }\n",
       "\n",
       "    .dataframe thead th {\n",
       "        text-align: right;\n",
       "    }\n",
       "</style>\n",
       "<table border=\"1\" class=\"dataframe\">\n",
       "  <thead>\n",
       "    <tr style=\"text-align: right;\">\n",
       "      <th></th>\n",
       "      <th>n</th>\n",
       "      <th>x</th>\n",
       "      <th>y</th>\n",
       "      <th>z</th>\n",
       "      <th>Th_T0</th>\n",
       "      <th>Th_T5</th>\n",
       "      <th>Th_T15</th>\n",
       "      <th>Th_T30</th>\n",
       "      <th>Th_T60</th>\n",
       "      <th>Th_T120</th>\n",
       "      <th>...</th>\n",
       "      <th>V3_T720</th>\n",
       "      <th>V1_T1440</th>\n",
       "      <th>V2_T1440</th>\n",
       "      <th>V3_T1440</th>\n",
       "      <th>V1_T2160</th>\n",
       "      <th>V2_T2160</th>\n",
       "      <th>V3_T2160</th>\n",
       "      <th>V1_T2880</th>\n",
       "      <th>V2_T2880</th>\n",
       "      <th>V3_T2880</th>\n",
       "    </tr>\n",
       "  </thead>\n",
       "  <tbody>\n",
       "    <tr>\n",
       "      <th>0</th>\n",
       "      <td>1</td>\n",
       "      <td>7.5</td>\n",
       "      <td>30.0</td>\n",
       "      <td>19.25</td>\n",
       "      <td>0.15</td>\n",
       "      <td>0.150278</td>\n",
       "      <td>0.150804</td>\n",
       "      <td>0.15156</td>\n",
       "      <td>0.345353</td>\n",
       "      <td>0.421597</td>\n",
       "      <td>...</td>\n",
       "      <td>-0.000128</td>\n",
       "      <td>-0.000023</td>\n",
       "      <td>2.884690e-07</td>\n",
       "      <td>-0.000039</td>\n",
       "      <td>-0.000014</td>\n",
       "      <td>1.029490e-07</td>\n",
       "      <td>-0.000013</td>\n",
       "      <td>-0.000009</td>\n",
       "      <td>5.639120e-08</td>\n",
       "      <td>-0.000003</td>\n",
       "    </tr>\n",
       "  </tbody>\n",
       "</table>\n",
       "<p>1 rows × 69 columns</p>\n",
       "</div>"
      ],
      "text/plain": [
       "   n    x     y      z  Th_T0     Th_T5    Th_T15   Th_T30    Th_T60  \\\n",
       "0  1  7.5  30.0  19.25   0.15  0.150278  0.150804  0.15156  0.345353   \n",
       "\n",
       "    Th_T120  ...   V3_T720  V1_T1440      V2_T1440  V3_T1440  V1_T2160  \\\n",
       "0  0.421597  ... -0.000128 -0.000023  2.884690e-07 -0.000039 -0.000014   \n",
       "\n",
       "       V2_T2160  V3_T2160  V1_T2880      V2_T2880  V3_T2880  \n",
       "0  1.029490e-07 -0.000013 -0.000009  5.639120e-08 -0.000003  \n",
       "\n",
       "[1 rows x 69 columns]"
      ]
     },
     "metadata": {},
     "output_type": "display_data"
    },
    {
     "data": {
      "text/plain": [
       "'c'"
      ]
     },
     "metadata": {},
     "output_type": "display_data"
    },
    {
     "data": {
      "text/html": [
       "<div>\n",
       "<style scoped>\n",
       "    .dataframe tbody tr th:only-of-type {\n",
       "        vertical-align: middle;\n",
       "    }\n",
       "\n",
       "    .dataframe tbody tr th {\n",
       "        vertical-align: top;\n",
       "    }\n",
       "\n",
       "    .dataframe thead th {\n",
       "        text-align: right;\n",
       "    }\n",
       "</style>\n",
       "<table border=\"1\" class=\"dataframe\">\n",
       "  <thead>\n",
       "    <tr style=\"text-align: right;\">\n",
       "      <th></th>\n",
       "      <th>n</th>\n",
       "      <th>x</th>\n",
       "      <th>y</th>\n",
       "      <th>z</th>\n",
       "      <th>Th_T0</th>\n",
       "      <th>Th_T5</th>\n",
       "      <th>Th_T15</th>\n",
       "      <th>Th_T30</th>\n",
       "      <th>Th_T60</th>\n",
       "      <th>Th_T120</th>\n",
       "      <th>...</th>\n",
       "      <th>V3_T720</th>\n",
       "      <th>V1_T1440</th>\n",
       "      <th>V2_T1440</th>\n",
       "      <th>V3_T1440</th>\n",
       "      <th>V1_T2160</th>\n",
       "      <th>V2_T2160</th>\n",
       "      <th>V3_T2160</th>\n",
       "      <th>V1_T2880</th>\n",
       "      <th>V2_T2880</th>\n",
       "      <th>V3_T2880</th>\n",
       "    </tr>\n",
       "  </thead>\n",
       "  <tbody>\n",
       "    <tr>\n",
       "      <th>0</th>\n",
       "      <td>1</td>\n",
       "      <td>7.5</td>\n",
       "      <td>30.0</td>\n",
       "      <td>19.25</td>\n",
       "      <td>0.15</td>\n",
       "      <td>0.150278</td>\n",
       "      <td>0.150803</td>\n",
       "      <td>0.151532</td>\n",
       "      <td>0.266687</td>\n",
       "      <td>0.41654</td>\n",
       "      <td>...</td>\n",
       "      <td>-0.000167</td>\n",
       "      <td>-0.000025</td>\n",
       "      <td>3.654150e-07</td>\n",
       "      <td>-0.000046</td>\n",
       "      <td>-0.000015</td>\n",
       "      <td>1.256010e-07</td>\n",
       "      <td>-0.000014</td>\n",
       "      <td>-0.00001</td>\n",
       "      <td>6.433500e-08</td>\n",
       "      <td>-0.000003</td>\n",
       "    </tr>\n",
       "  </tbody>\n",
       "</table>\n",
       "<p>1 rows × 69 columns</p>\n",
       "</div>"
      ],
      "text/plain": [
       "   n    x     y      z  Th_T0     Th_T5    Th_T15    Th_T30    Th_T60  \\\n",
       "0  1  7.5  30.0  19.25   0.15  0.150278  0.150803  0.151532  0.266687   \n",
       "\n",
       "   Th_T120  ...   V3_T720  V1_T1440      V2_T1440  V3_T1440  V1_T2160  \\\n",
       "0  0.41654  ... -0.000167 -0.000025  3.654150e-07 -0.000046 -0.000015   \n",
       "\n",
       "       V2_T2160  V3_T2160  V1_T2880      V2_T2880  V3_T2880  \n",
       "0  1.256010e-07 -0.000014  -0.00001  6.433500e-08 -0.000003  \n",
       "\n",
       "[1 rows x 69 columns]"
      ]
     },
     "metadata": {},
     "output_type": "display_data"
    },
    {
     "data": {
      "text/plain": [
       "'d'"
      ]
     },
     "metadata": {},
     "output_type": "display_data"
    },
    {
     "data": {
      "text/html": [
       "<div>\n",
       "<style scoped>\n",
       "    .dataframe tbody tr th:only-of-type {\n",
       "        vertical-align: middle;\n",
       "    }\n",
       "\n",
       "    .dataframe tbody tr th {\n",
       "        vertical-align: top;\n",
       "    }\n",
       "\n",
       "    .dataframe thead th {\n",
       "        text-align: right;\n",
       "    }\n",
       "</style>\n",
       "<table border=\"1\" class=\"dataframe\">\n",
       "  <thead>\n",
       "    <tr style=\"text-align: right;\">\n",
       "      <th></th>\n",
       "      <th>n</th>\n",
       "      <th>x</th>\n",
       "      <th>y</th>\n",
       "      <th>z</th>\n",
       "      <th>Th_T0</th>\n",
       "      <th>Th_T5</th>\n",
       "      <th>Th_T15</th>\n",
       "      <th>Th_T30</th>\n",
       "      <th>Th_T60</th>\n",
       "      <th>Th_T120</th>\n",
       "      <th>...</th>\n",
       "      <th>V3_T720</th>\n",
       "      <th>V1_T1440</th>\n",
       "      <th>V2_T1440</th>\n",
       "      <th>V3_T1440</th>\n",
       "      <th>V1_T2160</th>\n",
       "      <th>V2_T2160</th>\n",
       "      <th>V3_T2160</th>\n",
       "      <th>V1_T2880</th>\n",
       "      <th>V2_T2880</th>\n",
       "      <th>V3_T2880</th>\n",
       "    </tr>\n",
       "  </thead>\n",
       "  <tbody>\n",
       "    <tr>\n",
       "      <th>0</th>\n",
       "      <td>1</td>\n",
       "      <td>7.5</td>\n",
       "      <td>30.0</td>\n",
       "      <td>19.25</td>\n",
       "      <td>0.15</td>\n",
       "      <td>0.150278</td>\n",
       "      <td>0.150803</td>\n",
       "      <td>0.151539</td>\n",
       "      <td>0.308406</td>\n",
       "      <td>0.412841</td>\n",
       "      <td>...</td>\n",
       "      <td>-0.000133</td>\n",
       "      <td>-0.000026</td>\n",
       "      <td>3.727310e-07</td>\n",
       "      <td>-0.000041</td>\n",
       "      <td>-0.000018</td>\n",
       "      <td>1.639530e-07</td>\n",
       "      <td>-0.000013</td>\n",
       "      <td>-0.000013</td>\n",
       "      <td>1.058690e-07</td>\n",
       "      <td>-0.000002</td>\n",
       "    </tr>\n",
       "  </tbody>\n",
       "</table>\n",
       "<p>1 rows × 69 columns</p>\n",
       "</div>"
      ],
      "text/plain": [
       "   n    x     y      z  Th_T0     Th_T5    Th_T15    Th_T30    Th_T60  \\\n",
       "0  1  7.5  30.0  19.25   0.15  0.150278  0.150803  0.151539  0.308406   \n",
       "\n",
       "    Th_T120  ...   V3_T720  V1_T1440      V2_T1440  V3_T1440  V1_T2160  \\\n",
       "0  0.412841  ... -0.000133 -0.000026  3.727310e-07 -0.000041 -0.000018   \n",
       "\n",
       "       V2_T2160  V3_T2160  V1_T2880      V2_T2880  V3_T2880  \n",
       "0  1.639530e-07 -0.000013 -0.000013  1.058690e-07 -0.000002  \n",
       "\n",
       "[1 rows x 69 columns]"
      ]
     },
     "metadata": {},
     "output_type": "display_data"
    },
    {
     "data": {
      "text/plain": [
       "'e'"
      ]
     },
     "metadata": {},
     "output_type": "display_data"
    },
    {
     "data": {
      "text/html": [
       "<div>\n",
       "<style scoped>\n",
       "    .dataframe tbody tr th:only-of-type {\n",
       "        vertical-align: middle;\n",
       "    }\n",
       "\n",
       "    .dataframe tbody tr th {\n",
       "        vertical-align: top;\n",
       "    }\n",
       "\n",
       "    .dataframe thead th {\n",
       "        text-align: right;\n",
       "    }\n",
       "</style>\n",
       "<table border=\"1\" class=\"dataframe\">\n",
       "  <thead>\n",
       "    <tr style=\"text-align: right;\">\n",
       "      <th></th>\n",
       "      <th>n</th>\n",
       "      <th>x</th>\n",
       "      <th>y</th>\n",
       "      <th>z</th>\n",
       "      <th>Th_T0</th>\n",
       "      <th>Th_T5</th>\n",
       "      <th>Th_T15</th>\n",
       "      <th>Th_T30</th>\n",
       "      <th>Th_T60</th>\n",
       "      <th>Th_T120</th>\n",
       "      <th>...</th>\n",
       "      <th>V3_T720</th>\n",
       "      <th>V1_T1440</th>\n",
       "      <th>V2_T1440</th>\n",
       "      <th>V3_T1440</th>\n",
       "      <th>V1_T2160</th>\n",
       "      <th>V2_T2160</th>\n",
       "      <th>V3_T2160</th>\n",
       "      <th>V1_T2880</th>\n",
       "      <th>V2_T2880</th>\n",
       "      <th>V3_T2880</th>\n",
       "    </tr>\n",
       "  </thead>\n",
       "  <tbody>\n",
       "    <tr>\n",
       "      <th>0</th>\n",
       "      <td>1</td>\n",
       "      <td>7.5</td>\n",
       "      <td>30.0</td>\n",
       "      <td>19.25</td>\n",
       "      <td>0.15</td>\n",
       "      <td>0.150278</td>\n",
       "      <td>0.150803</td>\n",
       "      <td>0.151532</td>\n",
       "      <td>0.270685</td>\n",
       "      <td>0.409786</td>\n",
       "      <td>...</td>\n",
       "      <td>-0.000157</td>\n",
       "      <td>-0.000028</td>\n",
       "      <td>4.269530e-07</td>\n",
       "      <td>-0.000046</td>\n",
       "      <td>-0.000018</td>\n",
       "      <td>1.844710e-07</td>\n",
       "      <td>-0.000014</td>\n",
       "      <td>-0.000013</td>\n",
       "      <td>1.153140e-07</td>\n",
       "      <td>-0.000002</td>\n",
       "    </tr>\n",
       "  </tbody>\n",
       "</table>\n",
       "<p>1 rows × 69 columns</p>\n",
       "</div>"
      ],
      "text/plain": [
       "   n    x     y      z  Th_T0     Th_T5    Th_T15    Th_T30    Th_T60  \\\n",
       "0  1  7.5  30.0  19.25   0.15  0.150278  0.150803  0.151532  0.270685   \n",
       "\n",
       "    Th_T120  ...   V3_T720  V1_T1440      V2_T1440  V3_T1440  V1_T2160  \\\n",
       "0  0.409786  ... -0.000157 -0.000028  4.269530e-07 -0.000046 -0.000018   \n",
       "\n",
       "       V2_T2160  V3_T2160  V1_T2880      V2_T2880  V3_T2880  \n",
       "0  1.844710e-07 -0.000014 -0.000013  1.153140e-07 -0.000002  \n",
       "\n",
       "[1 rows x 69 columns]"
      ]
     },
     "metadata": {},
     "output_type": "display_data"
    }
   ],
   "source": [
    "for x in range(len(extensions)):\n",
    "    display(extensions[x], dfs[x].head(1))"
   ]
  },
  {
   "cell_type": "code",
   "execution_count": 5,
   "metadata": {
    "ExecuteTime": {
     "end_time": "2020-01-01T11:44:37.767711Z",
     "start_time": "2020-01-01T11:44:10.071881Z"
    }
   },
   "outputs": [
    {
     "name": "stdout",
     "output_type": "stream",
     "text": [
      "For the cross section at  0.00 cm, The total passing flow = 0.0012 qcm\n",
      "For the cross section at 10.00 cm, The total passing flow = 0.0004 qcm\n",
      "For the cross section at 20.00 cm, The total passing flow = 0.0001 qcm\n",
      "For the cross section at 30.00 cm, The total passing flow = 0.0000 qcm\n",
      "For the cross section at 45.00 cm, The total passing flow = 1.4031 qcm\n"
     ]
    }
   ],
   "source": [
    "# Test at different cross sections\n",
    "for crossing in [0, 10, 20, 30, 45]:\n",
    "    flow = get_uneven_spans_area(\n",
    "        get_window_time_volumes(dfs[0], crossing, 2, 21))\n",
    "    print(\n",
    "        f'For the cross section at {crossing:5.2f} cm, The total passing flow = '\n",
    "        f'{flow:6.4f} qcm')"
   ]
  },
  {
   "cell_type": "code",
   "execution_count": 6,
   "metadata": {
    "ExecuteTime": {
     "end_time": "2020-01-01T11:45:04.071271Z",
     "start_time": "2020-01-01T11:44:37.768709Z"
    }
   },
   "outputs": [
    {
     "name": "stdout",
     "output_type": "stream",
     "text": [
      "0 {0: 8.751058876868021e-06, 5: 1.1941223110428759e-05, 15: 1.1611631446186417e-05, 30: 1.1115245450951835e-05, 60: 2.0242946097260184e-05, 120: 0, 180: 0, 240: 0, 500: 0, 720: 0, 1440: 0, 2160: 0, 2880: 0}\n",
      "10 {0: 8.40135052961272e-06, 5: 7.293921547864896e-06, 15: 6.3510473359366144e-06, 30: 7.904753271108225e-06, 60: 0, 120: 0, 180: 0, 240: 0, 500: 0, 720: 0, 1440: 0, 2160: 0, 2880: 0}\n",
      "20 {0: 3.4106665213263925e-06, 5: 3.505955787675151e-06, 15: 3.3746811266550436e-06, 30: 0, 60: 0, 120: 0, 180: 0, 240: 0, 500: 0, 720: 0, 1440: 0, 2160: 0, 2880: 0}\n",
      "30 {0: 3.971393518784156e-06, 5: 3.9764055618142594e-06, 15: 0, 30: 0, 60: 0, 120: 0, 180: 0, 240: 0, 500: 0, 720: 0, 1440: 0, 2160: 0, 2880: 0}\n",
      "45 {0: 7.153804092855782e-05, 5: 0.007912945388627794, 15: 0.06302413233998283, 30: 0.02384628607440419, 60: 0, 120: 0.002553791310335569, 180: 0.0012120805346935387, 240: 0.0005708074253331994, 500: 4.433719620395006e-05, 720: 0, 1440: 0, 2160: 0, 2880: 0}\n"
     ]
    }
   ],
   "source": [
    "# get_window_time_volumes(df_rotated, 50, 2, 21, return_dictionary=False)\n",
    "# Test at different cross sections\n",
    "for crossing in [0, 10, 20, 30, 45]:\n",
    "    flow = get_window_time_volumes(dfs[0], crossing, 2, 21)\n",
    "    print(crossing, flow)"
   ]
  },
  {
   "cell_type": "code",
   "execution_count": 13,
   "metadata": {
    "ExecuteTime": {
     "end_time": "2020-01-01T12:00:01.289719Z",
     "start_time": "2020-01-01T11:57:08.369928Z"
    }
   },
   "outputs": [
    {
     "name": "stdout",
     "output_type": "stream",
     "text": [
      "{'HYD14': [], 'HYD14a': [], 'HYD14b': [], 'HYD14c': [], 'HYD14d': [], 'HYD14e': []}\n",
      "\n",
      "HYD14: .....\n",
      "HYD14a: .....\n",
      "HYD14b: .....\n",
      "HYD14c: .....\n",
      "HYD14d: .....\n",
      "HYD14e: .....{'HYD14': [0.0011856139774245279, 0.000372658467823145, 5.2097056836301866e-05, 4.473456257041042e-05, 1.4030559436400127], 'HYD14a': [0.2122335125492113, 0.000734140970373274, 6.165486652125104e-05, 4.324023783474464e-05, 1.630680011958171], 'HYD14b': [0.38312949644299027, 0.00010484132453568986, 4.300594135805101e-05, 3.507367756049591e-05, 1.3677845448228825], 'HYD14c': [0.16636365741762557, 0.00025100692330797084, 5.1187263728173885e-05, 4.384836170815266e-05, 1.4974864564349026], 'HYD14d': [0.17246293188734413, 0.00011575480498236591, 4.2778970625748994e-05, 4.2497620660182154e-05, 1.570115007007512], 'HYD14e': [0.1637011205415325, 0.00020257134687484576, 4.992370678612738e-05, 4.374528629232242e-05, 1.6003884836047504]}\n"
     ]
    }
   ],
   "source": [
    "results={f'HYD14{x}':[] for x in extensions}\n",
    "print(results)\n",
    "for i, x in enumerate(extensions): \n",
    "    print (f'\\nHYD14{x}', end=': ')\n",
    "    for crossing in [0, 10, 20, 30, 45]:\n",
    "        flow = get_uneven_spans_area(\n",
    "            get_window_time_volumes(dfs[i], crossing, 2, 21))\n",
    "        results[f'HYD14{x}'].append(flow)\n",
    "        print('.', end='')\n",
    "print('\\n',results)"
   ]
  },
  {
   "cell_type": "code",
   "execution_count": 16,
   "metadata": {
    "ExecuteTime": {
     "end_time": "2020-01-01T12:03:13.450834Z",
     "start_time": "2020-01-01T12:03:13.439863Z"
    }
   },
   "outputs": [
    {
     "data": {
      "text/html": [
       "<div>\n",
       "<style scoped>\n",
       "    .dataframe tbody tr th:only-of-type {\n",
       "        vertical-align: middle;\n",
       "    }\n",
       "\n",
       "    .dataframe tbody tr th {\n",
       "        vertical-align: top;\n",
       "    }\n",
       "\n",
       "    .dataframe thead th {\n",
       "        text-align: right;\n",
       "    }\n",
       "</style>\n",
       "<table border=\"1\" class=\"dataframe\">\n",
       "  <thead>\n",
       "    <tr style=\"text-align: right;\">\n",
       "      <th></th>\n",
       "      <th>0</th>\n",
       "      <th>10</th>\n",
       "      <th>20</th>\n",
       "      <th>30</th>\n",
       "      <th>45</th>\n",
       "    </tr>\n",
       "  </thead>\n",
       "  <tbody>\n",
       "    <tr>\n",
       "      <th>HYD14</th>\n",
       "      <td>0.001186</td>\n",
       "      <td>0.000373</td>\n",
       "      <td>0.000052</td>\n",
       "      <td>0.000045</td>\n",
       "      <td>1.403056</td>\n",
       "    </tr>\n",
       "    <tr>\n",
       "      <th>HYD14a</th>\n",
       "      <td>0.212234</td>\n",
       "      <td>0.000734</td>\n",
       "      <td>0.000062</td>\n",
       "      <td>0.000043</td>\n",
       "      <td>1.630680</td>\n",
       "    </tr>\n",
       "    <tr>\n",
       "      <th>HYD14b</th>\n",
       "      <td>0.383129</td>\n",
       "      <td>0.000105</td>\n",
       "      <td>0.000043</td>\n",
       "      <td>0.000035</td>\n",
       "      <td>1.367785</td>\n",
       "    </tr>\n",
       "    <tr>\n",
       "      <th>HYD14c</th>\n",
       "      <td>0.166364</td>\n",
       "      <td>0.000251</td>\n",
       "      <td>0.000051</td>\n",
       "      <td>0.000044</td>\n",
       "      <td>1.497486</td>\n",
       "    </tr>\n",
       "    <tr>\n",
       "      <th>HYD14d</th>\n",
       "      <td>0.172463</td>\n",
       "      <td>0.000116</td>\n",
       "      <td>0.000043</td>\n",
       "      <td>0.000042</td>\n",
       "      <td>1.570115</td>\n",
       "    </tr>\n",
       "    <tr>\n",
       "      <th>HYD14e</th>\n",
       "      <td>0.163701</td>\n",
       "      <td>0.000203</td>\n",
       "      <td>0.000050</td>\n",
       "      <td>0.000044</td>\n",
       "      <td>1.600388</td>\n",
       "    </tr>\n",
       "  </tbody>\n",
       "</table>\n",
       "</div>"
      ],
      "text/plain": [
       "              0         10        20        30        45\n",
       "HYD14   0.001186  0.000373  0.000052  0.000045  1.403056\n",
       "HYD14a  0.212234  0.000734  0.000062  0.000043  1.630680\n",
       "HYD14b  0.383129  0.000105  0.000043  0.000035  1.367785\n",
       "HYD14c  0.166364  0.000251  0.000051  0.000044  1.497486\n",
       "HYD14d  0.172463  0.000116  0.000043  0.000042  1.570115\n",
       "HYD14e  0.163701  0.000203  0.000050  0.000044  1.600388"
      ]
     },
     "execution_count": 16,
     "metadata": {},
     "output_type": "execute_result"
    }
   ],
   "source": [
    "pd.DataFrame(results, index=[0, 10, 20, 30, 45]).T"
   ]
  },
  {
   "cell_type": "code",
   "execution_count": 31,
   "metadata": {
    "ExecuteTime": {
     "end_time": "2020-01-01T13:01:46.396160Z",
     "start_time": "2020-01-01T13:01:46.390176Z"
    }
   },
   "outputs": [],
   "source": [
    "def get_simulations_table(height, ends, cross_y=[0, 10, 20, 30, 45]):\n",
    "    results = {f'HYD14{x:2}': [] for x in extensions}\n",
    "    # print(results)\n",
    "    for i, x in enumerate(extensions):\n",
    "        print(f'\\nHYD14{x:2}', end=': ')\n",
    "        for crossing in cross_y:\n",
    "            flow = get_uneven_spans_area(\n",
    "                get_window_time_volumes(dfs[i], crossing, height, ends))\n",
    "            results[f'HYD14{x:2}'].append(flow)\n",
    "            print('.', end='')\n",
    "\n",
    "    return pd.DataFrame(results, index=cross_y).T"
   ]
  },
  {
   "cell_type": "markdown",
   "metadata": {},
   "source": [
    "### The runoff occurs from 25cm to 28cm in the X (height) direction\n",
    "which is ***3*** cm height, and ends in ***X=28***, thus put the values 3, 28"
   ]
  },
  {
   "cell_type": "code",
   "execution_count": 29,
   "metadata": {
    "ExecuteTime": {
     "end_time": "2020-01-01T12:37:23.088240Z",
     "start_time": "2020-01-01T12:34:34.221451Z"
    }
   },
   "outputs": [
    {
     "name": "stdout",
     "output_type": "stream",
     "text": [
      "\n",
      "HYD14  : .....\n",
      "HYD14a : .....\n",
      "HYD14b : .....\n",
      "HYD14c : .....\n",
      "HYD14d : .....\n",
      "HYD14e : ....."
     ]
    },
    {
     "data": {
      "text/html": [
       "<div>\n",
       "<style scoped>\n",
       "    .dataframe tbody tr th:only-of-type {\n",
       "        vertical-align: middle;\n",
       "    }\n",
       "\n",
       "    .dataframe tbody tr th {\n",
       "        vertical-align: top;\n",
       "    }\n",
       "\n",
       "    .dataframe thead th {\n",
       "        text-align: right;\n",
       "    }\n",
       "</style>\n",
       "<table border=\"1\" class=\"dataframe\">\n",
       "  <thead>\n",
       "    <tr style=\"text-align: right;\">\n",
       "      <th></th>\n",
       "      <th>0</th>\n",
       "      <th>10</th>\n",
       "      <th>20</th>\n",
       "      <th>30</th>\n",
       "      <th>45</th>\n",
       "    </tr>\n",
       "  </thead>\n",
       "  <tbody>\n",
       "    <tr>\n",
       "      <th>HYD14</th>\n",
       "      <td>0.007734</td>\n",
       "      <td>0.010754</td>\n",
       "      <td>0.006472</td>\n",
       "      <td>5.834794e-03</td>\n",
       "      <td>1.859802</td>\n",
       "    </tr>\n",
       "    <tr>\n",
       "      <th>HYD14a</th>\n",
       "      <td>0.009902</td>\n",
       "      <td>0.008123</td>\n",
       "      <td>0.005136</td>\n",
       "      <td>1.445291e-02</td>\n",
       "      <td>1.725950</td>\n",
       "    </tr>\n",
       "    <tr>\n",
       "      <th>HYD14b</th>\n",
       "      <td>0.008991</td>\n",
       "      <td>0.001090</td>\n",
       "      <td>0.002636</td>\n",
       "      <td>-3.552714e-15</td>\n",
       "      <td>2.549716</td>\n",
       "    </tr>\n",
       "    <tr>\n",
       "      <th>HYD14c</th>\n",
       "      <td>0.008246</td>\n",
       "      <td>0.003071</td>\n",
       "      <td>0.004163</td>\n",
       "      <td>4.446251e-03</td>\n",
       "      <td>2.673026</td>\n",
       "    </tr>\n",
       "    <tr>\n",
       "      <th>HYD14d</th>\n",
       "      <td>0.009824</td>\n",
       "      <td>0.001806</td>\n",
       "      <td>0.003304</td>\n",
       "      <td>4.392702e-03</td>\n",
       "      <td>2.525675</td>\n",
       "    </tr>\n",
       "    <tr>\n",
       "      <th>HYD14e</th>\n",
       "      <td>0.008502</td>\n",
       "      <td>0.002830</td>\n",
       "      <td>0.003831</td>\n",
       "      <td>4.618225e-03</td>\n",
       "      <td>2.517244</td>\n",
       "    </tr>\n",
       "  </tbody>\n",
       "</table>\n",
       "</div>"
      ],
      "text/plain": [
       "               0         10        20            30        45\n",
       "HYD14    0.007734  0.010754  0.006472  5.834794e-03  1.859802\n",
       "HYD14a   0.009902  0.008123  0.005136  1.445291e-02  1.725950\n",
       "HYD14b   0.008991  0.001090  0.002636 -3.552714e-15  2.549716\n",
       "HYD14c   0.008246  0.003071  0.004163  4.446251e-03  2.673026\n",
       "HYD14d   0.009824  0.001806  0.003304  4.392702e-03  2.525675\n",
       "HYD14e   0.008502  0.002830  0.003831  4.618225e-03  2.517244"
      ]
     },
     "execution_count": 29,
     "metadata": {},
     "output_type": "execute_result"
    }
   ],
   "source": [
    "runoff=get_simulations_table(3,28)\n",
    "runoff"
   ]
  },
  {
   "cell_type": "markdown",
   "metadata": {},
   "source": [
    "### The drainage occurs from 0cm to 2cm in the X (height) direction\n",
    "which is ***2*** cm height, and ends in ***X=2***, thus put the values 2, 2"
   ]
  },
  {
   "cell_type": "code",
   "execution_count": 32,
   "metadata": {
    "ExecuteTime": {
     "end_time": "2020-01-01T13:04:27.393338Z",
     "start_time": "2020-01-01T13:01:53.508366Z"
    }
   },
   "outputs": [
    {
     "name": "stdout",
     "output_type": "stream",
     "text": [
      "\n",
      "HYD14  : .....\n",
      "HYD14a : .....\n",
      "HYD14b : .....\n",
      "HYD14c : .....\n",
      "HYD14d : .....\n",
      "HYD14e : ....."
     ]
    },
    {
     "data": {
      "text/html": [
       "<div>\n",
       "<style scoped>\n",
       "    .dataframe tbody tr th:only-of-type {\n",
       "        vertical-align: middle;\n",
       "    }\n",
       "\n",
       "    .dataframe tbody tr th {\n",
       "        vertical-align: top;\n",
       "    }\n",
       "\n",
       "    .dataframe thead th {\n",
       "        text-align: right;\n",
       "    }\n",
       "</style>\n",
       "<table border=\"1\" class=\"dataframe\">\n",
       "  <thead>\n",
       "    <tr style=\"text-align: right;\">\n",
       "      <th></th>\n",
       "      <th>0</th>\n",
       "      <th>10</th>\n",
       "      <th>20</th>\n",
       "      <th>30</th>\n",
       "      <th>45</th>\n",
       "    </tr>\n",
       "  </thead>\n",
       "  <tbody>\n",
       "    <tr>\n",
       "      <th>HYD14</th>\n",
       "      <td>0.008869</td>\n",
       "      <td>0.003545</td>\n",
       "      <td>0.003297</td>\n",
       "      <td>0.003942</td>\n",
       "      <td>0.017578</td>\n",
       "    </tr>\n",
       "    <tr>\n",
       "      <th>HYD14a</th>\n",
       "      <td>0.008325</td>\n",
       "      <td>0.002957</td>\n",
       "      <td>0.003268</td>\n",
       "      <td>0.003701</td>\n",
       "      <td>0.017560</td>\n",
       "    </tr>\n",
       "    <tr>\n",
       "      <th>HYD14b</th>\n",
       "      <td>0.008916</td>\n",
       "      <td>0.005374</td>\n",
       "      <td>0.002709</td>\n",
       "      <td>0.004200</td>\n",
       "      <td>0.016053</td>\n",
       "    </tr>\n",
       "    <tr>\n",
       "      <th>HYD14c</th>\n",
       "      <td>0.008944</td>\n",
       "      <td>0.005369</td>\n",
       "      <td>0.002611</td>\n",
       "      <td>0.004161</td>\n",
       "      <td>0.016023</td>\n",
       "    </tr>\n",
       "    <tr>\n",
       "      <th>HYD14d</th>\n",
       "      <td>0.009023</td>\n",
       "      <td>0.007695</td>\n",
       "      <td>0.002408</td>\n",
       "      <td>0.003416</td>\n",
       "      <td>0.020143</td>\n",
       "    </tr>\n",
       "    <tr>\n",
       "      <th>HYD14e</th>\n",
       "      <td>0.009006</td>\n",
       "      <td>0.007634</td>\n",
       "      <td>0.002371</td>\n",
       "      <td>0.003384</td>\n",
       "      <td>0.019817</td>\n",
       "    </tr>\n",
       "  </tbody>\n",
       "</table>\n",
       "</div>"
      ],
      "text/plain": [
       "               0         10        20        30        45\n",
       "HYD14    0.008869  0.003545  0.003297  0.003942  0.017578\n",
       "HYD14a   0.008325  0.002957  0.003268  0.003701  0.017560\n",
       "HYD14b   0.008916  0.005374  0.002709  0.004200  0.016053\n",
       "HYD14c   0.008944  0.005369  0.002611  0.004161  0.016023\n",
       "HYD14d   0.009023  0.007695  0.002408  0.003416  0.020143\n",
       "HYD14e   0.009006  0.007634  0.002371  0.003384  0.019817"
      ]
     },
     "execution_count": 32,
     "metadata": {},
     "output_type": "execute_result"
    }
   ],
   "source": [
    "drainage=get_simulations_table(2,2)\n",
    "drainage"
   ]
  },
  {
   "cell_type": "code",
   "execution_count": 41,
   "metadata": {
    "ExecuteTime": {
     "end_time": "2020-01-01T13:11:23.928073Z",
     "start_time": "2020-01-01T13:08:42.600031Z"
    }
   },
   "outputs": [
    {
     "name": "stdout",
     "output_type": "stream",
     "text": [
      "\n",
      "HYD14  : .....\n",
      "HYD14a : .....\n",
      "HYD14b : .....\n",
      "HYD14c : .....\n",
      "HYD14d : .....\n",
      "HYD14e : ....."
     ]
    },
    {
     "data": {
      "text/html": [
       "<div>\n",
       "<style scoped>\n",
       "    .dataframe tbody tr th:only-of-type {\n",
       "        vertical-align: middle;\n",
       "    }\n",
       "\n",
       "    .dataframe tbody tr th {\n",
       "        vertical-align: top;\n",
       "    }\n",
       "\n",
       "    .dataframe thead th {\n",
       "        text-align: right;\n",
       "    }\n",
       "</style>\n",
       "<table border=\"1\" class=\"dataframe\">\n",
       "  <thead>\n",
       "    <tr style=\"text-align: right;\">\n",
       "      <th></th>\n",
       "      <th>0</th>\n",
       "      <th>10</th>\n",
       "      <th>20</th>\n",
       "      <th>30</th>\n",
       "      <th>45</th>\n",
       "    </tr>\n",
       "  </thead>\n",
       "  <tbody>\n",
       "    <tr>\n",
       "      <th>HYD14</th>\n",
       "      <td>0.452953</td>\n",
       "      <td>0.068754</td>\n",
       "      <td>0.070484</td>\n",
       "      <td>0.069754</td>\n",
       "      <td>6.589438</td>\n",
       "    </tr>\n",
       "    <tr>\n",
       "      <th>HYD14a</th>\n",
       "      <td>0.704083</td>\n",
       "      <td>0.070993</td>\n",
       "      <td>0.071471</td>\n",
       "      <td>0.077361</td>\n",
       "      <td>7.744806</td>\n",
       "    </tr>\n",
       "    <tr>\n",
       "      <th>HYD14b</th>\n",
       "      <td>0.709392</td>\n",
       "      <td>0.083915</td>\n",
       "      <td>0.057883</td>\n",
       "      <td>0.066464</td>\n",
       "      <td>10.285885</td>\n",
       "    </tr>\n",
       "    <tr>\n",
       "      <th>HYD14c</th>\n",
       "      <td>0.816944</td>\n",
       "      <td>0.084302</td>\n",
       "      <td>0.057979</td>\n",
       "      <td>0.070057</td>\n",
       "      <td>10.535683</td>\n",
       "    </tr>\n",
       "    <tr>\n",
       "      <th>HYD14d</th>\n",
       "      <td>0.665278</td>\n",
       "      <td>0.120157</td>\n",
       "      <td>0.056741</td>\n",
       "      <td>0.058485</td>\n",
       "      <td>10.554717</td>\n",
       "    </tr>\n",
       "    <tr>\n",
       "      <th>HYD14e</th>\n",
       "      <td>0.826682</td>\n",
       "      <td>0.118711</td>\n",
       "      <td>0.056868</td>\n",
       "      <td>0.060215</td>\n",
       "      <td>10.561917</td>\n",
       "    </tr>\n",
       "  </tbody>\n",
       "</table>\n",
       "</div>"
      ],
      "text/plain": [
       "               0         10        20        30         45\n",
       "HYD14    0.452953  0.068754  0.070484  0.069754   6.589438\n",
       "HYD14a   0.704083  0.070993  0.071471  0.077361   7.744806\n",
       "HYD14b   0.709392  0.083915  0.057883  0.066464  10.285885\n",
       "HYD14c   0.816944  0.084302  0.057979  0.070057  10.535683\n",
       "HYD14d   0.665278  0.120157  0.056741  0.058485  10.554717\n",
       "HYD14e   0.826682  0.118711  0.056868  0.060215  10.561917"
      ]
     },
     "execution_count": 41,
     "metadata": {},
     "output_type": "execute_result"
    }
   ],
   "source": [
    "all_boundary=get_simulations_table(28,28)\n",
    "all_boundary"
   ]
  },
  {
   "cell_type": "markdown",
   "metadata": {},
   "source": [
    "## Trying to calculate the input flux"
   ]
  },
  {
   "cell_type": "code",
   "execution_count": 45,
   "metadata": {
    "ExecuteTime": {
     "end_time": "2020-01-02T09:32:35.347700Z",
     "start_time": "2020-01-02T09:31:49.662662Z"
    }
   },
   "outputs": [
    {
     "name": "stdout",
     "output_type": "stream",
     "text": [
      "0 {0: 0, 5: 0.008887260779064295, 15: 0.003062682732840454, 30: 0.0012015116334282093, 60: 0.0007319582664570647, 120: 0.00046664216584788926, 180: 0.0002747088304759568, 240: 0.0001899397405573426, 500: 0, 720: 0, 1440: 0, 2160: 0, 2880: 1.3862506264931587e-06}\n",
      "2 {0: 0.014948324808639077, 5: 0.014904100053296057, 15: 0.00788523244664406, 30: 0.004682823245489453, 60: 0.003505454949672815, 120: 0.0022916332179433907, 180: 0.001408815479897362, 240: 0.0009903107496066917, 500: 0, 720: 0, 1440: 0, 2160: 0, 2880: 1.6567841987511203e-06}\n",
      "4 {0: 0.0019160796127418117, 5: 0.0024263070594276576, 15: 0.004956423932899088, 30: 0.0055557039704572445, 60: 0.004693294706293463, 120: 0.00261721320644879, 180: 0.0017926009437495961, 240: 0.0012506947475900189, 500: 0, 720: 0, 1440: 0, 2160: 0, 2880: 0}\n",
      "14 {0: 11.997073638275737, 5: 0.022193428199130356, 15: 0.007808311325513155, 30: 0.0037870995531659843, 60: 0.0016388065357349185, 120: 0.00042674522177478074, 180: 0, 240: 0, 500: 0, 720: 0, 1440: 0, 2160: 0, 2880: 0}\n",
      "20 {0: 0, 5: 0, 15: 0, 30: 0, 60: 0, 120: 0, 180: 0, 240: 0, 500: 0, 720: 0, 1440: 0, 2160: 0, 2880: 0}\n",
      "26 {0: 0, 5: 0, 15: 0, 30: 0, 60: 0, 120: 0, 180: 0, 240: 0, 500: 0, 720: 0, 1440: 2.2779552855945302e-05, 2160: 2.3973064881488632e-05, 2880: 9.99588162243134e-06}\n",
      "28 {0: 0, 5: 0, 15: 0, 30: 0, 60: 0, 120: 0, 180: 0, 240: 0, 500: 0, 720: 0, 1440: 0, 2160: 0, 2880: 2.205516129962768e-07}\n"
     ]
    }
   ],
   "source": [
    "# The flux is along Z axis in this problem\n",
    "z_crosses =[0, 2, 4, 14, 20, 26, 28]\n",
    "for cr in z_crosses:\n",
    "    print(cr, get_window_time_volumes(dfs[0], cr, 2, 2, section='z'))"
   ]
  },
  {
   "cell_type": "code",
   "execution_count": 4,
   "metadata": {
    "ExecuteTime": {
     "end_time": "2020-01-02T13:19:06.224517Z",
     "start_time": "2020-01-02T13:19:01.699643Z"
    }
   },
   "outputs": [
    {
     "name": "stdout",
     "output_type": "stream",
     "text": [
      "45 {0: 0.12560914693041964, 5: 0.029551240315664917, 15: 0.028860611719868923, 30: 0.01113305107145377, 60: 0.0001772236634439328, 120: 0.00202641273724477, 180: 0.001110699568425912, 240: 0.0004642503377462103, 500: 3.643047254694127e-05, 720: 1.5612131210126862e-05, 1440: 2.377013369080268e-06, 2160: 6.628860171147857e-07, 2880: 2.1724986209944367e-07}\n"
     ]
    }
   ],
   "source": [
    "# Through X direction, and the window is is Y and Z directions (all Y and section of Z)\n",
    "crossing = 45\n",
    "flow = get_window_time_volumes(dfs[0], crossing, 3,28, section='x')\n",
    "print(crossing, flow)"
   ]
  },
  {
   "cell_type": "code",
   "execution_count": 5,
   "metadata": {
    "ExecuteTime": {
     "end_time": "2020-01-02T13:19:38.762309Z",
     "start_time": "2020-01-02T13:19:06.342202Z"
    }
   },
   "outputs": [
    {
     "name": "stdout",
     "output_type": "stream",
     "text": [
      "('x', 'z', 45, 3, 28) {0: 0.814944566864318, 5: 0.1429602395936842, 15: 0.0040517871175384645, 30: 0, 60: 0, 120: 0.002347443470566647, 180: 0.0009655124229737946, 240: 3.518674308592387e-05, 500: 3.588541363922107e-05, 720: 1.6817372259815972e-05, 1440: 2.639078245728648e-06, 2160: 7.543640972500021e-07, 2880: 2.548405381316412e-07}\n",
      "('x', 'y', 45, 3, 30) {0: 0.06435769596369106, 5: 0.04893186118689956, 15: 0.019176618442864505, 30: 0.009447488873584082, 60: 0.0002241637972816165, 120: 0.0010339787806330012, 180: 0.0007156541614816649, 240: 0.0003496451974251148, 500: 1.9634997703916254e-05, 720: 8.800383690305001e-06, 1440: 1.3995843954028107e-06, 2160: 3.761224881812167e-07, 2880: 1.282442478416559e-07}\n",
      "('y', 'z', 30, 3, 28) {0: 0.7854744214296617, 5: 0.12198110007639049, 15: 0.13600871004840165, 30: 0.13099134723959704, 60: 0.14919180026611092, 120: 0.002626317482332404, 180: 0.0005450891008711925, 240: 0.0001747704305242918, 500: 3.4322561498095796e-05, 720: 1.5316236648264207e-05, 1440: 2.8559018436437316e-06, 2160: 9.394834106052766e-07, 2880: 5.293106692698325e-07}\n",
      "('y', 'x', 30, 3, 45) {0: 0.08116004581793117, 5: 0.22513170712823843, 15: 0.13471685350366727, 30: 0.09767335996849842, 60: 0.10393794615007353, 120: 0.0018978468819476288, 180: 0.0012867351832477098, 240: 0.0006796513550426088, 500: 0.0001636813866639168, 720: 8.846364250189885e-05, 1440: 2.825668505489779e-05, 2160: 1.2531304025535952e-05, 2880: 5.603101369965074e-06}\n",
      "('z', 'x', 28, 3, 45) {0: 0, 5: 0, 15: 0, 30: 0, 60: 0, 120: 0, 180: 0, 240: 0, 500: 0, 720: 0, 1440: 0, 2160: 0, 2880: 0}\n",
      "('z', 'y', 28, 3, 30) {0: 0, 5: 0, 15: 0, 30: 0, 60: 0, 120: 0, 180: 0, 240: 0, 500: 0, 720: 0, 1440: 0, 2160: 0, 2880: 2.533974349827578e-07}\n"
     ]
    }
   ],
   "source": [
    "# Take the last 3 cm of each setion\n",
    "data = (('x', 'z', 45, 3, 28), ('x', 'y', 45, 3, 30),\n",
    "        ('y', 'z', 30, 3, 28), ('y', 'x', 30, 3, 45),\n",
    "        ('z', 'x', 28, 3, 45), ('z', 'y', 28, 3, 30), )\n",
    "for case in data:\n",
    "    sec, prt, crossing, s_length, s_end = case\n",
    "    flow = get_window_time_volumes(dfs[0], crossing, s_length, s_end, section=sec, partition_axis=prt)\n",
    "    print(case, flow)"
   ]
  },
  {
   "cell_type": "code",
   "execution_count": 6,
   "metadata": {
    "ExecuteTime": {
     "end_time": "2020-01-02T13:21:24.299451Z",
     "start_time": "2020-01-02T13:19:38.886976Z"
    }
   },
   "outputs": [
    {
     "name": "stdout",
     "output_type": "stream",
     "text": [
      "Negatives are excluded Absolute values were taken ('Runoff', 'x', 'z', 45, 3, 28) 684.96837356992\n",
      "Negatives are excluded Absolute values were taken ('Drainage', 'x', 'z', 45, 2, 2) 0.7210751921867523\n",
      "Negatives are excluded Absolute values were taken ('Flux', 'z', 'x', 28, 3, 45) 2235.3876452290338\n",
      "Negatives are excluded Absolute values were taken ('Flux0', 'z', 'x', 28, 3, 3) 4.1088599378958675\n",
      "Negatives are excluded Absolute values were taken ('Evaporation', 'z', 'x', 28, 42, 42) 549.982139919597\n",
      "Negatives are excluded Values were taken with sign ('Runoff', 'x', 'z', 45, 3, 28) 1.7358156406026053\n",
      "Negatives are excluded Values were taken with sign ('Drainage', 'x', 'z', 45, 2, 2) 0.01640582312869202\n",
      "Negatives are excluded Values were taken with sign ('Flux', 'z', 'x', 28, 3, 45) 0.0\n",
      "Negatives are excluded Values were taken with sign ('Flux0', 'z', 'x', 28, 3, 3) 0.0001684624696135369\n",
      "Negatives are excluded Values were taken with sign ('Evaporation', 'z', 'x', 28, 42, 42) 14.730444664755908\n",
      "Negatives are included Absolute values were taken ('Runoff', 'x', 'z', 45, 3, 28) 684.96837356992\n",
      "Negatives are included Absolute values were taken ('Drainage', 'x', 'z', 45, 2, 2) 0.7210751921867523\n",
      "Negatives are included Absolute values were taken ('Flux', 'z', 'x', 28, 3, 45) 2235.3876452290338\n",
      "Negatives are included Absolute values were taken ('Flux0', 'z', 'x', 28, 3, 3) 4.1088599378958675\n",
      "Negatives are included Absolute values were taken ('Evaporation', 'z', 'x', 28, 42, 42) 549.982139919597\n",
      "Negatives are included Values were taken with sign ('Runoff', 'x', 'z', 45, 3, 28) -684.5490442230581\n",
      "Negatives are included Values were taken with sign ('Drainage', 'x', 'z', 45, 2, 2) -0.7005984399575186\n",
      "Negatives are included Values were taken with sign ('Flux', 'z', 'x', 28, 3, 45) -2235.3876452290338\n",
      "Negatives are included Values were taken with sign ('Flux0', 'z', 'x', 28, 3, 3) -4.108666620307787\n",
      "Negatives are included Values were taken with sign ('Evaporation', 'z', 'x', 28, 42, 42) -549.6353372765827\n"
     ]
    }
   ],
   "source": [
    "# Take the most important sections\n",
    "data = (('Runoff', 'x', 'z', 45, 3, 28),\n",
    "        ('Drainage', 'x', 'z', 45, 2, 2),\n",
    "        ('Flux', 'z', 'x', 28, 3, 45),\n",
    "        ('Flux0', 'z', 'x', 28, 3, 3),\n",
    "        ('Evaporation', 'z', 'x', 28, 42, 42),\n",
    "        )\n",
    "\n",
    "'''\n",
    "First results\n",
    "('Runoff', 'x', 'z', 45, 3, 28) 1.7358156406026053\n",
    "('Drainage', 'x', 'z', 45, 2, 2) 0.01640582312869202\n",
    "('Flux', 'z', 'x', 28, 3, 45) 0.\n",
    "\n",
    "'''\n",
    "\n",
    "for fltr_neg in (True, False):\n",
    "    negs = 'Negatives are excluded' if fltr_neg else 'Negatives are included'\n",
    "    for abs_vel in (True, False):\n",
    "        abss = 'Absolute values were taken' if abs_vel else 'Values were taken with sign'\n",
    "        for case in data:\n",
    "            caption, sec, prt, crossing, s_length, s_end = case\n",
    "            flow = get_uneven_spans_area(get_window_time_volumes(dfs[0], crossing, s_length, s_end,\n",
    "                                                                 section=sec, partition_axis=prt,\n",
    "                                                                 filter_negatives=fltr_neg,\n",
    "                                                                 absolute_velocities=abs_vel))\n",
    "            print(negs, abss, case, flow)"
   ]
  },
  {
   "cell_type": "code",
   "execution_count": null,
   "metadata": {},
   "outputs": [],
   "source": []
  }
 ],
 "metadata": {
  "kernelspec": {
   "display_name": "Python 3",
   "language": "python",
   "name": "python3"
  },
  "language_info": {
   "codemirror_mode": {
    "name": "ipython",
    "version": 3
   },
   "file_extension": ".py",
   "mimetype": "text/x-python",
   "name": "python",
   "nbconvert_exporter": "python",
   "pygments_lexer": "ipython3",
   "version": "3.7.4"
  },
  "varInspector": {
   "cols": {
    "lenName": 16,
    "lenType": 16,
    "lenVar": 40
   },
   "kernels_config": {
    "python": {
     "delete_cmd_postfix": "",
     "delete_cmd_prefix": "del ",
     "library": "var_list.py",
     "varRefreshCmd": "print(var_dic_list())"
    },
    "r": {
     "delete_cmd_postfix": ") ",
     "delete_cmd_prefix": "rm(",
     "library": "var_list.r",
     "varRefreshCmd": "cat(var_dic_list()) "
    }
   },
   "types_to_exclude": [
    "module",
    "function",
    "builtin_function_or_method",
    "instance",
    "_Feature"
   ],
   "window_display": false
  }
 },
 "nbformat": 4,
 "nbformat_minor": 2
}
