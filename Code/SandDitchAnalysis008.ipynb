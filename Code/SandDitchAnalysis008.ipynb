{
 "cells": [
  {
   "cell_type": "markdown",
   "metadata": {},
   "source": [
    "# Deriving the area under curve with different spans\n",
    "# (Simpson's rule alternative)"
   ]
  },
  {
   "cell_type": "code",
   "execution_count": 25,
   "metadata": {
    "ExecuteTime": {
     "end_time": "2019-11-20T07:47:09.221792Z",
     "start_time": "2019-11-20T07:47:09.217803Z"
    }
   },
   "outputs": [],
   "source": [
    "import numpy as np\n",
    "import pandas as pd\n",
    "import matplotlib.pyplot as plt\n",
    "\n",
    "from matplotlib.colors import LinearSegmentedColormap as LSCm\n",
    "# from scipy.interpolate import spline \n",
    "# spline is deprecated in scipy 0.19.0, use BSpline class instead.\n",
    "from scipy.interpolate import make_interp_spline, BSpline\n",
    "from scipy.ndimage.filters import gaussian_filter1d\n",
    "\n",
    "# from scipy.interpolate import griddata\n",
    "# from scipy.signal import savgol_filter\n",
    "# from scipy import integrate\n",
    "\n",
    "from NesrHydrusAnalyst import *"
   ]
  },
  {
   "cell_type": "code",
   "execution_count": 2,
   "metadata": {
    "ExecuteTime": {
     "end_time": "2019-11-20T07:20:59.545864Z",
     "start_time": "2019-11-20T07:20:59.539907Z"
    }
   },
   "outputs": [
    {
     "data": {
      "text/plain": [
       "array([[0.000, 3.600],\n",
       "       [25.000, 5.000],\n",
       "       [50.000, 6.500],\n",
       "       [75.000, 5.500],\n",
       "       [100.000, 7.300],\n",
       "       [125.000, 6.000],\n",
       "       [150.000, 4.000]])"
      ]
     },
     "execution_count": 2,
     "metadata": {},
     "output_type": "execute_result"
    }
   ],
   "source": [
    "data = np.array([[0, 3.6], [25, 5.], [50, 6.5], [75, 5.5], [100, 7.3],\n",
    "                 [125, 6.0], [150, 4.0]])\n",
    "data"
   ]
  },
  {
   "cell_type": "code",
   "execution_count": 14,
   "metadata": {
    "ExecuteTime": {
     "end_time": "2019-11-20T07:33:47.237453Z",
     "start_time": "2019-11-20T07:33:47.228479Z"
    }
   },
   "outputs": [
    {
     "data": {
      "text/plain": [
       "843.3333333333334"
      ]
     },
     "execution_count": 14,
     "metadata": {},
     "output_type": "execute_result"
    }
   ],
   "source": [
    "# calculate area by the original simpson's rule\n",
    "h=data[1, 0]-data[0, 0]\n",
    " \n",
    "borders = data[0, 1]+data[-1, 1]\n",
    "odd_rows = data[::2,1][1:-1]\n",
    "even_rows = data[1::2,1]\n",
    "area_simp = h/3*(borders + odd_rows.sum() * 2 + even_rows.sum() * 4)\n",
    "area_simp"
   ]
  },
  {
   "cell_type": "code",
   "execution_count": 74,
   "metadata": {
    "ExecuteTime": {
     "end_time": "2019-11-20T10:40:14.370505Z",
     "start_time": "2019-11-20T10:40:14.363523Z"
    }
   },
   "outputs": [],
   "source": [
    "def get_simpsons_area(data, h=None):\n",
    "    if h is None:\n",
    "        h=data[1, 0]-data[0, 0]\n",
    "    borders = data[0, 1]+data[-1, 1]\n",
    "    odd_rows = data[::2,1][1:-1]\n",
    "    even_rows = data[1::2,1]\n",
    "    area_simp = h/3*(borders + odd_rows.sum() * 2 + even_rows.sum() * 4)\n",
    "    return area_simp"
   ]
  },
  {
   "cell_type": "code",
   "execution_count": 75,
   "metadata": {
    "ExecuteTime": {
     "end_time": "2019-11-20T10:40:29.376076Z",
     "start_time": "2019-11-20T10:40:29.368097Z"
    }
   },
   "outputs": [
    {
     "data": {
      "text/plain": [
       "843.3333333333334"
      ]
     },
     "execution_count": 75,
     "metadata": {},
     "output_type": "execute_result"
    }
   ],
   "source": [
    "# Test\n",
    "data = np.array([[0, 3.6], [25, 5.], [50, 6.5], [75, 5.5], [100, 7.3],\n",
    "                 [125, 6.0], [150, 4.0]])\n",
    "get_simpsons_area(data)"
   ]
  },
  {
   "cell_type": "code",
   "execution_count": 67,
   "metadata": {
    "ExecuteTime": {
     "end_time": "2019-11-20T09:29:12.413046Z",
     "start_time": "2019-11-20T09:29:12.315309Z"
    }
   },
   "outputs": [
    {
     "data": {
      "text/plain": [
       "[<matplotlib.lines.Line2D at 0x1ee8939ba08>]"
      ]
     },
     "execution_count": 67,
     "metadata": {},
     "output_type": "execute_result"
    },
    {
     "data": {
      "image/png": "[encoded data removed]",
      "text/plain": [
       "<Figure size 432x288 with 1 Axes>"
      ]
     },
     "metadata": {
      "needs_background": "light"
     },
     "output_type": "display_data"
    }
   ],
   "source": [
    "# Direct dotted line \n",
    "X, Y = data[:,0], data[:,1]\n",
    "plt.xticks(np.arange(X.min(), X.max()+1, 25.0));\n",
    "plt.plot(X, Y, 'ro--')"
   ]
  },
  {
   "cell_type": "markdown",
   "metadata": {},
   "source": [
    "## Graphing The results"
   ]
  },
  {
   "cell_type": "markdown",
   "metadata": {},
   "source": [
    "### From Stackoverflow 1"
   ]
  },
  {
   "cell_type": "code",
   "execution_count": 69,
   "metadata": {
    "ExecuteTime": {
     "end_time": "2019-11-20T09:29:24.531432Z",
     "start_time": "2019-11-20T09:29:24.408762Z"
    }
   },
   "outputs": [
    {
     "data": {
      "image/png": "[encoded data removed]",
      "text/plain": [
       "<Figure size 432x288 with 1 Axes>"
      ]
     },
     "metadata": {
      "needs_background": "light"
     },
     "output_type": "display_data"
    }
   ],
   "source": [
    "# Smooth curve https://stackoverflow.com/a/5284038/5820024\n",
    "\n",
    "xnew = np.linspace(X.min(), X.max(), 300)\n",
    "\n",
    "spl = make_interp_spline(X, Y, k=3)  # type: BSpline\n",
    "\n",
    "power_smooth = spl(xnew)\n",
    "plt.xticks(np.arange(X.min(), X.max()+1, 25.0));\n",
    "plt.plot(xnew, power_smooth, 'r-');"
   ]
  },
  {
   "cell_type": "markdown",
   "metadata": {
    "heading_collapsed": true
   },
   "source": [
    "### From Stackoverflow 2"
   ]
  },
  {
   "cell_type": "code",
   "execution_count": 40,
   "metadata": {
    "ExecuteTime": {
     "end_time": "2019-11-20T07:56:47.761027Z",
     "start_time": "2019-11-20T07:56:47.655311Z"
    },
    "hidden": true
   },
   "outputs": [
    {
     "data": {
      "text/plain": [
       "[<matplotlib.lines.Line2D at 0x1ee87b46fc8>]"
      ]
     },
     "execution_count": 40,
     "metadata": {},
     "output_type": "execute_result"
    },
    {
     "data": {
      "image/png": "[encoded data removed]",
      "text/plain": [
       "<Figure size 432x288 with 1 Axes>"
      ]
     },
     "metadata": {
      "needs_background": "light"
     },
     "output_type": "display_data"
    }
   ],
   "source": [
    "# Very Bad\n",
    "ysmoothed = gaussian_filter1d(Y, sigma=1)\n",
    "plt.plot(X, ysmoothed, 'bo-')"
   ]
  },
  {
   "cell_type": "markdown",
   "metadata": {},
   "source": [
    "### Trials from Scipy examples"
   ]
  },
  {
   "cell_type": "code",
   "execution_count": 32,
   "metadata": {
    "ExecuteTime": {
     "end_time": "2019-11-20T07:51:04.445024Z",
     "start_time": "2019-11-20T07:51:04.336288Z"
    }
   },
   "outputs": [
    {
     "data": {
      "image/png": "[encoded data removed]",
      "text/plain": [
       "<Figure size 432x288 with 1 Axes>"
      ]
     },
     "metadata": {
      "needs_background": "light"
     },
     "output_type": "display_data"
    }
   ],
   "source": [
    "phi = np.linspace(0, 2.*np.pi, 40)\n",
    "r = 0.3 + np.cos(phi)\n",
    "x, y = r*np.cos(phi), r*np.sin(phi) \n",
    "plt.plot(x, y, 'bo-');"
   ]
  },
  {
   "cell_type": "code",
   "execution_count": 41,
   "metadata": {
    "ExecuteTime": {
     "end_time": "2019-11-20T08:01:59.390078Z",
     "start_time": "2019-11-20T08:01:59.245465Z"
    }
   },
   "outputs": [
    {
     "data": {
      "image/png": "[encoded data removed]",
      "text/plain": [
       "<Figure size 432x288 with 1 Axes>"
      ]
     },
     "metadata": {
      "needs_background": "light"
     },
     "output_type": "display_data"
    }
   ],
   "source": [
    "# Build an interpolating curve, parameterizing it by the angle\n",
    "# from scipy.interpolate import make_interp_spline\n",
    "spl = make_interp_spline(phi, np.c_[x, y])\n",
    "\n",
    "# Evaluate the interpolant on a finer grid (note that we transpose \n",
    "# the result to unpack it into a pair of x- and y-arrays)\n",
    "phi_new = np.linspace(0, 2.*np.pi, 100)\n",
    "x_new, y_new = spl(phi_new).T\n",
    "plt.plot(x_new, y_new, 'ro-');"
   ]
  },
  {
   "cell_type": "markdown",
   "metadata": {},
   "source": [
    "### Back to our data using this method"
   ]
  },
  {
   "cell_type": "code",
   "execution_count": 66,
   "metadata": {
    "ExecuteTime": {
     "end_time": "2019-11-20T09:29:00.904479Z",
     "start_time": "2019-11-20T09:29:00.799761Z"
    }
   },
   "outputs": [
    {
     "data": {
      "image/png": "[encoded data removed]",
      "text/plain": [
       "<Figure size 432x288 with 1 Axes>"
      ]
     },
     "metadata": {
      "needs_background": "light"
     },
     "output_type": "display_data"
    }
   ],
   "source": [
    "# Build an interpolating curve, parameterizing it by the angle\n",
    "# from scipy.interpolate import make_interp_spline\n",
    "spl = make_interp_spline(X, np.c_[X, Y])\n",
    "\n",
    "# Evaluate the interpolant on a finer grid (note that we transpose \n",
    "# the result to unpack it into a pair of x- and y-arrays)\n",
    "phi_new = np.linspace(X.min(), X.max(), 300)\n",
    "x_new, y_new = spl(phi_new).T\n",
    "plt.plot(X, Y, 'ro--')\n",
    "plt.xticks(np.arange(X.min(), X.max()+1, 25.0));\n",
    "plt.plot(x_new, y_new, 'r-');"
   ]
  },
  {
   "cell_type": "markdown",
   "metadata": {},
   "source": [
    "## Filling the area under curve\n",
    "https://stackoverflow.com/a/30580669/5820024"
   ]
  },
  {
   "cell_type": "code",
   "execution_count": 65,
   "metadata": {
    "ExecuteTime": {
     "end_time": "2019-11-20T09:28:47.218369Z",
     "start_time": "2019-11-20T09:28:47.120605Z"
    }
   },
   "outputs": [
    {
     "data": {
      "image/png": "[encoded data removed]",
      "text/plain": [
       "<Figure size 432x288 with 1 Axes>"
      ]
     },
     "metadata": {
      "needs_background": "light"
     },
     "output_type": "display_data"
    }
   ],
   "source": [
    "\n",
    "plt.plot(X, Y, 'ro')\n",
    "plt.plot(x_new, y_new, 'r-');\n",
    "plt.fill_between(x_new,y_new, alpha=0.1, color='r')\n",
    "plt.xticks(np.arange(X.min(), X.max()+1, 25.0));"
   ]
  },
  {
   "cell_type": "markdown",
   "metadata": {},
   "source": [
    "## Calculating area under curve for un-even spans"
   ]
  },
  {
   "cell_type": "code",
   "execution_count": 71,
   "metadata": {
    "ExecuteTime": {
     "end_time": "2019-11-20T09:31:25.337964Z",
     "start_time": "2019-11-20T09:31:25.333003Z"
    }
   },
   "outputs": [
    {
     "data": {
      "text/plain": [
       "array([[0.000, 3.600],\n",
       "       [20.000, 5.000],\n",
       "       [45.000, 6.500],\n",
       "       [60.000, 5.500],\n",
       "       [100.000, 7.300],\n",
       "       [130.000, 6.000],\n",
       "       [150.000, 4.000]])"
      ]
     },
     "execution_count": 71,
     "metadata": {},
     "output_type": "execute_result"
    }
   ],
   "source": [
    "dt = np.array([[0, 3.6], [20, 5.], [45, 6.5], [60, 5.5], [100, 7.3],\n",
    "                 [130, 6.0], [150, 4.0]])\n",
    "dt"
   ]
  },
  {
   "cell_type": "code",
   "execution_count": 72,
   "metadata": {
    "ExecuteTime": {
     "end_time": "2019-11-20T09:31:25.787165Z",
     "start_time": "2019-11-20T09:31:25.694387Z"
    }
   },
   "outputs": [
    {
     "data": {
      "text/plain": [
       "[<matplotlib.lines.Line2D at 0x1ee8954c188>]"
      ]
     },
     "execution_count": 72,
     "metadata": {},
     "output_type": "execute_result"
    },
    {
     "data": {
      "image/png": "[encoded data removed]",
      "text/plain": [
       "<Figure size 432x288 with 1 Axes>"
      ]
     },
     "metadata": {
      "needs_background": "light"
     },
     "output_type": "display_data"
    }
   ],
   "source": [
    "X, Y = dt[:,0], dt[:,1]\n",
    "plt.xticks(np.arange(X.min(), X.max()+1, 25.0));\n",
    "plt.plot(X, Y, 'ro--')"
   ]
  },
  {
   "cell_type": "markdown",
   "metadata": {},
   "source": [
    "## Getting the function of area under curve\n",
    "![From HYDRUS simulation](../Assets/area.png)\n",
    "\n",
    "$$y = ax^2 + bx +c$$\n",
    "\n",
    "\n",
    "$$area = \\int_{-h}^{k}ax^2+bx+c $$\n",
    "\n",
    "\n",
    "$$area = [\\frac{a}{3}x^3+\\frac{b}{2}x^2+cx]_{-h}^{k}$$\n",
    "\n",
    "\n",
    "$$area = \\frac{a}{3}((k)^3-(-h)^3)+\\frac{b}{2}((k)^2-(-h)^2)+c((k)-(-h))$$\n",
    "\n",
    "\n",
    "$$area = \\frac{a}{3}(k^3+h^3)+\\frac{b}{2}(k^2-h^2)+c(k+h)$$\n",
    "\n",
    "\n",
    "$$a=\\frac{h(y_2-y_1)-k(y_1-y_0)}{hk(k+h)}$$\n",
    "\n",
    "\n",
    "$$b=\\frac{h^2(y_2-y_1)+k^2(y_1-y_0)}{hk(k+h)}$$\n",
    "\n",
    "\n",
    "$$c=y_1$$"
   ]
  },
  {
   "cell_type": "code",
   "execution_count": 73,
   "metadata": {
    "ExecuteTime": {
     "end_time": "2019-11-20T10:37:39.407616Z",
     "start_time": "2019-11-20T10:37:39.393626Z"
    }
   },
   "outputs": [],
   "source": [
    "def get_parabola_area(y0, y1, y2, h, k):\n",
    "    '''\n",
    "    Returns the area under curve of a parabola who's equation \n",
    "    $$y = ax^2 + bx +c$$\n",
    "    from the point -h to k\n",
    "    where -h crosses at y0\n",
    "           0 crosses at y1\n",
    "           k crosses at y2\n",
    "    '''\n",
    "\n",
    "    y21 = y2 - y1\n",
    "    y10 = y1 - y0\n",
    "    khd = k * h * (k + h)\n",
    "    a = (h * y21 - k * y10) / khd\n",
    "    b = (h * h * y21 + k * k * y10) / khd\n",
    "    return a / 3 * (k**3 + h**3) + b / 2 * (k * k - h * h) + y1 * (k + h)"
   ]
  },
  {
   "cell_type": "code",
   "execution_count": 76,
   "metadata": {
    "ExecuteTime": {
     "end_time": "2019-11-20T10:41:12.226927Z",
     "start_time": "2019-11-20T10:41:12.222910Z"
    }
   },
   "outputs": [
    {
     "data": {
      "text/plain": [
       "250.83333333333337"
      ]
     },
     "execution_count": 76,
     "metadata": {},
     "output_type": "execute_result"
    }
   ],
   "source": [
    "# Sample uniform data\n",
    "data = np.array([[0, 3.6], [25, 5.], [50, 6.5]])\n",
    "get_simpsons_area(data)"
   ]
  },
  {
   "cell_type": "code",
   "execution_count": 77,
   "metadata": {
    "ExecuteTime": {
     "end_time": "2019-11-20T10:44:08.778738Z",
     "start_time": "2019-11-20T10:44:08.771757Z"
    }
   },
   "outputs": [
    {
     "data": {
      "text/plain": [
       "250.83333333333334"
      ]
     },
     "execution_count": 77,
     "metadata": {},
     "output_type": "execute_result"
    }
   ],
   "source": [
    "y0, y1, y2 = data[:, 1]\n",
    "x0, x1, x2 = data[:, 0]\n",
    "h, k = np.abs(x1 - x0), np.abs(x2 - x1)\n",
    "\n",
    "get_parabola_area(y0, y1, y2, h, k)"
   ]
  },
  {
   "cell_type": "markdown",
   "metadata": {},
   "source": [
    "# الحمد لله رب العالمين"
   ]
  },
  {
   "cell_type": "markdown",
   "metadata": {},
   "source": [
    "## Generalizing the function to calculate all the area"
   ]
  },
  {
   "cell_type": "code",
   "execution_count": 98,
   "metadata": {
    "ExecuteTime": {
     "end_time": "2019-11-20T11:31:03.171302Z",
     "start_time": "2019-11-20T11:31:03.163326Z"
    },
    "code_folding": []
   },
   "outputs": [
    {
     "name": "stdout",
     "output_type": "stream",
     "text": [
      "1 :  0.0 3.6 25.0 5.0 50.0 6.5 25.0 25.0 250.83333333333334\n",
      "3 :  50.0 6.5 75.0 5.5 100.0 7.3 25.0 25.0 298.3333333333333\n",
      "5 :  100.0 7.3 125.0 6.0 150.0 4.0 25.0 25.0 294.1666666666667\n",
      "\n",
      "The Total area is:  843.3333333333333\n"
     ]
    }
   ],
   "source": [
    "data = np.array([[0, 3.6], [25, 5.], [50, 6.5], [75, 5.5], [100, 7.3],\n",
    "                 [125, 6.0], [150, 4.0]])\n",
    "area =[]\n",
    "for i in range(1, data.shape[0]-1, 2):\n",
    "    y0, y1, y2 = data[i - 1:i + 2, 1]\n",
    "    x0, x1, x2 = data[i - 1:i + 2:, 0]\n",
    "    h, k = np.abs(x1 - x0), np.abs(x2 - x1)\n",
    "    part_area = get_parabola_area(y0, y1, y2, h, k)\n",
    "    print(i, \": \", x0, y0, x1, y1, x2, y2, h, k, part_area)\n",
    "    \n",
    "    area.append(part_area)\n",
    "print('\\nThe Total area is: ', sum(area))"
   ]
  },
  {
   "cell_type": "code",
   "execution_count": 110,
   "metadata": {
    "ExecuteTime": {
     "end_time": "2019-11-20T11:40:32.771405Z",
     "start_time": "2019-11-20T11:40:32.764423Z"
    }
   },
   "outputs": [],
   "source": [
    "# Create the function\n",
    "def get_uneven_spans_area(data, show_steps=False):\n",
    "    area = 0\n",
    "    # n must be of odd number and >= 3\n",
    "    n = data.shape[0]\n",
    "    if n % 2 == 0:\n",
    "        print (f\"ERROR! The number of points must be odd.\")\n",
    "        print (f\"You provided {n} rows and {data.shape[1]} columns\")\n",
    "        return None\n",
    "    if n < 3:\n",
    "        print (f\"ERROR! The number of points must be >= 3. \")\n",
    "        print (f\"You provided {n} rows and {data.shape[1]} columns\")\n",
    "    for i in range(1, data.shape[0] - 1, 2):\n",
    "        y0, y1, y2 = data[i - 1:i + 2, 1]\n",
    "        x0, x1, x2 = data[i - 1:i + 2:, 0]\n",
    "        h, k = np.abs(x1 - x0), np.abs(x2 - x1)\n",
    "        part_area = get_parabola_area(y0, y1, y2, h, k)\n",
    "        area += part_area\n",
    "        if show_steps:\n",
    "            print(i, \": \", x0, y0, x1, y1, x2, y2, h, k, part_area)\n",
    "    return area"
   ]
  },
  {
   "cell_type": "code",
   "execution_count": 101,
   "metadata": {
    "ExecuteTime": {
     "end_time": "2019-11-20T11:32:35.446995Z",
     "start_time": "2019-11-20T11:32:35.440986Z"
    }
   },
   "outputs": [
    {
     "name": "stdout",
     "output_type": "stream",
     "text": [
      "1 :  0.0 3.6 25.0 5.0 50.0 6.5 25.0 25.0 250.83333333333334\n",
      "3 :  50.0 6.5 75.0 5.5 100.0 7.3 25.0 25.0 298.3333333333333\n",
      "5 :  100.0 7.3 125.0 6.0 150.0 4.0 25.0 25.0 294.1666666666667\n"
     ]
    },
    {
     "data": {
      "text/plain": [
       "843.3333333333333"
      ]
     },
     "execution_count": 101,
     "metadata": {},
     "output_type": "execute_result"
    }
   ],
   "source": [
    "# test 1\n",
    "get_uneven_spans_area(data, show_steps=True)"
   ]
  },
  {
   "cell_type": "code",
   "execution_count": 102,
   "metadata": {
    "ExecuteTime": {
     "end_time": "2019-11-20T11:32:36.040519Z",
     "start_time": "2019-11-20T11:32:36.034535Z"
    }
   },
   "outputs": [
    {
     "name": "stdout",
     "output_type": "stream",
     "text": [
      "1 :  0.0 3.6 20.0 5.0 45.0 6.5 20.0 25.0 230.625\n",
      "3 :  45.0 6.5 60.0 5.5 100.0 7.3 15.0 40.0 323.2013888888889\n",
      "5 :  100.0 7.3 130.0 6.0 150.0 4.0 30.0 20.0 306.1111111111111\n"
     ]
    },
    {
     "data": {
      "text/plain": [
       "859.9375"
      ]
     },
     "execution_count": 102,
     "metadata": {},
     "output_type": "execute_result"
    }
   ],
   "source": [
    "# Get the different spans area\n",
    "get_uneven_spans_area(dt, show_steps=True)"
   ]
  },
  {
   "cell_type": "code",
   "execution_count": 99,
   "metadata": {
    "ExecuteTime": {
     "end_time": "2019-11-20T11:31:20.847209Z",
     "start_time": "2019-11-20T11:31:20.842222Z"
    }
   },
   "outputs": [
    {
     "data": {
      "text/plain": [
       "(7, 2)"
      ]
     },
     "execution_count": 99,
     "metadata": {},
     "output_type": "execute_result"
    }
   ],
   "source": [
    "data.shape"
   ]
  },
  {
   "cell_type": "code",
   "execution_count": 111,
   "metadata": {
    "ExecuteTime": {
     "end_time": "2019-11-20T11:40:36.458767Z",
     "start_time": "2019-11-20T11:40:36.454780Z"
    }
   },
   "outputs": [
    {
     "name": "stdout",
     "output_type": "stream",
     "text": [
      "ERROR! The number of points must be odd.\n",
      "You provided 6 rows and 2 columns\n"
     ]
    }
   ],
   "source": [
    "# Testing errors\n",
    "get_uneven_spans_area(dt[:-1, :])"
   ]
  },
  {
   "cell_type": "code",
   "execution_count": 112,
   "metadata": {
    "ExecuteTime": {
     "end_time": "2019-11-20T11:40:51.426349Z",
     "start_time": "2019-11-20T11:40:51.422359Z"
    }
   },
   "outputs": [
    {
     "name": "stdout",
     "output_type": "stream",
     "text": [
      "ERROR! The number of points must be odd.\n",
      "You provided 2 rows and 2 columns\n"
     ]
    }
   ],
   "source": [
    "get_uneven_spans_area(dt[:2, :])"
   ]
  },
  {
   "cell_type": "code",
   "execution_count": 113,
   "metadata": {
    "ExecuteTime": {
     "end_time": "2019-11-20T11:41:12.176052Z",
     "start_time": "2019-11-20T11:41:12.172062Z"
    }
   },
   "outputs": [
    {
     "data": {
      "text/plain": [
       "553.8263888888889"
      ]
     },
     "execution_count": 113,
     "metadata": {},
     "output_type": "execute_result"
    }
   ],
   "source": [
    "get_uneven_spans_area(dt[:5, :])"
   ]
  },
  {
   "cell_type": "code",
   "execution_count": null,
   "metadata": {},
   "outputs": [],
   "source": []
  }
 ],
 "metadata": {
  "kernelspec": {
   "display_name": "Python 3",
   "language": "python",
   "name": "python3"
  },
  "language_info": {
   "codemirror_mode": {
    "name": "ipython",
    "version": 3
   },
   "file_extension": ".py",
   "mimetype": "text/x-python",
   "name": "python",
   "nbconvert_exporter": "python",
   "pygments_lexer": "ipython3",
   "version": "3.7.4"
  },
  "varInspector": {
   "cols": {
    "lenName": 16,
    "lenType": 16,
    "lenVar": 40
   },
   "kernels_config": {
    "python": {
     "delete_cmd_postfix": "",
     "delete_cmd_prefix": "del ",
     "library": "var_list.py",
     "varRefreshCmd": "print(var_dic_list())"
    },
    "r": {
     "delete_cmd_postfix": ") ",
     "delete_cmd_prefix": "rm(",
     "library": "var_list.r",
     "varRefreshCmd": "cat(var_dic_list()) "
    }
   },
   "types_to_exclude": [
    "module",
    "function",
    "builtin_function_or_method",
    "instance",
    "_Feature"
   ],
   "window_display": false
  }
 },
 "nbformat": 4,
 "nbformat_minor": 2
}
