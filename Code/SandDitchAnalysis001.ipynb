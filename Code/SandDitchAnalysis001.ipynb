{
 "cells": [
  {
   "cell_type": "code",
   "execution_count": 1,
   "metadata": {
    "ExecuteTime": {
     "end_time": "2019-07-27T20:38:10.032390Z",
     "start_time": "2019-07-27T20:38:10.023393Z"
    },
    "pycharm": {
     "is_executing": false
    }
   },
   "outputs": [],
   "source": [
    "print(5+2)"
   ]
  },
  {
   "cell_type": "code",
   "execution_count": 2,
   "metadata": {
    "ExecuteTime": {
     "end_time": "2019-07-27T20:38:11.599423Z",
     "start_time": "2019-07-27T20:38:10.036386Z"
    },
    "pycharm": {
     "is_executing": false,
     "name": "#%%\n"
    }
   },
   "outputs": [],
   "source": [
    "import os\n",
    "import glob\n",
    "import shutil\n",
    "import pandas as pd\n",
    "import numpy as np\n",
    "import matplotlib.pyplot as plt\n",
    "from matplotlib.colors import LinearSegmentedColormap as LSCm\n",
    "from scipy.interpolate import griddata\n",
    "from scipy.signal import savgol_filter\n",
    "from scipy import integrate\n"
   ]
  },
  {
   "cell_type": "code",
   "execution_count": 3,
   "metadata": {
    "ExecuteTime": {
     "end_time": "2019-07-27T20:38:11.638400Z",
     "start_time": "2019-07-27T20:38:11.602420Z"
    },
    "pycharm": {
     "is_executing": false,
     "name": "#%%\n"
    }
   },
   "outputs": [],
   "source": [
    "from NesrHydrusAnalyst import *"
   ]
  },
  {
   "cell_type": "code",
   "execution_count": 4,
   "metadata": {
    "ExecuteTime": {
     "end_time": "2019-07-27T20:38:11.662385Z",
     "start_time": "2019-07-27T20:38:11.640397Z"
    }
   },
   "outputs": [],
   "source": [
    "def draw_full_contour(data_frame,variable=0, time_step=180, grid= 0.5, \n",
    "                      crosses=35., tol=10., section= 'x', levels=None,\n",
    "                      plot_title=\"ElNesr cross sectional contour map\",\n",
    "                      return_arrays=True, x_step=None, z_step=None,\n",
    "                      mirror_x=False, mirror_z=False, is2d=False, \n",
    "                      output_the_contour=True, is_axisymmetric=False,\n",
    "                      return_figure_object=False):\n",
    "    \n",
    "    '''\n",
    "    Either (1) set the return_arrays to True and use on right \n",
    "                hand side of equal sign, \n",
    "    OR     (2) set the return_arrays to False and use the function as is.\n",
    "    Examples:\n",
    "    (1)\n",
    "       arrays = draw_full_contour(data_frame,variable, time_step, grid, \n",
    "                                   crosses, tol, section)\n",
    "       It will draws the chart AND sets arrays=X, Z, M, levels\n",
    "    (2)\n",
    "       draw_full_contour(data_frame,variable, time_step, grid, crosses, \n",
    "                           tol, section, return_arrays=False)    \n",
    "    '''\n",
    "#     print('is2d=', is2d)\n",
    "    X, Z, M, x_vals, z_vals = get_grid_values(data_frame, variable, \n",
    "                                              time_step, grid, crosses, \n",
    "                                              tol, section, is2d=is2d,\n",
    "                                             is_axisymmetric=is_axisymmetric)\n",
    "    # print(x_vals.shape, z_vals.shape, X.shape, Z.shape, M.shape)\n",
    "    if levels is None:\n",
    "        levels = get_legend_range(np.nanmin(M),np.nanmax(M))#np.arange(0.15, 0.42, 0.03)\n",
    "\n",
    "    mn, mx = np.nanmin(M),np.nanmax(M)\n",
    "    # print (mx,mn, mx-mn)\n",
    "    if mx - mn < 0.000000001:\n",
    "        print('For the requested contour map of {}'.format(plot_title), end='. ')\n",
    "        print (\"The map has one value only ({}), no contour map will be drawn.\".\n",
    "               format(mn))\n",
    "        can_draw_figure=False\n",
    "    else:\n",
    "        can_draw_figure=True\n",
    "\n",
    "    if not output_the_contour and not return_figure_object:\n",
    "        fig = None\n",
    "    else:\n",
    "        if can_draw_figure:\n",
    "            fig = draw_contour(X, Z, M, levels, plot_title, x_step, z_step,\n",
    "                             mirror_x, mirror_z, return_figure_object);\n",
    "        else:\n",
    "            fig = None\n",
    "\n",
    "#     exit()\n",
    "    if return_arrays:\n",
    "        if output_the_contour:\n",
    "            if return_figure_object:\n",
    "                return X, Z, M, levels, fig\n",
    "            else: # return_figure_object=False\n",
    "                display(fig)\n",
    "                # fig.show()\n",
    "                return X, Z, M, levels\n",
    "        else:  #output_the_contour=False\n",
    "            if return_figure_object:\n",
    "                return X, Z, M, levels, fig\n",
    "            else: # return_figure_object=False\n",
    "                return X, Z, M, levels\n",
    "    else:  #return_arrays=False\n",
    "        if output_the_contour:\n",
    "            if return_figure_object:\n",
    "                return fig\n",
    "            else: # return_figure_object=False\n",
    "                display(fig)\n",
    "                # fig.show()\n",
    "        else:  #output_the_contour=False\n",
    "            if return_figure_object:\n",
    "                return fig"
   ]
  },
  {
   "cell_type": "code",
   "execution_count": 15,
   "metadata": {
    "ExecuteTime": {
     "end_time": "2019-07-27T20:48:28.651217Z",
     "start_time": "2019-07-27T20:48:28.618238Z"
    }
   },
   "outputs": [],
   "source": [
    "def draw_contour(X, Z, M, levels=None, \n",
    "                 plot_title=\"ElNesr cross sectional contour map\",\n",
    "                x_step=10., z_step=25., mirror_x=False, mirror_z=False,\n",
    "                return_figure_object=False):\n",
    "    '''\n",
    "    \n",
    "    '''\n",
    "#     print('mir_X draw_contour: ', mirror_x)\n",
    "    fig = plt.figure(num=None, figsize=(18, 7), dpi=80, facecolor='w', edgecolor='k');\n",
    "    origin = 'lower'\n",
    "    \n",
    "    if levels is None:\n",
    "#         print(M.min(), M.max())\n",
    "        try:\n",
    "#             levels = get_legend_range(M.min(), M.max())#np.arange(0.15, 0.42, 0.03)\n",
    "            levels = get_legend_range(np.nanmin(M),np.nanmax(M))#np.arange(0.15, 0.42, 0.03)\n",
    "        except:\n",
    "            levels = get_legend_range(-.15, 0.15)\n",
    "        \n",
    "#     CS_lines = plt.contour (X, Z, M, levels, cmap=plt.cm.Accent_r,\n",
    "#                             linewidths=(2,), origin=origin, extend='both')\n",
    "#     CS_lines = plt.contour (X, Z, M, levels, cmap=plt.cm.Accent_r,\n",
    "#                             linewidths=(0.25,), origin=origin, extend='both')\n",
    "    CS_lines = plt.contour (X, Z, M, levels, cmap=plt.cm.Accent_r,\n",
    "                            linewidths=(0.25,), origin=origin, extend='both')\n",
    "    \n",
    "    CS_fill  = plt.contourf(X, Z, M, levels, cmap=plt.cm.YlGn, \n",
    "                            origin=origin, extend='both')\n",
    "    \n",
    "    CS_fill.cmap.set_under('oldlace')\n",
    "    CS_fill.cmap.set_over('darkslategrey')\n",
    "    plt.title(plot_title)\n",
    "    plt.ylabel(\"Depth (cm)\")\n",
    "    cols = plt.cm.Accent_r(CS_lines.norm(CS_lines.levels))\n",
    "    #plt.clabel(CS_lines, linewidths=4, fmt='%2.2f', fontsize='x-large', \n",
    "    plt.clabel(CS_lines, fmt='%2.2f', fontsize='x-large', \n",
    "               colors=cols, inline=True, inline_spacing=10)\n",
    "    plt.colorbar(CS_fill)\n",
    "#     print(Z.min(), Z.max(), X.min(), X.max())\n",
    "#     print(plt.xlim)\n",
    "\n",
    "    def adjust_max_and_min(_min, _max, _step):\n",
    "        nn, xx, ss = _min, _max, _step\n",
    "        if xx <= 0.:\n",
    "            nn, xx = xx, nn\n",
    "            if ss>0:\n",
    "                ss = -ss\n",
    "        return nn,xx, ss\n",
    "        \n",
    "    def adjust_axis_labels(_min, _max, _step):\n",
    "        nn, xx, ss = adjust_max_and_min(_min, _max, _step)\n",
    "\n",
    "        x_list = np.arange(nn,xx, ss)\n",
    "        if abs(x_list[-1]-xx)>3: # The last number is far enough from \n",
    "                                 # the maximum element\n",
    "            x_list = np.hstack([x_list, xx])\n",
    "        else:  # The last number is too close to the maximum element\n",
    "            x_list = np.hstack([x_list[:-1], xx])\n",
    "        return x_list\n",
    "\n",
    "    def adjust_mirrored_labels(_min, _max, _step):\n",
    "#         print(_min, _max, _step)\n",
    "        nn, xx, ss = adjust_max_and_min(_min, _max, _step)\n",
    "#         print(nn, xx, ss)\n",
    "        x_mid=(xx-nn)/2.\n",
    "#         print(x_mid)\n",
    "        \n",
    "        if x_mid < 0:\n",
    "            right_list = adjust_axis_labels(min(x_mid, xx), max(x_mid, xx), ss)\n",
    "#             print('Right list',right_list)\n",
    "            left_list = right_list - x_mid\n",
    "#             print('left List',left_list)\n",
    "            right_list = x_mid - right_list \n",
    "#             print('Right list2',right_list)\n",
    "            \n",
    "            left_list.sort()\n",
    "#             print('left List2', left_list)\n",
    "\n",
    "            label_list = np.hstack([left_list[:-1], right_list])\n",
    "#             print('Label list',label_list)\n",
    "            \n",
    "            real_list =x_mid-label_list \n",
    "#             print('Real list',real_list)\n",
    "            label_list=label_list[::-1]\n",
    "#             print('Label list3',label_list)\n",
    "            return real_list, label_list\n",
    "        elif x_mid > 0:\n",
    "            right_list = adjust_axis_labels(x_mid, xx, ss)\n",
    "#             print('Right list',right_list)\n",
    "            left_list = 2 * x_mid - right_list\n",
    "#             print(left_list)\n",
    "            left_list.sort()\n",
    "#             print(left_list)\n",
    "            real_list = np.hstack([left_list[:-1], right_list])\n",
    "#             print(real_list)\n",
    "            label_list =real_list - x_mid\n",
    "#             print(label_list)\n",
    "            label_list =tuple(['{:3.1f}'.format(x) for x in label_list])\n",
    "#             print(label_list)\n",
    "            return real_list, label_list\n",
    "        else:\n",
    "            real_list, label_list = None, None\n",
    "            return real_list, label_list\n",
    "            \n",
    "        \n",
    "        \n",
    "#     print('mir_X draw_contour2: ', mirror_x, 'x_step: ', x_step)\n",
    "    if mirror_x:\n",
    "        if x_step is not None:\n",
    "            ticks, labels = adjust_mirrored_labels(X.min(),X.max(), x_step)\n",
    "#             print(ticks, labels)\n",
    "            plt.xticks(ticks, labels)\n",
    "    else: # No Mirroring\n",
    "        if x_step is not None:\n",
    "            plt.xticks(adjust_axis_labels(X.min(),X.max(), x_step))\n",
    "\n",
    "    if mirror_z:\n",
    "        if z_step is not None:\n",
    "            ticks, labels = adjust_mirrored_labels(Z.min(),Z.max(), z_step)\n",
    "            plt.yticks(ticks, labels)\n",
    "    else: # No Mirroring\n",
    "        if z_step is not None:\n",
    "            plt.yticks(adjust_axis_labels(Z.min(),Z.max(), z_step))\n",
    "#     ax=plt.axes()\n",
    "    ax = plt.gca()\n",
    "    ax.grid(True, zorder=0)\n",
    "#     plt.axes().xaxis.grid(True, zorder=0)\n",
    "#     plt.axes().yaxis.grid(True, zorder=0)\n",
    "    # plt.colorbar(CS_lines)\n",
    "    if return_figure_object:\n",
    "        return fig\n",
    "    else:\n",
    "        plt.show()"
   ]
  },
  {
   "cell_type": "code",
   "execution_count": 5,
   "metadata": {
    "ExecuteTime": {
     "end_time": "2019-07-27T20:38:11.683370Z",
     "start_time": "2019-07-27T20:38:11.665382Z"
    },
    "pycharm": {
     "name": "#%%\n"
    }
   },
   "outputs": [],
   "source": [
    "src = '../Datasets/sample3d'"
   ]
  },
  {
   "cell_type": "code",
   "execution_count": 6,
   "metadata": {
    "ExecuteTime": {
     "end_time": "2019-07-27T20:38:43.309885Z",
     "start_time": "2019-07-27T20:38:11.687370Z"
    }
   },
   "outputs": [
    {
     "name": "stdout",
     "output_type": "stream",
     "text": [
      "x_vals(201,), z_vals(251,), X(251, 201), Z(251, 201), M(251, 201)\n"
     ]
    }
   ],
   "source": [
    "# tests get_grid_values\n",
    "data_frame= read_hydrus_data(folder=src, save_to_csv=False)\n",
    "v=0\n",
    "X, Z, M, x_vals, z_vals = get_grid_values(data_frame,variable=v)\n",
    "print('x_vals{}, z_vals{}, X{}, Z{}, M{}'.format(x_vals.shape, \n",
    "                                                 z_vals.shape, X.shape, \n",
    "                                                 Z.shape, M.shape))"
   ]
  },
  {
   "cell_type": "code",
   "execution_count": 7,
   "metadata": {
    "ExecuteTime": {
     "end_time": "2019-07-27T20:38:43.323876Z",
     "start_time": "2019-07-27T20:38:43.312883Z"
    }
   },
   "outputs": [
    {
     "data": {
      "text/plain": [
       "[0, 15, 60, 120, 180, 360, 720, 1440]"
      ]
     },
     "execution_count": 7,
     "metadata": {},
     "output_type": "execute_result"
    }
   ],
   "source": [
    "get_available_timesteps(data_frame)"
   ]
  },
  {
   "cell_type": "code",
   "execution_count": 8,
   "metadata": {
    "ExecuteTime": {
     "end_time": "2019-07-27T20:38:43.348860Z",
     "start_time": "2019-07-27T20:38:43.328873Z"
    }
   },
   "outputs": [
    {
     "data": {
      "text/plain": [
       "{'x': (0.0, 70.0), 'y': (0.0, 100.0), 'z': (-125.0, 0.0)}"
      ]
     },
     "execution_count": 8,
     "metadata": {},
     "output_type": "execute_result"
    }
   ],
   "source": [
    "get_full_dimensions(data_frame)"
   ]
  },
  {
   "cell_type": "code",
   "execution_count": 9,
   "metadata": {
    "ExecuteTime": {
     "end_time": "2019-07-27T20:38:43.368849Z",
     "start_time": "2019-07-27T20:38:43.350859Z"
    }
   },
   "outputs": [
    {
     "data": {
      "text/plain": [
       "array([0.230, 0.240, 0.250, 0.260, 0.270, 0.280, 0.290, 0.300, 0.310,\n",
       "       0.320, 0.330, 0.340, 0.350])"
      ]
     },
     "execution_count": 9,
     "metadata": {},
     "output_type": "execute_result"
    }
   ],
   "source": [
    "get_legend_range(M.min(), M.max())"
   ]
  },
  {
   "cell_type": "code",
   "execution_count": 18,
   "metadata": {
    "ExecuteTime": {
     "end_time": "2019-07-27T20:49:34.142774Z",
     "start_time": "2019-07-27T20:49:26.685369Z"
    }
   },
   "outputs": [
    {
     "data": {
      "image/png": "[encoded data removed]",
      "text/plain": [
       "<Figure size 1440x560 with 2 Axes>"
      ]
     },
     "metadata": {},
     "output_type": "display_data"
    },
    {
     "data": {
      "text/plain": [
       "None"
      ]
     },
     "metadata": {},
     "output_type": "display_data"
    }
   ],
   "source": [
    "# testing draw_full_contour function\n",
    "# data_frame_test = read_hydrus_data(save_to_csv=False)\n",
    "variable   = 0 # Theta\n",
    "time_step  = 180\n",
    "grid       = 0.5 # cm\n",
    "crosses    = 35.  #cm0)]\n",
    "tol        = 10.\n",
    "section    ='y'\n",
    "\n",
    "# Either (1) set the return_arrays to True and use on right hand side of equal sign, \n",
    "# OR     (2) set the return_arrays to False and use the function as is.\n",
    "\n",
    "# (1)\n",
    "# arrays = draw_full_contour(data_frame_test,variable, time_step, \n",
    "#                            grid, crosses, tol, section)\n",
    "# (2)\n",
    "# draw_full_contour(data_frame_test,variable, time_step, \n",
    "draw_full_contour(data_frame,variable, time_step, \n",
    "                  grid, crosses, tol, section, \n",
    "                  return_arrays=False, \n",
    "                  x_step=12, z_step=10, \n",
    "                  mirror_x=True, mirror_z=False)"
   ]
  },
  {
   "cell_type": "code",
   "execution_count": null,
   "metadata": {
    "ExecuteTime": {
     "end_time": "2019-07-27T20:39:15.549331Z",
     "start_time": "2019-07-27T20:39:15.311476Z"
    }
   },
   "outputs": [],
   "source": []
  },
  {
   "cell_type": "code",
   "execution_count": null,
   "metadata": {},
   "outputs": [],
   "source": []
  }
 ],
 "metadata": {
  "kernelspec": {
   "display_name": "Python 3",
   "language": "python",
   "name": "python3"
  },
  "language_info": {
   "codemirror_mode": {
    "name": "ipython",
    "version": 3
   },
   "file_extension": ".py",
   "mimetype": "text/x-python",
   "name": "python",
   "nbconvert_exporter": "python",
   "pygments_lexer": "ipython3",
   "version": "3.7.3"
  },
  "pycharm": {
   "stem_cell": {
    "cell_type": "raw",
    "metadata": {
     "collapsed": false
    },
    "source": []
   }
  }
 },
 "nbformat": 4,
 "nbformat_minor": 1
}
