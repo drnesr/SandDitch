{
 "cells": [
  {
   "cell_type": "code",
   "execution_count": 2,
   "metadata": {
    "ExecuteTime": {
     "end_time": "2019-12-30T10:41:30.178988Z",
     "start_time": "2019-12-30T10:41:27.136135Z"
    }
   },
   "outputs": [],
   "source": [
    "import os\n",
    "import glob\n",
    "import shutil\n",
    "import pandas as pd\n",
    "import numpy as np\n",
    "import matplotlib.pyplot as plt\n",
    "\n",
    "from NesrHydrusAnalyst import *"
   ]
  },
  {
   "cell_type": "markdown",
   "metadata": {},
   "source": [
    "# Comparing files\n",
    "- /Nesr/1-Original_Grid.csv\n",
    "- /Nesr/2-Original_PrettyGrid.csv\n",
    "- /Nesr/3-Atm_A_level.csv\n",
    "- /Nesr/4-MassBalance.csv\n",
    "- /Nesr/5-Simulation_info.csv\n",
    "- /Nesr/6-BoundaryData.csv\n",
    "- /Nesr/7-MaterialsData.csv"
   ]
  },
  {
   "cell_type": "code",
   "execution_count": 3,
   "metadata": {
    "ExecuteTime": {
     "end_time": "2019-12-30T10:41:31.108541Z",
     "start_time": "2019-12-30T10:41:31.105524Z"
    }
   },
   "outputs": [],
   "source": [
    "sources = [\n",
    "    f'../Datasets/H3D2_SandDitch0014{x}' for x in ('', 'a', 'b', 'c', 'd', 'e')\n",
    "]"
   ]
  },
  {
   "cell_type": "markdown",
   "metadata": {
    "heading_collapsed": true
   },
   "source": [
    "## Working with `2-Original_PrettyGrid.csv`"
   ]
  },
  {
   "cell_type": "code",
   "execution_count": 7,
   "metadata": {
    "ExecuteTime": {
     "end_time": "2019-12-30T10:11:26.909386Z",
     "start_time": "2019-12-30T10:11:26.674995Z"
    },
    "hidden": true
   },
   "outputs": [
    {
     "data": {
      "text/html": [
       "<div>\n",
       "<style scoped>\n",
       "    .dataframe tbody tr th:only-of-type {\n",
       "        vertical-align: middle;\n",
       "    }\n",
       "\n",
       "    .dataframe tbody tr th {\n",
       "        vertical-align: top;\n",
       "    }\n",
       "\n",
       "    .dataframe thead th {\n",
       "        text-align: right;\n",
       "    }\n",
       "</style>\n",
       "<table border=\"1\" class=\"dataframe\">\n",
       "  <thead>\n",
       "    <tr style=\"text-align: right;\">\n",
       "      <th></th>\n",
       "      <th>n</th>\n",
       "      <th>x</th>\n",
       "      <th>y</th>\n",
       "      <th>z</th>\n",
       "      <th>Time</th>\n",
       "      <th>H</th>\n",
       "      <th>Th</th>\n",
       "      <th>V1</th>\n",
       "      <th>V2</th>\n",
       "      <th>V3</th>\n",
       "    </tr>\n",
       "  </thead>\n",
       "  <tbody>\n",
       "    <tr>\n",
       "      <th>0</th>\n",
       "      <td>1</td>\n",
       "      <td>7.5</td>\n",
       "      <td>30.0</td>\n",
       "      <td>19.25</td>\n",
       "      <td>0</td>\n",
       "      <td>-2104.020</td>\n",
       "      <td>0.150000</td>\n",
       "      <td>-2.814030e-08</td>\n",
       "      <td>0.000001</td>\n",
       "      <td>-0.000010</td>\n",
       "    </tr>\n",
       "    <tr>\n",
       "      <th>1</th>\n",
       "      <td>1</td>\n",
       "      <td>7.5</td>\n",
       "      <td>30.0</td>\n",
       "      <td>19.25</td>\n",
       "      <td>5</td>\n",
       "      <td>-2090.340</td>\n",
       "      <td>0.150278</td>\n",
       "      <td>-1.781770e-08</td>\n",
       "      <td>0.000001</td>\n",
       "      <td>-0.000010</td>\n",
       "    </tr>\n",
       "    <tr>\n",
       "      <th>2</th>\n",
       "      <td>1</td>\n",
       "      <td>7.5</td>\n",
       "      <td>30.0</td>\n",
       "      <td>19.25</td>\n",
       "      <td>15</td>\n",
       "      <td>-2064.730</td>\n",
       "      <td>0.150805</td>\n",
       "      <td>1.920960e-09</td>\n",
       "      <td>0.000002</td>\n",
       "      <td>-0.000011</td>\n",
       "    </tr>\n",
       "    <tr>\n",
       "      <th>3</th>\n",
       "      <td>1</td>\n",
       "      <td>7.5</td>\n",
       "      <td>30.0</td>\n",
       "      <td>19.25</td>\n",
       "      <td>30</td>\n",
       "      <td>-2028.670</td>\n",
       "      <td>0.151563</td>\n",
       "      <td>3.029510e-08</td>\n",
       "      <td>0.000002</td>\n",
       "      <td>-0.000011</td>\n",
       "    </tr>\n",
       "    <tr>\n",
       "      <th>4</th>\n",
       "      <td>1</td>\n",
       "      <td>7.5</td>\n",
       "      <td>30.0</td>\n",
       "      <td>19.25</td>\n",
       "      <td>60</td>\n",
       "      <td>-428.565</td>\n",
       "      <td>0.239586</td>\n",
       "      <td>-2.794120e-04</td>\n",
       "      <td>-0.000006</td>\n",
       "      <td>-0.000831</td>\n",
       "    </tr>\n",
       "  </tbody>\n",
       "</table>\n",
       "</div>"
      ],
      "text/plain": [
       "   n    x     y      z  Time         H        Th            V1        V2  \\\n",
       "0  1  7.5  30.0  19.25     0 -2104.020  0.150000 -2.814030e-08  0.000001   \n",
       "1  1  7.5  30.0  19.25     5 -2090.340  0.150278 -1.781770e-08  0.000001   \n",
       "2  1  7.5  30.0  19.25    15 -2064.730  0.150805  1.920960e-09  0.000002   \n",
       "3  1  7.5  30.0  19.25    30 -2028.670  0.151563  3.029510e-08  0.000002   \n",
       "4  1  7.5  30.0  19.25    60  -428.565  0.239586 -2.794120e-04 -0.000006   \n",
       "\n",
       "         V3  \n",
       "0 -0.000010  \n",
       "1 -0.000010  \n",
       "2 -0.000011  \n",
       "3 -0.000011  \n",
       "4 -0.000831  "
      ]
     },
     "execution_count": 7,
     "metadata": {},
     "output_type": "execute_result"
    }
   ],
   "source": [
    "file_name = '2-Original_PrettyGrid.csv'\n",
    "orig_df = pd.read_csv(os.path.join(sources[0], 'Nesr', file_name))\n",
    "comp_df = pd.read_csv(os.path.join(sources[1], 'Nesr', file_name))\n",
    "orig_df.head()"
   ]
  },
  {
   "cell_type": "code",
   "execution_count": 19,
   "metadata": {
    "ExecuteTime": {
     "end_time": "2019-12-30T10:15:18.782175Z",
     "start_time": "2019-12-30T10:15:18.764195Z"
    },
    "hidden": true
   },
   "outputs": [
    {
     "data": {
      "text/plain": [
       "H     10.081603\n",
       "Th    15.309587\n",
       "V1     5.813513\n",
       "V2     5.802684\n",
       "V3     5.887767\n",
       "dtype: float64"
      ]
     },
     "execution_count": 19,
     "metadata": {},
     "output_type": "execute_result"
    }
   ],
   "source": [
    "matching=(orig_df==comp_df).mean()*100\n",
    "matching[matching<100]"
   ]
  },
  {
   "cell_type": "code",
   "execution_count": 25,
   "metadata": {
    "ExecuteTime": {
     "end_time": "2019-12-30T10:24:30.321722Z",
     "start_time": "2019-12-30T10:24:29.658495Z"
    },
    "hidden": true
   },
   "outputs": [
    {
     "data": {
      "text/html": [
       "<div>\n",
       "<style scoped>\n",
       "    .dataframe tbody tr th:only-of-type {\n",
       "        vertical-align: middle;\n",
       "    }\n",
       "\n",
       "    .dataframe tbody tr th {\n",
       "        vertical-align: top;\n",
       "    }\n",
       "\n",
       "    .dataframe thead th {\n",
       "        text-align: right;\n",
       "    }\n",
       "</style>\n",
       "<table border=\"1\" class=\"dataframe\">\n",
       "  <thead>\n",
       "    <tr style=\"text-align: right;\">\n",
       "      <th></th>\n",
       "      <th>14a</th>\n",
       "      <th>14b</th>\n",
       "      <th>14c</th>\n",
       "      <th>14d</th>\n",
       "      <th>14e</th>\n",
       "    </tr>\n",
       "  </thead>\n",
       "  <tbody>\n",
       "    <tr>\n",
       "      <th>H</th>\n",
       "      <td>10.081603</td>\n",
       "      <td>6.276830</td>\n",
       "      <td>9.125575</td>\n",
       "      <td>6.773408</td>\n",
       "      <td>6.442356</td>\n",
       "    </tr>\n",
       "    <tr>\n",
       "      <th>Th</th>\n",
       "      <td>15.309587</td>\n",
       "      <td>7.231311</td>\n",
       "      <td>10.414201</td>\n",
       "      <td>7.974630</td>\n",
       "      <td>7.518274</td>\n",
       "    </tr>\n",
       "    <tr>\n",
       "      <th>V1</th>\n",
       "      <td>5.813513</td>\n",
       "      <td>5.316162</td>\n",
       "      <td>5.347101</td>\n",
       "      <td>5.313068</td>\n",
       "      <td>5.313842</td>\n",
       "    </tr>\n",
       "    <tr>\n",
       "      <th>V2</th>\n",
       "      <td>5.802684</td>\n",
       "      <td>5.326217</td>\n",
       "      <td>5.336273</td>\n",
       "      <td>5.323123</td>\n",
       "      <td>5.306880</td>\n",
       "    </tr>\n",
       "    <tr>\n",
       "      <th>V3</th>\n",
       "      <td>5.887767</td>\n",
       "      <td>5.269753</td>\n",
       "      <td>5.337046</td>\n",
       "      <td>5.280582</td>\n",
       "      <td>5.272073</td>\n",
       "    </tr>\n",
       "  </tbody>\n",
       "</table>\n",
       "</div>"
      ],
      "text/plain": [
       "          14a       14b        14c       14d       14e\n",
       "H   10.081603  6.276830   9.125575  6.773408  6.442356\n",
       "Th  15.309587  7.231311  10.414201  7.974630  7.518274\n",
       "V1   5.813513  5.316162   5.347101  5.313068  5.313842\n",
       "V2   5.802684  5.326217   5.336273  5.323123  5.306880\n",
       "V3   5.887767  5.269753   5.337046  5.280582  5.272073"
      ]
     },
     "execution_count": 25,
     "metadata": {},
     "output_type": "execute_result"
    }
   ],
   "source": [
    "orig_df = pd.read_csv(os.path.join(sources[0], 'Nesr', file_name))\n",
    "results = {}\n",
    "for other in range(1,len(sources)):\n",
    "    source = sources[other]\n",
    "    comp_df = pd.read_csv(os.path.join(source, 'Nesr', file_name))\n",
    "    matching=(orig_df==comp_df).mean()*100\n",
    "    results[source.split(\"/\")[2][-3:]]=matching\n",
    "\n",
    "results = pd.DataFrame(results)\n",
    "results[results<100].dropna()"
   ]
  },
  {
   "cell_type": "markdown",
   "metadata": {},
   "source": [
    "## Working with `3-Atm_A_level.csv`"
   ]
  },
  {
   "cell_type": "code",
   "execution_count": 42,
   "metadata": {
    "ExecuteTime": {
     "end_time": "2019-12-30T11:11:19.976476Z",
     "start_time": "2019-12-30T11:11:19.952510Z"
    }
   },
   "outputs": [
    {
     "data": {
      "text/html": [
       "<div>\n",
       "<style scoped>\n",
       "    .dataframe tbody tr th:only-of-type {\n",
       "        vertical-align: middle;\n",
       "    }\n",
       "\n",
       "    .dataframe tbody tr th {\n",
       "        vertical-align: top;\n",
       "    }\n",
       "\n",
       "    .dataframe thead th {\n",
       "        text-align: right;\n",
       "    }\n",
       "</style>\n",
       "<table border=\"1\" class=\"dataframe\">\n",
       "  <thead>\n",
       "    <tr style=\"text-align: right;\">\n",
       "      <th></th>\n",
       "      <th>Time</th>\n",
       "      <th>CumQAP</th>\n",
       "      <th>CumQRP</th>\n",
       "      <th>CumQA</th>\n",
       "      <th>CumQR</th>\n",
       "      <th>CumQ3</th>\n",
       "      <th>hAtm</th>\n",
       "      <th>hRoot</th>\n",
       "      <th>hKode3</th>\n",
       "      <th>A-level</th>\n",
       "      <th>...</th>\n",
       "      <th>rRoot</th>\n",
       "      <th>hCritA</th>\n",
       "      <th>rt</th>\n",
       "      <th>ht</th>\n",
       "      <th>rt.1</th>\n",
       "      <th>ht.1</th>\n",
       "      <th>rt.2</th>\n",
       "      <th>ht.2</th>\n",
       "      <th>rt.3</th>\n",
       "      <th>ht.3</th>\n",
       "    </tr>\n",
       "  </thead>\n",
       "  <tbody>\n",
       "    <tr>\n",
       "      <th>0</th>\n",
       "      <td>60.0</td>\n",
       "      <td>0.0</td>\n",
       "      <td>0.0</td>\n",
       "      <td>0.0</td>\n",
       "      <td>0.0</td>\n",
       "      <td>-4050.0</td>\n",
       "      <td>-1.8</td>\n",
       "      <td>0.0</td>\n",
       "      <td>8.0</td>\n",
       "      <td>1</td>\n",
       "      <td>...</td>\n",
       "      <td>0.000278</td>\n",
       "      <td>10000</td>\n",
       "      <td>-1</td>\n",
       "      <td>0</td>\n",
       "      <td>0</td>\n",
       "      <td>0</td>\n",
       "      <td>0</td>\n",
       "      <td>0</td>\n",
       "      <td>0</td>\n",
       "      <td>0</td>\n",
       "    </tr>\n",
       "    <tr>\n",
       "      <th>1</th>\n",
       "      <td>2880.0</td>\n",
       "      <td>0.0</td>\n",
       "      <td>0.0</td>\n",
       "      <td>0.0</td>\n",
       "      <td>0.0</td>\n",
       "      <td>-4050.0</td>\n",
       "      <td>-39.8</td>\n",
       "      <td>0.0</td>\n",
       "      <td>-39.5</td>\n",
       "      <td>2</td>\n",
       "      <td>...</td>\n",
       "      <td>0.000278</td>\n",
       "      <td>10000</td>\n",
       "      <td>0</td>\n",
       "      <td>0</td>\n",
       "      <td>0</td>\n",
       "      <td>0</td>\n",
       "      <td>0</td>\n",
       "      <td>0</td>\n",
       "      <td>0</td>\n",
       "      <td>0</td>\n",
       "    </tr>\n",
       "  </tbody>\n",
       "</table>\n",
       "<p>2 rows × 23 columns</p>\n",
       "</div>"
      ],
      "text/plain": [
       "     Time  CumQAP  CumQRP  CumQA  CumQR   CumQ3  hAtm  hRoot  hKode3  A-level  \\\n",
       "0    60.0     0.0     0.0    0.0    0.0 -4050.0  -1.8    0.0     8.0        1   \n",
       "1  2880.0     0.0     0.0    0.0    0.0 -4050.0 -39.8    0.0   -39.5        2   \n",
       "\n",
       "   ...     rRoot  hCritA  rt  ht  rt.1  ht.1  rt.2  ht.2  rt.3  ht.3  \n",
       "0  ...  0.000278   10000  -1   0     0     0     0     0     0     0  \n",
       "1  ...  0.000278   10000   0   0     0     0     0     0     0     0  \n",
       "\n",
       "[2 rows x 23 columns]"
      ]
     },
     "execution_count": 42,
     "metadata": {},
     "output_type": "execute_result"
    }
   ],
   "source": [
    "file_name = '3-Atm_A_level.csv'\n",
    "orig_df = pd.read_csv(os.path.join(sources[0], 'Nesr', file_name))\n",
    "comp_df = pd.read_csv(os.path.join(sources[1], 'Nesr', file_name))\n",
    "orig_df.head()"
   ]
  },
  {
   "cell_type": "code",
   "execution_count": 43,
   "metadata": {
    "ExecuteTime": {
     "end_time": "2019-12-30T11:11:20.826431Z",
     "start_time": "2019-12-30T11:11:20.811471Z"
    }
   },
   "outputs": [],
   "source": [
    "matching=(orig_df==comp_df).mean()*100"
   ]
  },
  {
   "cell_type": "code",
   "execution_count": 44,
   "metadata": {
    "ExecuteTime": {
     "end_time": "2019-12-30T11:11:21.503617Z",
     "start_time": "2019-12-30T11:11:21.497633Z"
    }
   },
   "outputs": [
    {
     "data": {
      "text/plain": [
       "hAtm      0.0\n",
       "hKode3    0.0\n",
       "dtype: float64"
      ]
     },
     "execution_count": 44,
     "metadata": {},
     "output_type": "execute_result"
    }
   ],
   "source": [
    "matching[matching<100]"
   ]
  },
  {
   "cell_type": "code",
   "execution_count": 45,
   "metadata": {
    "ExecuteTime": {
     "end_time": "2019-12-30T11:11:22.849013Z",
     "start_time": "2019-12-30T11:11:22.781195Z"
    }
   },
   "outputs": [
    {
     "data": {
      "text/html": [
       "<div>\n",
       "<style scoped>\n",
       "    .dataframe tbody tr th:only-of-type {\n",
       "        vertical-align: middle;\n",
       "    }\n",
       "\n",
       "    .dataframe tbody tr th {\n",
       "        vertical-align: top;\n",
       "    }\n",
       "\n",
       "    .dataframe thead th {\n",
       "        text-align: right;\n",
       "    }\n",
       "</style>\n",
       "<table border=\"1\" class=\"dataframe\">\n",
       "  <thead>\n",
       "    <tr style=\"text-align: right;\">\n",
       "      <th></th>\n",
       "      <th>14a</th>\n",
       "      <th>14b</th>\n",
       "      <th>14c</th>\n",
       "      <th>14d</th>\n",
       "      <th>14e</th>\n",
       "    </tr>\n",
       "  </thead>\n",
       "  <tbody>\n",
       "    <tr>\n",
       "      <th>hAtm</th>\n",
       "      <td>0.0</td>\n",
       "      <td>0.0</td>\n",
       "      <td>0.0</td>\n",
       "      <td>0.0</td>\n",
       "      <td>0.0</td>\n",
       "    </tr>\n",
       "    <tr>\n",
       "      <th>hKode3</th>\n",
       "      <td>0.0</td>\n",
       "      <td>0.0</td>\n",
       "      <td>0.0</td>\n",
       "      <td>0.0</td>\n",
       "      <td>0.0</td>\n",
       "    </tr>\n",
       "  </tbody>\n",
       "</table>\n",
       "</div>"
      ],
      "text/plain": [
       "        14a  14b  14c  14d  14e\n",
       "hAtm    0.0  0.0  0.0  0.0  0.0\n",
       "hKode3  0.0  0.0  0.0  0.0  0.0"
      ]
     },
     "execution_count": 45,
     "metadata": {},
     "output_type": "execute_result"
    }
   ],
   "source": [
    "orig_df = pd.read_csv(os.path.join(sources[0], 'Nesr', file_name))\n",
    "results = {}\n",
    "for other in range(1,len(sources)):\n",
    "    source = sources[other]\n",
    "    comp_df = pd.read_csv(os.path.join(source, 'Nesr', file_name))\n",
    "    matching=(orig_df==comp_df).mean()*100\n",
    "    results[source.split(\"/\")[2][-3:]]=matching\n",
    "\n",
    "results = pd.DataFrame(results)\n",
    "results[results<100].dropna()"
   ]
  },
  {
   "cell_type": "code",
   "execution_count": 58,
   "metadata": {
    "ExecuteTime": {
     "end_time": "2019-12-30T11:25:10.487314Z",
     "start_time": "2019-12-30T11:25:10.467338Z"
    }
   },
   "outputs": [
    {
     "data": {
      "text/html": [
       "<div>\n",
       "<style scoped>\n",
       "    .dataframe tbody tr th:only-of-type {\n",
       "        vertical-align: middle;\n",
       "    }\n",
       "\n",
       "    .dataframe tbody tr th {\n",
       "        vertical-align: top;\n",
       "    }\n",
       "\n",
       "    .dataframe thead th {\n",
       "        text-align: right;\n",
       "    }\n",
       "</style>\n",
       "<table border=\"1\" class=\"dataframe\">\n",
       "  <thead>\n",
       "    <tr style=\"text-align: right;\">\n",
       "      <th></th>\n",
       "      <th>hAtm</th>\n",
       "      <th>hKode3</th>\n",
       "    </tr>\n",
       "  </thead>\n",
       "  <tbody>\n",
       "    <tr>\n",
       "      <th>0</th>\n",
       "      <td>-1.8</td>\n",
       "      <td>8.0</td>\n",
       "    </tr>\n",
       "    <tr>\n",
       "      <th>1</th>\n",
       "      <td>-39.8</td>\n",
       "      <td>-39.5</td>\n",
       "    </tr>\n",
       "  </tbody>\n",
       "</table>\n",
       "</div>"
      ],
      "text/plain": [
       "   hAtm  hKode3\n",
       "0  -1.8     8.0\n",
       "1 -39.8   -39.5"
      ]
     },
     "metadata": {},
     "output_type": "display_data"
    },
    {
     "data": {
      "text/html": [
       "<div>\n",
       "<style scoped>\n",
       "    .dataframe tbody tr th:only-of-type {\n",
       "        vertical-align: middle;\n",
       "    }\n",
       "\n",
       "    .dataframe tbody tr th {\n",
       "        vertical-align: top;\n",
       "    }\n",
       "\n",
       "    .dataframe thead th {\n",
       "        text-align: right;\n",
       "    }\n",
       "</style>\n",
       "<table border=\"1\" class=\"dataframe\">\n",
       "  <thead>\n",
       "    <tr style=\"text-align: right;\">\n",
       "      <th></th>\n",
       "      <th>hAtm</th>\n",
       "      <th>hKode3</th>\n",
       "    </tr>\n",
       "  </thead>\n",
       "  <tbody>\n",
       "    <tr>\n",
       "      <th>0</th>\n",
       "      <td>-8.6</td>\n",
       "      <td>-6.4</td>\n",
       "    </tr>\n",
       "    <tr>\n",
       "      <th>1</th>\n",
       "      <td>-42.9</td>\n",
       "      <td>-42.5</td>\n",
       "    </tr>\n",
       "  </tbody>\n",
       "</table>\n",
       "</div>"
      ],
      "text/plain": [
       "   hAtm  hKode3\n",
       "0  -8.6    -6.4\n",
       "1 -42.9   -42.5"
      ]
     },
     "metadata": {},
     "output_type": "display_data"
    }
   ],
   "source": [
    "falsy = orig_df != comp_df\n",
    "orig_f, comp_f = (orig_df[falsy].dropna(axis=1, how='all'),\n",
    "                  comp_df[falsy].dropna(axis=1, how='all'))\n",
    "display(orig_f, comp_f )"
   ]
  },
  {
   "cell_type": "code",
   "execution_count": 59,
   "metadata": {
    "ExecuteTime": {
     "end_time": "2019-12-30T11:25:19.569376Z",
     "start_time": "2019-12-30T11:25:19.562395Z"
    }
   },
   "outputs": [
    {
     "data": {
      "text/plain": [
       "hAtm_0      -1.8\n",
       "hAtm_1     -39.8\n",
       "hKode3_0     8.0\n",
       "hKode3_1   -39.5\n",
       "dtype: float64"
      ]
     },
     "execution_count": 59,
     "metadata": {},
     "output_type": "execute_result"
    }
   ],
   "source": [
    "def convert_df_to_series(df, sep='_'):\n",
    "    # df= orig_df\n",
    "    # sep='_'\n",
    "    ser={}\n",
    "    for col in list(df):\n",
    "        for row in df.index:\n",
    "            nam = f'{col}{sep}{row}'\n",
    "            val = df.loc[row][col]\n",
    "            ser[nam]=val\n",
    "    return pd.Series(ser)\n",
    "convert_df_to_series(orig_f)    "
   ]
  },
  {
   "cell_type": "code",
   "execution_count": 65,
   "metadata": {
    "ExecuteTime": {
     "end_time": "2019-12-30T11:44:13.164792Z",
     "start_time": "2019-12-30T11:44:13.073037Z"
    }
   },
   "outputs": [
    {
     "data": {
      "text/html": [
       "<div>\n",
       "<style scoped>\n",
       "    .dataframe tbody tr th:only-of-type {\n",
       "        vertical-align: middle;\n",
       "    }\n",
       "\n",
       "    .dataframe tbody tr th {\n",
       "        vertical-align: top;\n",
       "    }\n",
       "\n",
       "    .dataframe thead th {\n",
       "        text-align: right;\n",
       "    }\n",
       "</style>\n",
       "<table border=\"1\" class=\"dataframe\">\n",
       "  <thead>\n",
       "    <tr style=\"text-align: right;\">\n",
       "      <th></th>\n",
       "      <th>14_</th>\n",
       "      <th>14a</th>\n",
       "      <th>14b</th>\n",
       "      <th>14c</th>\n",
       "      <th>14d</th>\n",
       "      <th>14e</th>\n",
       "    </tr>\n",
       "  </thead>\n",
       "  <tbody>\n",
       "    <tr>\n",
       "      <th>hAtm_0</th>\n",
       "      <td>-1.8</td>\n",
       "      <td>0.6</td>\n",
       "      <td>-6.4</td>\n",
       "      <td>-7.1</td>\n",
       "      <td>-8.3</td>\n",
       "      <td>-8.6</td>\n",
       "    </tr>\n",
       "    <tr>\n",
       "      <th>hAtm_1</th>\n",
       "      <td>-39.8</td>\n",
       "      <td>-39.5</td>\n",
       "      <td>-43.1</td>\n",
       "      <td>-41.8</td>\n",
       "      <td>-43.7</td>\n",
       "      <td>-42.9</td>\n",
       "    </tr>\n",
       "    <tr>\n",
       "      <th>hKode3_0</th>\n",
       "      <td>8.0</td>\n",
       "      <td>9.5</td>\n",
       "      <td>-4.3</td>\n",
       "      <td>-4.6</td>\n",
       "      <td>-6.3</td>\n",
       "      <td>-6.4</td>\n",
       "    </tr>\n",
       "    <tr>\n",
       "      <th>hKode3_1</th>\n",
       "      <td>-39.5</td>\n",
       "      <td>-39.3</td>\n",
       "      <td>-42.7</td>\n",
       "      <td>-41.5</td>\n",
       "      <td>-43.2</td>\n",
       "      <td>-42.5</td>\n",
       "    </tr>\n",
       "  </tbody>\n",
       "</table>\n",
       "</div>"
      ],
      "text/plain": [
       "           14_   14a   14b   14c   14d   14e\n",
       "hAtm_0    -1.8   0.6  -6.4  -7.1  -8.3  -8.6\n",
       "hAtm_1   -39.8 -39.5 -43.1 -41.8 -43.7 -42.9\n",
       "hKode3_0   8.0   9.5  -4.3  -4.6  -6.3  -6.4\n",
       "hKode3_1 -39.5 -39.3 -42.7 -41.5 -43.2 -42.5"
      ]
     },
     "execution_count": 65,
     "metadata": {},
     "output_type": "execute_result"
    }
   ],
   "source": [
    "orig_df = pd.read_csv(os.path.join(sources[0], 'Nesr', file_name))\n",
    "results = {}\n",
    "for other in range(1, len(sources)):\n",
    "    source = sources[other]\n",
    "    comp_df = pd.read_csv(os.path.join(source, 'Nesr', file_name))\n",
    "    falsy = orig_df != comp_df\n",
    "    orig_f = convert_df_to_series(orig_df[falsy].dropna(axis=1, how='all'))\n",
    "    comp_f = convert_df_to_series(comp_df[falsy].dropna(axis=1, how='all'))\n",
    "    if '14_' in results:\n",
    "        #display(results['14_'].index , orig_f.index)\n",
    "        if list(results['14_'].index) != list(orig_f.index):\n",
    "            print('There is an error here')\n",
    "    else:\n",
    "        results['14_'] = orig_f\n",
    "\n",
    "    results[source.split(\"/\")[2][-3:]] = comp_f\n",
    "\n",
    "results = pd.DataFrame(results)\n",
    "results"
   ]
  },
  {
   "cell_type": "code",
   "execution_count": null,
   "metadata": {},
   "outputs": [],
   "source": []
  },
  {
   "cell_type": "markdown",
   "metadata": {
    "heading_collapsed": true
   },
   "source": [
    "## Working with `4-MassBalance.csv`"
   ]
  },
  {
   "cell_type": "code",
   "execution_count": 34,
   "metadata": {
    "ExecuteTime": {
     "end_time": "2019-12-30T10:33:10.622229Z",
     "start_time": "2019-12-30T10:33:10.598292Z"
    },
    "hidden": true
   },
   "outputs": [
    {
     "data": {
      "text/html": [
       "<div>\n",
       "<style scoped>\n",
       "    .dataframe tbody tr th:only-of-type {\n",
       "        vertical-align: middle;\n",
       "    }\n",
       "\n",
       "    .dataframe tbody tr th {\n",
       "        vertical-align: top;\n",
       "    }\n",
       "\n",
       "    .dataframe thead th {\n",
       "        text-align: right;\n",
       "    }\n",
       "</style>\n",
       "<table border=\"1\" class=\"dataframe\">\n",
       "  <thead>\n",
       "    <tr style=\"text-align: right;\">\n",
       "      <th></th>\n",
       "      <th>Time</th>\n",
       "      <th>Volume</th>\n",
       "      <th>VolumeW</th>\n",
       "      <th>InFlow</th>\n",
       "      <th>hMean</th>\n",
       "      <th>WatBalT</th>\n",
       "      <th>WatBalR</th>\n",
       "    </tr>\n",
       "  </thead>\n",
       "  <tbody>\n",
       "    <tr>\n",
       "      <th>0</th>\n",
       "      <td>0.0</td>\n",
       "      <td>37804.0</td>\n",
       "      <td>5670.0</td>\n",
       "      <td>0.000</td>\n",
       "      <td>-1419.200</td>\n",
       "      <td>NaN</td>\n",
       "      <td>NaN</td>\n",
       "    </tr>\n",
       "    <tr>\n",
       "      <th>1</th>\n",
       "      <td>5.0</td>\n",
       "      <td>37804.0</td>\n",
       "      <td>6008.2</td>\n",
       "      <td>67.482</td>\n",
       "      <td>-465.180</td>\n",
       "      <td>0.76695</td>\n",
       "      <td>0.087</td>\n",
       "    </tr>\n",
       "    <tr>\n",
       "      <th>2</th>\n",
       "      <td>15.0</td>\n",
       "      <td>37804.0</td>\n",
       "      <td>6683.1</td>\n",
       "      <td>67.487</td>\n",
       "      <td>-380.310</td>\n",
       "      <td>0.72489</td>\n",
       "      <td>0.043</td>\n",
       "    </tr>\n",
       "    <tr>\n",
       "      <th>3</th>\n",
       "      <td>30.0</td>\n",
       "      <td>37804.0</td>\n",
       "      <td>7695.6</td>\n",
       "      <td>67.500</td>\n",
       "      <td>-264.770</td>\n",
       "      <td>0.74317</td>\n",
       "      <td>0.028</td>\n",
       "    </tr>\n",
       "    <tr>\n",
       "      <th>4</th>\n",
       "      <td>60.0</td>\n",
       "      <td>37804.0</td>\n",
       "      <td>9720.5</td>\n",
       "      <td>67.487</td>\n",
       "      <td>-93.056</td>\n",
       "      <td>0.65117</td>\n",
       "      <td>0.014</td>\n",
       "    </tr>\n",
       "  </tbody>\n",
       "</table>\n",
       "</div>"
      ],
      "text/plain": [
       "   Time   Volume  VolumeW  InFlow     hMean  WatBalT  WatBalR\n",
       "0   0.0  37804.0   5670.0   0.000 -1419.200      NaN      NaN\n",
       "1   5.0  37804.0   6008.2  67.482  -465.180  0.76695    0.087\n",
       "2  15.0  37804.0   6683.1  67.487  -380.310  0.72489    0.043\n",
       "3  30.0  37804.0   7695.6  67.500  -264.770  0.74317    0.028\n",
       "4  60.0  37804.0   9720.5  67.487   -93.056  0.65117    0.014"
      ]
     },
     "execution_count": 34,
     "metadata": {},
     "output_type": "execute_result"
    }
   ],
   "source": [
    "file_name = '4-MassBalance.csv'\n",
    "orig_df = pd.read_csv(os.path.join(sources[0], 'Nesr', file_name))\n",
    "comp_df = pd.read_csv(os.path.join(sources[1], 'Nesr', file_name))\n",
    "orig_df.head()"
   ]
  },
  {
   "cell_type": "code",
   "execution_count": 35,
   "metadata": {
    "ExecuteTime": {
     "end_time": "2019-12-30T10:33:15.523149Z",
     "start_time": "2019-12-30T10:33:15.517165Z"
    },
    "hidden": true
   },
   "outputs": [],
   "source": [
    "matching=(orig_df==comp_df).mean()*100"
   ]
  },
  {
   "cell_type": "code",
   "execution_count": 36,
   "metadata": {
    "ExecuteTime": {
     "end_time": "2019-12-30T10:33:18.077190Z",
     "start_time": "2019-12-30T10:33:18.071206Z"
    },
    "hidden": true
   },
   "outputs": [
    {
     "data": {
      "text/plain": [
       "VolumeW    7.692308\n",
       "InFlow     7.692308\n",
       "hMean      0.000000\n",
       "WatBalT    0.000000\n",
       "WatBalR    0.000000\n",
       "dtype: float64"
      ]
     },
     "execution_count": 36,
     "metadata": {},
     "output_type": "execute_result"
    }
   ],
   "source": [
    "matching[matching<100]"
   ]
  },
  {
   "cell_type": "code",
   "execution_count": 37,
   "metadata": {
    "ExecuteTime": {
     "end_time": "2019-12-30T10:33:43.554623Z",
     "start_time": "2019-12-30T10:33:43.506722Z"
    },
    "hidden": true,
    "scrolled": false
   },
   "outputs": [
    {
     "data": {
      "text/html": [
       "<div>\n",
       "<style scoped>\n",
       "    .dataframe tbody tr th:only-of-type {\n",
       "        vertical-align: middle;\n",
       "    }\n",
       "\n",
       "    .dataframe tbody tr th {\n",
       "        vertical-align: top;\n",
       "    }\n",
       "\n",
       "    .dataframe thead th {\n",
       "        text-align: right;\n",
       "    }\n",
       "</style>\n",
       "<table border=\"1\" class=\"dataframe\">\n",
       "  <thead>\n",
       "    <tr style=\"text-align: right;\">\n",
       "      <th></th>\n",
       "      <th>14a</th>\n",
       "      <th>14b</th>\n",
       "      <th>14c</th>\n",
       "      <th>14d</th>\n",
       "      <th>14e</th>\n",
       "    </tr>\n",
       "  </thead>\n",
       "  <tbody>\n",
       "    <tr>\n",
       "      <th>VolumeW</th>\n",
       "      <td>7.692308</td>\n",
       "      <td>0.000000</td>\n",
       "      <td>0.000000</td>\n",
       "      <td>0.000000</td>\n",
       "      <td>0.000000</td>\n",
       "    </tr>\n",
       "    <tr>\n",
       "      <th>InFlow</th>\n",
       "      <td>7.692308</td>\n",
       "      <td>7.692308</td>\n",
       "      <td>7.692308</td>\n",
       "      <td>15.384615</td>\n",
       "      <td>15.384615</td>\n",
       "    </tr>\n",
       "    <tr>\n",
       "      <th>hMean</th>\n",
       "      <td>0.000000</td>\n",
       "      <td>0.000000</td>\n",
       "      <td>0.000000</td>\n",
       "      <td>0.000000</td>\n",
       "      <td>0.000000</td>\n",
       "    </tr>\n",
       "    <tr>\n",
       "      <th>WatBalT</th>\n",
       "      <td>0.000000</td>\n",
       "      <td>0.000000</td>\n",
       "      <td>0.000000</td>\n",
       "      <td>0.000000</td>\n",
       "      <td>0.000000</td>\n",
       "    </tr>\n",
       "    <tr>\n",
       "      <th>WatBalR</th>\n",
       "      <td>0.000000</td>\n",
       "      <td>0.000000</td>\n",
       "      <td>7.692308</td>\n",
       "      <td>0.000000</td>\n",
       "      <td>0.000000</td>\n",
       "    </tr>\n",
       "  </tbody>\n",
       "</table>\n",
       "</div>"
      ],
      "text/plain": [
       "              14a       14b       14c        14d        14e\n",
       "VolumeW  7.692308  0.000000  0.000000   0.000000   0.000000\n",
       "InFlow   7.692308  7.692308  7.692308  15.384615  15.384615\n",
       "hMean    0.000000  0.000000  0.000000   0.000000   0.000000\n",
       "WatBalT  0.000000  0.000000  0.000000   0.000000   0.000000\n",
       "WatBalR  0.000000  0.000000  7.692308   0.000000   0.000000"
      ]
     },
     "execution_count": 37,
     "metadata": {},
     "output_type": "execute_result"
    }
   ],
   "source": [
    "orig_df = pd.read_csv(os.path.join(sources[0], 'Nesr', file_name))\n",
    "results = {}\n",
    "for other in range(1,len(sources)):\n",
    "    source = sources[other]\n",
    "    comp_df = pd.read_csv(os.path.join(source, 'Nesr', file_name))\n",
    "    matching=(orig_df==comp_df).mean()*100\n",
    "    results[source.split(\"/\")[2][-3:]]=matching\n",
    "\n",
    "results = pd.DataFrame(results)\n",
    "results[results<100].dropna()"
   ]
  },
  {
   "cell_type": "markdown",
   "metadata": {},
   "source": [
    "## Working with `5-Simulation_info.csv`"
   ]
  },
  {
   "cell_type": "code",
   "execution_count": 13,
   "metadata": {
    "ExecuteTime": {
     "end_time": "2019-12-30T11:04:23.391632Z",
     "start_time": "2019-12-30T11:04:23.364678Z"
    }
   },
   "outputs": [
    {
     "data": {
      "text/plain": [
       "SimulTime_s    51.03\n",
       "L_Unit          1.00\n",
       "T_Unit          1.00\n",
       "Category        3.00\n",
       "MaxIt          10.00\n",
       "Name: Value, dtype: float64"
      ]
     },
     "execution_count": 13,
     "metadata": {},
     "output_type": "execute_result"
    }
   ],
   "source": [
    "file_name = '5-Simulation_info.csv'\n",
    "orig_df = pd.read_csv(os.path.join(\n",
    "    sources[0], 'Nesr', file_name)).rename(columns={\n",
    "        'Unnamed: 0': \"Feature\",\n",
    "        'Sand Ditch simulation': \"Value\"\n",
    "    }).set_index('Feature')\n",
    "comp_df = pd.read_csv(os.path.join(\n",
    "    sources[1], 'Nesr', file_name)).rename(columns={\n",
    "        'Unnamed: 0': \"Feature\",\n",
    "        'Sand Ditch simulation': \"Value\"\n",
    "    }).set_index('Feature')\n",
    "orig_df.Value.rename_axis(None).head()"
   ]
  },
  {
   "cell_type": "code",
   "execution_count": 14,
   "metadata": {
    "ExecuteTime": {
     "end_time": "2019-12-30T11:04:29.520142Z",
     "start_time": "2019-12-30T11:04:29.513163Z"
    }
   },
   "outputs": [
    {
     "data": {
      "text/plain": [
       "Value    68.503937\n",
       "dtype: float64"
      ]
     },
     "execution_count": 14,
     "metadata": {},
     "output_type": "execute_result"
    }
   ],
   "source": [
    "matching = (orig_df == comp_df).mean() * 100\n",
    "matching[matching<100]"
   ]
  },
  {
   "cell_type": "code",
   "execution_count": 17,
   "metadata": {
    "ExecuteTime": {
     "end_time": "2019-12-30T11:04:43.379566Z",
     "start_time": "2019-12-30T11:04:43.309754Z"
    },
    "scrolled": true
   },
   "outputs": [
    {
     "data": {
      "text/html": [
       "<div>\n",
       "<style scoped>\n",
       "    .dataframe tbody tr th:only-of-type {\n",
       "        vertical-align: middle;\n",
       "    }\n",
       "\n",
       "    .dataframe tbody tr th {\n",
       "        vertical-align: top;\n",
       "    }\n",
       "\n",
       "    .dataframe thead th {\n",
       "        text-align: right;\n",
       "    }\n",
       "</style>\n",
       "<table border=\"1\" class=\"dataframe\">\n",
       "  <thead>\n",
       "    <tr style=\"text-align: right;\">\n",
       "      <th></th>\n",
       "      <th>14a</th>\n",
       "      <th>14b</th>\n",
       "      <th>14c</th>\n",
       "      <th>14d</th>\n",
       "      <th>14e</th>\n",
       "    </tr>\n",
       "  </thead>\n",
       "  <tbody>\n",
       "    <tr>\n",
       "      <th>Value</th>\n",
       "      <td>68.503937</td>\n",
       "      <td>67.322835</td>\n",
       "      <td>67.716535</td>\n",
       "      <td>67.716535</td>\n",
       "      <td>67.716535</td>\n",
       "    </tr>\n",
       "  </tbody>\n",
       "</table>\n",
       "</div>"
      ],
      "text/plain": [
       "             14a        14b        14c        14d        14e\n",
       "Value  68.503937  67.322835  67.716535  67.716535  67.716535"
      ]
     },
     "execution_count": 17,
     "metadata": {},
     "output_type": "execute_result"
    }
   ],
   "source": [
    "orig_df = pd.read_csv(os.path.join(\n",
    "    sources[0], 'Nesr', file_name)).rename(columns={\n",
    "        'Unnamed: 0': \"Feature\",\n",
    "        'Sand Ditch simulation': \"Value\"\n",
    "    }).set_index('Feature')\n",
    "results = {}\n",
    "for other in range(1, len(sources)):\n",
    "    source = sources[other]\n",
    "    comp_df = pd.read_csv(os.path.join(\n",
    "        source, 'Nesr', file_name)).rename(columns={\n",
    "            'Unnamed: 0': \"Feature\",\n",
    "            'Sand Ditch simulation': \"Value\"\n",
    "        }).set_index('Feature')\n",
    "    matching = (orig_df == comp_df).mean() * 100\n",
    "    results[source.split(\"/\")[2][-3:]] = matching\n",
    "\n",
    "results = pd.DataFrame(results)\n",
    "results[results < 100].dropna()"
   ]
  },
  {
   "cell_type": "markdown",
   "metadata": {},
   "source": [
    "## Working with `6-BoundaryData.csv`"
   ]
  },
  {
   "cell_type": "code",
   "execution_count": 21,
   "metadata": {
    "ExecuteTime": {
     "end_time": "2019-12-30T11:04:23.391632Z",
     "start_time": "2019-12-30T11:04:23.364678Z"
    }
   },
   "outputs": [
    {
     "data": {
      "text/html": [
       "<div>\n",
       "<style scoped>\n",
       "    .dataframe tbody tr th:only-of-type {\n",
       "        vertical-align: middle;\n",
       "    }\n",
       "\n",
       "    .dataframe tbody tr th {\n",
       "        vertical-align: top;\n",
       "    }\n",
       "\n",
       "    .dataframe thead th {\n",
       "        text-align: right;\n",
       "    }\n",
       "</style>\n",
       "<table border=\"1\" class=\"dataframe\">\n",
       "  <thead>\n",
       "    <tr style=\"text-align: right;\">\n",
       "      <th></th>\n",
       "      <th>Time_T</th>\n",
       "      <th>CumQAP_L3</th>\n",
       "      <th>CumQRP_L3</th>\n",
       "      <th>CumQA_L3</th>\n",
       "      <th>CumQR_L3</th>\n",
       "      <th>CumQ3_L3</th>\n",
       "      <th>CumQ1_L3</th>\n",
       "      <th>CumQS_L3</th>\n",
       "      <th>CumQ5_L3</th>\n",
       "      <th>CumQ6_L3</th>\n",
       "      <th>...</th>\n",
       "      <th>vKode7_L3pT</th>\n",
       "      <th>vKode8_L3pT</th>\n",
       "      <th>vKode9_L3pT</th>\n",
       "      <th>RunOff_LpT</th>\n",
       "      <th>Evapor_LpT</th>\n",
       "      <th>Infiltr_LpT</th>\n",
       "      <th>SnowLayer_L</th>\n",
       "      <th>dt</th>\n",
       "      <th>Iter</th>\n",
       "      <th>ItCum</th>\n",
       "    </tr>\n",
       "  </thead>\n",
       "  <tbody>\n",
       "    <tr>\n",
       "      <th>0</th>\n",
       "      <td>0.0010</td>\n",
       "      <td>0.0</td>\n",
       "      <td>0.0</td>\n",
       "      <td>0.0</td>\n",
       "      <td>0.0</td>\n",
       "      <td>-0.0675</td>\n",
       "      <td>0.0</td>\n",
       "      <td>0.0</td>\n",
       "      <td>0.0</td>\n",
       "      <td>0.000188</td>\n",
       "      <td>...</td>\n",
       "      <td>0.0</td>\n",
       "      <td>0.0</td>\n",
       "      <td>0.0</td>\n",
       "      <td>0.0</td>\n",
       "      <td>0.0</td>\n",
       "      <td>0.0</td>\n",
       "      <td>0.0</td>\n",
       "      <td>0.001000</td>\n",
       "      <td>2</td>\n",
       "      <td>2</td>\n",
       "    </tr>\n",
       "    <tr>\n",
       "      <th>1</th>\n",
       "      <td>0.0020</td>\n",
       "      <td>0.0</td>\n",
       "      <td>0.0</td>\n",
       "      <td>0.0</td>\n",
       "      <td>0.0</td>\n",
       "      <td>-0.1350</td>\n",
       "      <td>0.0</td>\n",
       "      <td>0.0</td>\n",
       "      <td>0.0</td>\n",
       "      <td>0.000371</td>\n",
       "      <td>...</td>\n",
       "      <td>0.0</td>\n",
       "      <td>0.0</td>\n",
       "      <td>0.0</td>\n",
       "      <td>0.0</td>\n",
       "      <td>0.0</td>\n",
       "      <td>0.0</td>\n",
       "      <td>0.0</td>\n",
       "      <td>0.001000</td>\n",
       "      <td>2</td>\n",
       "      <td>4</td>\n",
       "    </tr>\n",
       "    <tr>\n",
       "      <th>2</th>\n",
       "      <td>0.0033</td>\n",
       "      <td>0.0</td>\n",
       "      <td>0.0</td>\n",
       "      <td>0.0</td>\n",
       "      <td>0.0</td>\n",
       "      <td>-0.2230</td>\n",
       "      <td>0.0</td>\n",
       "      <td>0.0</td>\n",
       "      <td>0.0</td>\n",
       "      <td>0.000601</td>\n",
       "      <td>...</td>\n",
       "      <td>0.0</td>\n",
       "      <td>0.0</td>\n",
       "      <td>0.0</td>\n",
       "      <td>0.0</td>\n",
       "      <td>0.0</td>\n",
       "      <td>0.0</td>\n",
       "      <td>0.0</td>\n",
       "      <td>0.001300</td>\n",
       "      <td>2</td>\n",
       "      <td>6</td>\n",
       "    </tr>\n",
       "    <tr>\n",
       "      <th>3</th>\n",
       "      <td>0.0050</td>\n",
       "      <td>0.0</td>\n",
       "      <td>0.0</td>\n",
       "      <td>0.0</td>\n",
       "      <td>0.0</td>\n",
       "      <td>-0.3370</td>\n",
       "      <td>0.0</td>\n",
       "      <td>0.0</td>\n",
       "      <td>0.0</td>\n",
       "      <td>0.000889</td>\n",
       "      <td>...</td>\n",
       "      <td>0.0</td>\n",
       "      <td>0.0</td>\n",
       "      <td>0.0</td>\n",
       "      <td>0.0</td>\n",
       "      <td>0.0</td>\n",
       "      <td>0.0</td>\n",
       "      <td>0.0</td>\n",
       "      <td>0.001690</td>\n",
       "      <td>3</td>\n",
       "      <td>9</td>\n",
       "    </tr>\n",
       "    <tr>\n",
       "      <th>4</th>\n",
       "      <td>0.0072</td>\n",
       "      <td>0.0</td>\n",
       "      <td>0.0</td>\n",
       "      <td>0.0</td>\n",
       "      <td>0.0</td>\n",
       "      <td>-0.4850</td>\n",
       "      <td>0.0</td>\n",
       "      <td>0.0</td>\n",
       "      <td>0.0</td>\n",
       "      <td>0.001250</td>\n",
       "      <td>...</td>\n",
       "      <td>0.0</td>\n",
       "      <td>0.0</td>\n",
       "      <td>0.0</td>\n",
       "      <td>0.0</td>\n",
       "      <td>0.0</td>\n",
       "      <td>0.0</td>\n",
       "      <td>0.0</td>\n",
       "      <td>0.002197</td>\n",
       "      <td>3</td>\n",
       "      <td>12</td>\n",
       "    </tr>\n",
       "  </tbody>\n",
       "</table>\n",
       "<p>5 rows × 45 columns</p>\n",
       "</div>"
      ],
      "text/plain": [
       "   Time_T  CumQAP_L3  CumQRP_L3  CumQA_L3  CumQR_L3  CumQ3_L3  CumQ1_L3  \\\n",
       "0  0.0010        0.0        0.0       0.0       0.0   -0.0675       0.0   \n",
       "1  0.0020        0.0        0.0       0.0       0.0   -0.1350       0.0   \n",
       "2  0.0033        0.0        0.0       0.0       0.0   -0.2230       0.0   \n",
       "3  0.0050        0.0        0.0       0.0       0.0   -0.3370       0.0   \n",
       "4  0.0072        0.0        0.0       0.0       0.0   -0.4850       0.0   \n",
       "\n",
       "   CumQS_L3  CumQ5_L3  CumQ6_L3  ...  vKode7_L3pT  vKode8_L3pT  vKode9_L3pT  \\\n",
       "0       0.0       0.0  0.000188  ...          0.0          0.0          0.0   \n",
       "1       0.0       0.0  0.000371  ...          0.0          0.0          0.0   \n",
       "2       0.0       0.0  0.000601  ...          0.0          0.0          0.0   \n",
       "3       0.0       0.0  0.000889  ...          0.0          0.0          0.0   \n",
       "4       0.0       0.0  0.001250  ...          0.0          0.0          0.0   \n",
       "\n",
       "   RunOff_LpT  Evapor_LpT  Infiltr_LpT  SnowLayer_L        dt  Iter  ItCum  \n",
       "0         0.0         0.0          0.0          0.0  0.001000     2      2  \n",
       "1         0.0         0.0          0.0          0.0  0.001000     2      4  \n",
       "2         0.0         0.0          0.0          0.0  0.001300     2      6  \n",
       "3         0.0         0.0          0.0          0.0  0.001690     3      9  \n",
       "4         0.0         0.0          0.0          0.0  0.002197     3     12  \n",
       "\n",
       "[5 rows x 45 columns]"
      ]
     },
     "metadata": {},
     "output_type": "display_data"
    },
    {
     "data": {
      "text/html": [
       "<div>\n",
       "<style scoped>\n",
       "    .dataframe tbody tr th:only-of-type {\n",
       "        vertical-align: middle;\n",
       "    }\n",
       "\n",
       "    .dataframe tbody tr th {\n",
       "        vertical-align: top;\n",
       "    }\n",
       "\n",
       "    .dataframe thead th {\n",
       "        text-align: right;\n",
       "    }\n",
       "</style>\n",
       "<table border=\"1\" class=\"dataframe\">\n",
       "  <thead>\n",
       "    <tr style=\"text-align: right;\">\n",
       "      <th></th>\n",
       "      <th>Time_T</th>\n",
       "      <th>CumQAP_L3</th>\n",
       "      <th>CumQRP_L3</th>\n",
       "      <th>CumQA_L3</th>\n",
       "      <th>CumQR_L3</th>\n",
       "      <th>CumQ3_L3</th>\n",
       "      <th>CumQ1_L3</th>\n",
       "      <th>CumQS_L3</th>\n",
       "      <th>CumQ5_L3</th>\n",
       "      <th>CumQ6_L3</th>\n",
       "      <th>...</th>\n",
       "      <th>vKode7_L3pT</th>\n",
       "      <th>vKode8_L3pT</th>\n",
       "      <th>vKode9_L3pT</th>\n",
       "      <th>RunOff_LpT</th>\n",
       "      <th>Evapor_LpT</th>\n",
       "      <th>Infiltr_LpT</th>\n",
       "      <th>SnowLayer_L</th>\n",
       "      <th>dt</th>\n",
       "      <th>Iter</th>\n",
       "      <th>ItCum</th>\n",
       "    </tr>\n",
       "  </thead>\n",
       "  <tbody>\n",
       "    <tr>\n",
       "      <th>0</th>\n",
       "      <td>0.0010</td>\n",
       "      <td>0.0</td>\n",
       "      <td>0.0</td>\n",
       "      <td>0.0</td>\n",
       "      <td>0.0</td>\n",
       "      <td>-0.0675</td>\n",
       "      <td>0.0</td>\n",
       "      <td>0.0</td>\n",
       "      <td>0.0</td>\n",
       "      <td>0.00178</td>\n",
       "      <td>...</td>\n",
       "      <td>0.0</td>\n",
       "      <td>0.0</td>\n",
       "      <td>0.0</td>\n",
       "      <td>0.0</td>\n",
       "      <td>0.0</td>\n",
       "      <td>0.0</td>\n",
       "      <td>0.0</td>\n",
       "      <td>0.00100</td>\n",
       "      <td>5</td>\n",
       "      <td>5</td>\n",
       "    </tr>\n",
       "    <tr>\n",
       "      <th>1</th>\n",
       "      <td>0.0020</td>\n",
       "      <td>0.0</td>\n",
       "      <td>0.0</td>\n",
       "      <td>0.0</td>\n",
       "      <td>0.0</td>\n",
       "      <td>-0.1350</td>\n",
       "      <td>0.0</td>\n",
       "      <td>0.0</td>\n",
       "      <td>0.0</td>\n",
       "      <td>0.00327</td>\n",
       "      <td>...</td>\n",
       "      <td>0.0</td>\n",
       "      <td>0.0</td>\n",
       "      <td>0.0</td>\n",
       "      <td>0.0</td>\n",
       "      <td>0.0</td>\n",
       "      <td>0.0</td>\n",
       "      <td>0.0</td>\n",
       "      <td>0.00100</td>\n",
       "      <td>4</td>\n",
       "      <td>9</td>\n",
       "    </tr>\n",
       "    <tr>\n",
       "      <th>2</th>\n",
       "      <td>0.0030</td>\n",
       "      <td>0.0</td>\n",
       "      <td>0.0</td>\n",
       "      <td>0.0</td>\n",
       "      <td>0.0</td>\n",
       "      <td>-0.2030</td>\n",
       "      <td>0.0</td>\n",
       "      <td>0.0</td>\n",
       "      <td>0.0</td>\n",
       "      <td>0.00458</td>\n",
       "      <td>...</td>\n",
       "      <td>0.0</td>\n",
       "      <td>0.0</td>\n",
       "      <td>0.0</td>\n",
       "      <td>0.0</td>\n",
       "      <td>0.0</td>\n",
       "      <td>0.0</td>\n",
       "      <td>0.0</td>\n",
       "      <td>0.00100</td>\n",
       "      <td>3</td>\n",
       "      <td>12</td>\n",
       "    </tr>\n",
       "    <tr>\n",
       "      <th>3</th>\n",
       "      <td>0.0043</td>\n",
       "      <td>0.0</td>\n",
       "      <td>0.0</td>\n",
       "      <td>0.0</td>\n",
       "      <td>0.0</td>\n",
       "      <td>-0.2900</td>\n",
       "      <td>0.0</td>\n",
       "      <td>0.0</td>\n",
       "      <td>0.0</td>\n",
       "      <td>0.00610</td>\n",
       "      <td>...</td>\n",
       "      <td>0.0</td>\n",
       "      <td>0.0</td>\n",
       "      <td>0.0</td>\n",
       "      <td>0.0</td>\n",
       "      <td>0.0</td>\n",
       "      <td>0.0</td>\n",
       "      <td>0.0</td>\n",
       "      <td>0.00130</td>\n",
       "      <td>3</td>\n",
       "      <td>15</td>\n",
       "    </tr>\n",
       "    <tr>\n",
       "      <th>4</th>\n",
       "      <td>0.0060</td>\n",
       "      <td>0.0</td>\n",
       "      <td>0.0</td>\n",
       "      <td>0.0</td>\n",
       "      <td>0.0</td>\n",
       "      <td>-0.4040</td>\n",
       "      <td>0.0</td>\n",
       "      <td>0.0</td>\n",
       "      <td>0.0</td>\n",
       "      <td>0.00787</td>\n",
       "      <td>...</td>\n",
       "      <td>0.0</td>\n",
       "      <td>0.0</td>\n",
       "      <td>0.0</td>\n",
       "      <td>0.0</td>\n",
       "      <td>0.0</td>\n",
       "      <td>0.0</td>\n",
       "      <td>0.0</td>\n",
       "      <td>0.00169</td>\n",
       "      <td>3</td>\n",
       "      <td>18</td>\n",
       "    </tr>\n",
       "  </tbody>\n",
       "</table>\n",
       "<p>5 rows × 45 columns</p>\n",
       "</div>"
      ],
      "text/plain": [
       "   Time_T  CumQAP_L3  CumQRP_L3  CumQA_L3  CumQR_L3  CumQ3_L3  CumQ1_L3  \\\n",
       "0  0.0010        0.0        0.0       0.0       0.0   -0.0675       0.0   \n",
       "1  0.0020        0.0        0.0       0.0       0.0   -0.1350       0.0   \n",
       "2  0.0030        0.0        0.0       0.0       0.0   -0.2030       0.0   \n",
       "3  0.0043        0.0        0.0       0.0       0.0   -0.2900       0.0   \n",
       "4  0.0060        0.0        0.0       0.0       0.0   -0.4040       0.0   \n",
       "\n",
       "   CumQS_L3  CumQ5_L3  CumQ6_L3  ...  vKode7_L3pT  vKode8_L3pT  vKode9_L3pT  \\\n",
       "0       0.0       0.0   0.00178  ...          0.0          0.0          0.0   \n",
       "1       0.0       0.0   0.00327  ...          0.0          0.0          0.0   \n",
       "2       0.0       0.0   0.00458  ...          0.0          0.0          0.0   \n",
       "3       0.0       0.0   0.00610  ...          0.0          0.0          0.0   \n",
       "4       0.0       0.0   0.00787  ...          0.0          0.0          0.0   \n",
       "\n",
       "   RunOff_LpT  Evapor_LpT  Infiltr_LpT  SnowLayer_L       dt  Iter  ItCum  \n",
       "0         0.0         0.0          0.0          0.0  0.00100     5      5  \n",
       "1         0.0         0.0          0.0          0.0  0.00100     4      9  \n",
       "2         0.0         0.0          0.0          0.0  0.00100     3     12  \n",
       "3         0.0         0.0          0.0          0.0  0.00130     3     15  \n",
       "4         0.0         0.0          0.0          0.0  0.00169     3     18  \n",
       "\n",
       "[5 rows x 45 columns]"
      ]
     },
     "metadata": {},
     "output_type": "display_data"
    }
   ],
   "source": [
    "file_name = '6-BoundaryData.csv'\n",
    "orig_df = pd.read_csv(os.path.join(sources[0], 'Nesr', file_name))\n",
    "comp_df = pd.read_csv(os.path.join(sources[1], 'Nesr', file_name))\n",
    "display(orig_df.head(), comp_df.head())"
   ]
  },
  {
   "cell_type": "code",
   "execution_count": 23,
   "metadata": {
    "ExecuteTime": {
     "end_time": "2019-12-30T10:56:40.380575Z",
     "start_time": "2019-12-30T10:56:40.375589Z"
    }
   },
   "outputs": [
    {
     "data": {
      "text/plain": [
       "True"
      ]
     },
     "execution_count": 23,
     "metadata": {},
     "output_type": "execute_result"
    }
   ],
   "source": [
    "list(orig_df)== list(comp_df)"
   ]
  },
  {
   "cell_type": "code",
   "execution_count": 27,
   "metadata": {
    "ExecuteTime": {
     "end_time": "2019-12-30T10:58:06.467884Z",
     "start_time": "2019-12-30T10:58:06.462897Z"
    }
   },
   "outputs": [
    {
     "data": {
      "text/plain": [
       "False"
      ]
     },
     "execution_count": 27,
     "metadata": {},
     "output_type": "execute_result"
    }
   ],
   "source": [
    "list(orig_df.index)== list(comp_df.index)"
   ]
  },
  {
   "cell_type": "code",
   "execution_count": 30,
   "metadata": {
    "ExecuteTime": {
     "end_time": "2019-12-30T10:59:55.452495Z",
     "start_time": "2019-12-30T10:59:55.447481Z"
    }
   },
   "outputs": [
    {
     "data": {
      "text/plain": [
       "[]"
      ]
     },
     "execution_count": 30,
     "metadata": {},
     "output_type": "execute_result"
    }
   ],
   "source": [
    "[(a, b) for a,b in zip(orig_df.index,comp_df.index) if a!=b]"
   ]
  },
  {
   "cell_type": "code",
   "execution_count": 31,
   "metadata": {
    "ExecuteTime": {
     "end_time": "2019-12-30T11:00:36.177725Z",
     "start_time": "2019-12-30T11:00:36.173761Z"
    }
   },
   "outputs": [
    {
     "data": {
      "text/plain": [
       "((402, 45), (385, 45))"
      ]
     },
     "execution_count": 31,
     "metadata": {},
     "output_type": "execute_result"
    }
   ],
   "source": [
    "orig_df.shape, comp_df.shape"
   ]
  },
  {
   "cell_type": "code",
   "execution_count": 33,
   "metadata": {
    "ExecuteTime": {
     "end_time": "2019-12-30T11:03:42.647577Z",
     "start_time": "2019-12-30T11:03:42.618627Z"
    }
   },
   "outputs": [
    {
     "name": "stdout",
     "output_type": "stream",
     "text": [
      "14_ (402, 45)\n",
      "14a (385, 45)\n",
      "14b (384, 45)\n",
      "14c (389, 45)\n",
      "14d (360, 45)\n",
      "14e (365, 45)\n"
     ]
    }
   ],
   "source": [
    "print('14_', orig_df.shape)\n",
    "for other in range(1,len(sources)):\n",
    "    source = sources[other]\n",
    "    comp_df = pd.read_csv(os.path.join(source, 'Nesr', file_name))\n",
    "    print(f'{source.split(\"/\")[2][-3:]}', comp_df.shape)"
   ]
  },
  {
   "cell_type": "code",
   "execution_count": 34,
   "metadata": {
    "ExecuteTime": {
     "end_time": "2019-12-30T11:04:29.520142Z",
     "start_time": "2019-12-30T11:04:29.513163Z"
    }
   },
   "outputs": [],
   "source": [
    "# matching=(orig_df==comp_df).mean()*100"
   ]
  },
  {
   "cell_type": "code",
   "execution_count": 35,
   "metadata": {
    "ExecuteTime": {
     "end_time": "2019-12-30T11:04:31.303359Z",
     "start_time": "2019-12-30T11:04:31.296378Z"
    }
   },
   "outputs": [],
   "source": [
    "# matching[matching<100]"
   ]
  },
  {
   "cell_type": "code",
   "execution_count": 36,
   "metadata": {
    "ExecuteTime": {
     "end_time": "2019-12-30T11:04:43.379566Z",
     "start_time": "2019-12-30T11:04:43.309754Z"
    },
    "scrolled": true
   },
   "outputs": [],
   "source": [
    "# orig_df = pd.read_csv(os.path.join(sources[0], 'Nesr', file_name))\n",
    "# results = {}\n",
    "# for other in range(1,len(sources)):\n",
    "#     source = sources[other]\n",
    "#     comp_df = pd.read_csv(os.path.join(source, 'Nesr', file_name))\n",
    "#     matching=(orig_df==comp_df).mean()*100\n",
    "#     results[source.split(\"/\")[2][-3:]]=matching\n",
    "\n",
    "# results = pd.DataFrame(results)\n",
    "# results[results<100].dropna()"
   ]
  },
  {
   "cell_type": "markdown",
   "metadata": {},
   "source": [
    "## Working with `7-MaterialsData.csv`"
   ]
  },
  {
   "cell_type": "code",
   "execution_count": 37,
   "metadata": {
    "ExecuteTime": {
     "end_time": "2019-12-30T11:04:23.391632Z",
     "start_time": "2019-12-30T11:04:23.364678Z"
    }
   },
   "outputs": [
    {
     "data": {
      "text/html": [
       "<div>\n",
       "<style scoped>\n",
       "    .dataframe tbody tr th:only-of-type {\n",
       "        vertical-align: middle;\n",
       "    }\n",
       "\n",
       "    .dataframe tbody tr th {\n",
       "        vertical-align: top;\n",
       "    }\n",
       "\n",
       "    .dataframe thead th {\n",
       "        text-align: right;\n",
       "    }\n",
       "</style>\n",
       "<table border=\"1\" class=\"dataframe\">\n",
       "  <thead>\n",
       "    <tr style=\"text-align: right;\">\n",
       "      <th></th>\n",
       "      <th>Material</th>\n",
       "      <th>theta</th>\n",
       "      <th>h</th>\n",
       "      <th>log_h</th>\n",
       "      <th>C</th>\n",
       "      <th>K</th>\n",
       "      <th>log_K</th>\n",
       "      <th>S</th>\n",
       "    </tr>\n",
       "  </thead>\n",
       "  <tbody>\n",
       "    <tr>\n",
       "      <th>0</th>\n",
       "      <td>1</td>\n",
       "      <td>0.43</td>\n",
       "      <td>-0.0100</td>\n",
       "      <td>-2.000</td>\n",
       "      <td>0.0</td>\n",
       "      <td>0.495</td>\n",
       "      <td>-0.3054</td>\n",
       "      <td>1.0</td>\n",
       "    </tr>\n",
       "    <tr>\n",
       "      <th>1</th>\n",
       "      <td>1</td>\n",
       "      <td>0.43</td>\n",
       "      <td>-0.0115</td>\n",
       "      <td>-1.939</td>\n",
       "      <td>0.0</td>\n",
       "      <td>0.495</td>\n",
       "      <td>-0.3054</td>\n",
       "      <td>1.0</td>\n",
       "    </tr>\n",
       "    <tr>\n",
       "      <th>2</th>\n",
       "      <td>1</td>\n",
       "      <td>0.43</td>\n",
       "      <td>-0.0132</td>\n",
       "      <td>-1.879</td>\n",
       "      <td>0.0</td>\n",
       "      <td>0.495</td>\n",
       "      <td>-0.3054</td>\n",
       "      <td>1.0</td>\n",
       "    </tr>\n",
       "    <tr>\n",
       "      <th>3</th>\n",
       "      <td>1</td>\n",
       "      <td>0.43</td>\n",
       "      <td>-0.0152</td>\n",
       "      <td>-1.818</td>\n",
       "      <td>0.0</td>\n",
       "      <td>0.495</td>\n",
       "      <td>-0.3054</td>\n",
       "      <td>1.0</td>\n",
       "    </tr>\n",
       "    <tr>\n",
       "      <th>4</th>\n",
       "      <td>1</td>\n",
       "      <td>0.43</td>\n",
       "      <td>-0.0175</td>\n",
       "      <td>-1.758</td>\n",
       "      <td>0.0</td>\n",
       "      <td>0.495</td>\n",
       "      <td>-0.3054</td>\n",
       "      <td>1.0</td>\n",
       "    </tr>\n",
       "  </tbody>\n",
       "</table>\n",
       "</div>"
      ],
      "text/plain": [
       "   Material  theta       h  log_h    C      K   log_K    S\n",
       "0         1   0.43 -0.0100 -2.000  0.0  0.495 -0.3054  1.0\n",
       "1         1   0.43 -0.0115 -1.939  0.0  0.495 -0.3054  1.0\n",
       "2         1   0.43 -0.0132 -1.879  0.0  0.495 -0.3054  1.0\n",
       "3         1   0.43 -0.0152 -1.818  0.0  0.495 -0.3054  1.0\n",
       "4         1   0.43 -0.0175 -1.758  0.0  0.495 -0.3054  1.0"
      ]
     },
     "execution_count": 37,
     "metadata": {},
     "output_type": "execute_result"
    }
   ],
   "source": [
    "file_name = '7-MaterialsData.csv'\n",
    "orig_df = pd.read_csv(os.path.join(sources[0], 'Nesr', file_name))\n",
    "comp_df = pd.read_csv(os.path.join(sources[1], 'Nesr', file_name))\n",
    "orig_df.head()"
   ]
  },
  {
   "cell_type": "code",
   "execution_count": 38,
   "metadata": {
    "ExecuteTime": {
     "end_time": "2019-12-30T11:04:29.520142Z",
     "start_time": "2019-12-30T11:04:29.513163Z"
    }
   },
   "outputs": [],
   "source": [
    "matching=(orig_df==comp_df).mean()*100"
   ]
  },
  {
   "cell_type": "code",
   "execution_count": 39,
   "metadata": {
    "ExecuteTime": {
     "end_time": "2019-12-30T11:04:31.303359Z",
     "start_time": "2019-12-30T11:04:31.296378Z"
    }
   },
   "outputs": [
    {
     "data": {
      "text/plain": [
       "theta    88.914027\n",
       "C        92.986425\n",
       "K        92.986425\n",
       "log_K    92.986425\n",
       "S        94.570136\n",
       "dtype: float64"
      ]
     },
     "execution_count": 39,
     "metadata": {},
     "output_type": "execute_result"
    }
   ],
   "source": [
    "matching[matching<100]"
   ]
  },
  {
   "cell_type": "code",
   "execution_count": 40,
   "metadata": {
    "ExecuteTime": {
     "end_time": "2019-12-30T11:04:43.379566Z",
     "start_time": "2019-12-30T11:04:43.309754Z"
    },
    "scrolled": false
   },
   "outputs": [
    {
     "data": {
      "text/html": [
       "<div>\n",
       "<style scoped>\n",
       "    .dataframe tbody tr th:only-of-type {\n",
       "        vertical-align: middle;\n",
       "    }\n",
       "\n",
       "    .dataframe tbody tr th {\n",
       "        vertical-align: top;\n",
       "    }\n",
       "\n",
       "    .dataframe thead th {\n",
       "        text-align: right;\n",
       "    }\n",
       "</style>\n",
       "<table border=\"1\" class=\"dataframe\">\n",
       "  <thead>\n",
       "    <tr style=\"text-align: right;\">\n",
       "      <th></th>\n",
       "      <th>14a</th>\n",
       "      <th>14b</th>\n",
       "      <th>14c</th>\n",
       "      <th>14d</th>\n",
       "      <th>14e</th>\n",
       "    </tr>\n",
       "  </thead>\n",
       "  <tbody>\n",
       "    <tr>\n",
       "      <th>theta</th>\n",
       "      <td>88.914027</td>\n",
       "      <td>88.914027</td>\n",
       "      <td>88.914027</td>\n",
       "      <td>88.914027</td>\n",
       "      <td>88.914027</td>\n",
       "    </tr>\n",
       "    <tr>\n",
       "      <th>C</th>\n",
       "      <td>92.986425</td>\n",
       "      <td>92.986425</td>\n",
       "      <td>92.986425</td>\n",
       "      <td>92.986425</td>\n",
       "      <td>92.986425</td>\n",
       "    </tr>\n",
       "    <tr>\n",
       "      <th>K</th>\n",
       "      <td>92.986425</td>\n",
       "      <td>88.914027</td>\n",
       "      <td>88.914027</td>\n",
       "      <td>88.914027</td>\n",
       "      <td>88.914027</td>\n",
       "    </tr>\n",
       "    <tr>\n",
       "      <th>log_K</th>\n",
       "      <td>92.986425</td>\n",
       "      <td>88.914027</td>\n",
       "      <td>88.914027</td>\n",
       "      <td>88.914027</td>\n",
       "      <td>88.914027</td>\n",
       "    </tr>\n",
       "    <tr>\n",
       "      <th>S</th>\n",
       "      <td>94.570136</td>\n",
       "      <td>94.570136</td>\n",
       "      <td>94.570136</td>\n",
       "      <td>94.570136</td>\n",
       "      <td>94.570136</td>\n",
       "    </tr>\n",
       "  </tbody>\n",
       "</table>\n",
       "</div>"
      ],
      "text/plain": [
       "             14a        14b        14c        14d        14e\n",
       "theta  88.914027  88.914027  88.914027  88.914027  88.914027\n",
       "C      92.986425  92.986425  92.986425  92.986425  92.986425\n",
       "K      92.986425  88.914027  88.914027  88.914027  88.914027\n",
       "log_K  92.986425  88.914027  88.914027  88.914027  88.914027\n",
       "S      94.570136  94.570136  94.570136  94.570136  94.570136"
      ]
     },
     "execution_count": 40,
     "metadata": {},
     "output_type": "execute_result"
    }
   ],
   "source": [
    "orig_df = pd.read_csv(os.path.join(sources[0], 'Nesr', file_name))\n",
    "results = {}\n",
    "for other in range(1,len(sources)):\n",
    "    source = sources[other]\n",
    "    comp_df = pd.read_csv(os.path.join(source, 'Nesr', file_name))\n",
    "    matching=(orig_df==comp_df).mean()*100\n",
    "    results[source.split(\"/\")[2][-3:]]=matching\n",
    "\n",
    "results = pd.DataFrame(results)\n",
    "results[results<100].dropna()"
   ]
  },
  {
   "cell_type": "code",
   "execution_count": null,
   "metadata": {},
   "outputs": [],
   "source": []
  },
  {
   "cell_type": "code",
   "execution_count": null,
   "metadata": {},
   "outputs": [],
   "source": []
  },
  {
   "cell_type": "code",
   "execution_count": null,
   "metadata": {},
   "outputs": [],
   "source": []
  },
  {
   "cell_type": "code",
   "execution_count": null,
   "metadata": {},
   "outputs": [],
   "source": []
  },
  {
   "cell_type": "code",
   "execution_count": null,
   "metadata": {},
   "outputs": [],
   "source": []
  },
  {
   "cell_type": "code",
   "execution_count": null,
   "metadata": {},
   "outputs": [],
   "source": []
  },
  {
   "cell_type": "code",
   "execution_count": null,
   "metadata": {},
   "outputs": [],
   "source": []
  }
 ],
 "metadata": {
  "kernelspec": {
   "display_name": "Python 3",
   "language": "python",
   "name": "python3"
  },
  "language_info": {
   "codemirror_mode": {
    "name": "ipython",
    "version": 3
   },
   "file_extension": ".py",
   "mimetype": "text/x-python",
   "name": "python",
   "nbconvert_exporter": "python",
   "pygments_lexer": "ipython3",
   "version": "3.7.4"
  },
  "varInspector": {
   "cols": {
    "lenName": 16,
    "lenType": 16,
    "lenVar": 40
   },
   "kernels_config": {
    "python": {
     "delete_cmd_postfix": "",
     "delete_cmd_prefix": "del ",
     "library": "var_list.py",
     "varRefreshCmd": "print(var_dic_list())"
    },
    "r": {
     "delete_cmd_postfix": ") ",
     "delete_cmd_prefix": "rm(",
     "library": "var_list.r",
     "varRefreshCmd": "cat(var_dic_list()) "
    }
   },
   "types_to_exclude": [
    "module",
    "function",
    "builtin_function_or_method",
    "instance",
    "_Feature"
   ],
   "window_display": false
  }
 },
 "nbformat": 4,
 "nbformat_minor": 2
}
