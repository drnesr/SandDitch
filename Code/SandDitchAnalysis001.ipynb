{
 "cells": [
  {
   "cell_type": "code",
   "execution_count": 1,
   "metadata": {
    "ExecuteTime": {
     "end_time": "2019-07-28T10:33:58.024672Z",
     "start_time": "2019-07-28T10:33:58.018676Z"
    },
    "pycharm": {
     "is_executing": false
    }
   },
   "outputs": [
    {
     "name": "stdout",
     "output_type": "stream",
     "text": [
      "7\n"
     ]
    }
   ],
   "source": [
    "print(5+2)"
   ]
  },
  {
   "cell_type": "code",
   "execution_count": 2,
   "metadata": {
    "ExecuteTime": {
     "end_time": "2019-07-28T10:34:00.443378Z",
     "start_time": "2019-07-28T10:33:58.026670Z"
    },
    "pycharm": {
     "is_executing": false,
     "name": "#%%\n"
    }
   },
   "outputs": [],
   "source": [
    "import os\n",
    "import glob\n",
    "import shutil\n",
    "import pandas as pd\n",
    "import numpy as np\n",
    "import matplotlib.pyplot as plt\n",
    "from matplotlib.colors import LinearSegmentedColormap as LSCm\n",
    "from scipy.interpolate import griddata\n",
    "from scipy.signal import savgol_filter\n",
    "from scipy import integrate\n"
   ]
  },
  {
   "cell_type": "code",
   "execution_count": 3,
   "metadata": {
    "ExecuteTime": {
     "end_time": "2019-07-28T10:34:00.453600Z",
     "start_time": "2019-07-28T10:34:00.443378Z"
    },
    "pycharm": {
     "is_executing": false,
     "name": "#%%\n"
    }
   },
   "outputs": [],
   "source": [
    "from NesrHydrusAnalyst import *"
   ]
  },
  {
   "cell_type": "markdown",
   "metadata": {},
   "source": [
    "# Testing the drawing capabilities"
   ]
  },
  {
   "cell_type": "code",
   "execution_count": 28,
   "metadata": {
    "ExecuteTime": {
     "end_time": "2019-07-28T14:02:05.641957Z",
     "start_time": "2019-07-28T14:02:05.626966Z"
    },
    "code_folding": [
     0
    ]
   },
   "outputs": [],
   "source": [
    "def draw_full_contour(data_frame,variable=0, time_step=180, grid= 0.5, \n",
    "                      crosses=35., tol=10., section= 'x', levels=None,\n",
    "                      plot_title=\"ElNesr cross sectional contour map\",\n",
    "                      return_arrays=True, x_step=None, z_step=None,\n",
    "                      mirror_x=False, mirror_z=False, is2d=False, \n",
    "                      output_the_contour=True, is_axisymmetric=False,\n",
    "                      return_figure_object=False, fig_size=(18, 7)):\n",
    "    \n",
    "    '''\n",
    "    Either (1) set the return_arrays to True and use on right \n",
    "                hand side of equal sign, \n",
    "    OR     (2) set the return_arrays to False and use the function as is.\n",
    "    Examples:\n",
    "    (1)\n",
    "       arrays = draw_full_contour(data_frame,variable, time_step, grid, \n",
    "                                   crosses, tol, section)\n",
    "       It will draws the chart AND sets arrays=X, Z, M, levels\n",
    "    (2)\n",
    "       draw_full_contour(data_frame,variable, time_step, grid, crosses, \n",
    "                           tol, section, return_arrays=False)    \n",
    "    '''\n",
    "#     print('is2d=', is2d)\n",
    "    X, Z, M, x_vals, z_vals = get_grid_values(data_frame, variable, \n",
    "                                              time_step, grid, crosses, \n",
    "                                              tol, section, is2d=is2d,\n",
    "                                             is_axisymmetric=is_axisymmetric)\n",
    "    # print(x_vals.shape, z_vals.shape, X.shape, Z.shape, M.shape)\n",
    "    if levels is None:\n",
    "        levels = get_legend_range(np.nanmin(M),np.nanmax(M))#np.arange(0.15, 0.42, 0.03)\n",
    "\n",
    "    mn, mx = np.nanmin(M),np.nanmax(M)\n",
    "    # print (mx,mn, mx-mn)\n",
    "    if mx - mn < 0.000000001:\n",
    "        print('For the requested contour map of {}'.format(plot_title), end='. ')\n",
    "        print (\"The map has one value only ({}), no contour map will be drawn.\".\n",
    "               format(mn))\n",
    "        can_draw_figure=False\n",
    "    else:\n",
    "        can_draw_figure=True\n",
    "\n",
    "    if not output_the_contour and not return_figure_object:\n",
    "        fig = None\n",
    "    else:\n",
    "        if can_draw_figure:\n",
    "            fig = draw_contour(X, Z, M, levels, plot_title, x_step, z_step,\n",
    "                             mirror_x, mirror_z, return_figure_object, fig_size=fig_size);\n",
    "        else:\n",
    "            fig = None\n",
    "\n",
    "#     exit()\n",
    "    if return_arrays:\n",
    "        if output_the_contour:\n",
    "            if return_figure_object:\n",
    "                return X, Z, M, levels, fig\n",
    "            else: # return_figure_object=False\n",
    "                display(fig)\n",
    "                # fig.show()\n",
    "                return X, Z, M, levels\n",
    "        else:  #output_the_contour=False\n",
    "            if return_figure_object:\n",
    "                return X, Z, M, levels, fig\n",
    "            else: # return_figure_object=False\n",
    "                return X, Z, M, levels\n",
    "    else:  #return_arrays=False\n",
    "        if output_the_contour:\n",
    "            if return_figure_object:\n",
    "                return fig\n",
    "            else: # return_figure_object=False\n",
    "                display(fig)\n",
    "                # fig.show()\n",
    "        else:  #output_the_contour=False\n",
    "            if return_figure_object:\n",
    "                return fig"
   ]
  },
  {
   "cell_type": "code",
   "execution_count": 29,
   "metadata": {
    "ExecuteTime": {
     "end_time": "2019-07-28T14:02:14.387794Z",
     "start_time": "2019-07-28T14:02:14.359811Z"
    },
    "code_folding": [
     0
    ]
   },
   "outputs": [],
   "source": [
    "def draw_contour(X, Z, M, levels=None,\n",
    "                 plot_title=\"ElNesr cross sectional contour map\",\n",
    "                 x_step=10., z_step=25., mirror_x=False, mirror_z=False,\n",
    "                 return_figure_object=False, fig_size=(18, 7)):\n",
    "    '''\n",
    "\n",
    "    '''\n",
    "#     print('mir_X draw_contour: ', mirror_x)\n",
    "    fig = plt.figure(num=None, figsize=fig_size, dpi=80,\n",
    "                     facecolor='w', edgecolor='k')\n",
    "    origin = 'lower'\n",
    "\n",
    "    if levels is None:\n",
    "        #         print(M.min(), M.max())\n",
    "        try:\n",
    "            #             levels = get_legend_range(M.min(), M.max())#np.arange(0.15, 0.42, 0.03)\n",
    "            # np.arange(0.15, 0.42, 0.03)\n",
    "            levels = get_legend_range(np.nanmin(M), np.nanmax(M))\n",
    "        except:\n",
    "            levels = get_legend_range(-.15, 0.15)\n",
    "\n",
    "#     CS_lines = plt.contour (X, Z, M, levels, cmap=plt.cm.Accent_r,\n",
    "#                             linewidths=(2,), origin=origin, extend='both')\n",
    "#     CS_lines = plt.contour (X, Z, M, levels, cmap=plt.cm.Accent_r,\n",
    "#                             linewidths=(0.25,), origin=origin, extend='both')\n",
    "    CS_lines = plt.contour(X, Z, M, levels, cmap=plt.cm.Accent_r,\n",
    "                           linewidths=(0.9,), origin=origin, extend='both')\n",
    "\n",
    "    CS_fill = plt.contourf(X, Z, M, levels, cmap=plt.cm.YlGn,\n",
    "                           origin=origin, extend='both')\n",
    "\n",
    "    CS_fill.cmap.set_under('oldlace')\n",
    "    CS_fill.cmap.set_over('darkslategrey')\n",
    "    plt.title(plot_title)\n",
    "    plt.ylabel(\"Depth (cm)\")\n",
    "    cols = plt.cm.Accent_r(CS_lines.norm(CS_lines.levels))\n",
    "    # plt.clabel(CS_lines, linewidths=4, fmt='%2.2f', fontsize='x-large',\n",
    "    plt.clabel(CS_lines, fmt='%2.2f', fontsize='x-large',\n",
    "               colors=cols, inline=True, inline_spacing=10)\n",
    "    plt.colorbar(CS_fill)\n",
    "#     print(Z.min(), Z.max(), X.min(), X.max())\n",
    "#     print(plt.xlim)\n",
    "\n",
    "    def adjust_max_and_min(_min, _max, _step):\n",
    "        nn, xx, ss = _min, _max, _step\n",
    "        if xx <= 0.:\n",
    "            nn, xx = xx, nn\n",
    "            if ss > 0:\n",
    "                ss = -ss\n",
    "        return nn, xx, ss\n",
    "\n",
    "    def adjust_axis_labels(_min, _max, _step):\n",
    "        nn, xx, ss = adjust_max_and_min(_min, _max, _step)\n",
    "\n",
    "        x_list = np.arange(nn, xx, ss)\n",
    "        if abs(x_list[-1]-xx) > 3:  # The last number is far enough from\n",
    "                                 # the maximum element\n",
    "            x_list = np.hstack([x_list, xx])\n",
    "        else:  # The last number is too close to the maximum element\n",
    "            x_list = np.hstack([x_list[:-1], xx])\n",
    "        return x_list\n",
    "\n",
    "    def adjust_mirrored_labels(_min, _max, _step):\n",
    "        #         print(_min, _max, _step)\n",
    "        nn, xx, ss = adjust_max_and_min(_min, _max, _step)\n",
    "#         print(nn, xx, ss)\n",
    "        x_mid = (xx-nn)/2.\n",
    "#         print(x_mid)\n",
    "\n",
    "        if x_mid < 0:\n",
    "            right_list = adjust_axis_labels(min(x_mid, xx), max(x_mid, xx), ss)\n",
    "#             print('Right list',right_list)\n",
    "            left_list = right_list - x_mid\n",
    "#             print('left List',left_list)\n",
    "            right_list = x_mid - right_list\n",
    "#             print('Right list2',right_list)\n",
    "\n",
    "            left_list.sort()\n",
    "#             print('left List2', left_list)\n",
    "\n",
    "            label_list = np.hstack([left_list[:-1], right_list])\n",
    "#             print('Label list',label_list)\n",
    "\n",
    "            real_list = x_mid-label_list\n",
    "#             print('Real list',real_list)\n",
    "            label_list = label_list[::-1]\n",
    "#             print('Label list3',label_list)\n",
    "            return real_list, label_list\n",
    "        elif x_mid > 0:\n",
    "            right_list = adjust_axis_labels(x_mid, xx, ss)\n",
    "#             print('Right list',right_list)\n",
    "            left_list = 2 * x_mid - right_list\n",
    "#             print(left_list)\n",
    "            left_list.sort()\n",
    "#             print(left_list)\n",
    "            real_list = np.hstack([left_list[:-1], right_list])\n",
    "#             print(real_list)\n",
    "            label_list = real_list - x_mid\n",
    "#             print(label_list)\n",
    "            label_list = tuple(['{:3.1f}'.format(x) for x in label_list])\n",
    "#             print(label_list)\n",
    "            return real_list, label_list\n",
    "        else:\n",
    "            real_list, label_list = None, None\n",
    "            return real_list, label_list\n",
    "\n",
    "\n",
    "#     print('mir_X draw_contour2: ', mirror_x, 'x_step: ', x_step)\n",
    "    if mirror_x:\n",
    "        if x_step is not None:\n",
    "            ticks, labels = adjust_mirrored_labels(X.min(), X.max(), x_step)\n",
    "#             print(ticks, labels)\n",
    "            plt.xticks(ticks, labels)\n",
    "    else:  # No Mirroring\n",
    "        if x_step is not None:\n",
    "            plt.xticks(adjust_axis_labels(X.min(), X.max(), x_step))\n",
    "\n",
    "    if mirror_z:\n",
    "        if z_step is not None:\n",
    "            ticks, labels = adjust_mirrored_labels(Z.min(), Z.max(), z_step)\n",
    "            plt.yticks(ticks, labels)\n",
    "    else:  # No Mirroring\n",
    "        if z_step is not None:\n",
    "            plt.yticks(adjust_axis_labels(Z.min(), Z.max(), z_step))\n",
    "#     ax=plt.axes()\n",
    "    ax = plt.gca()\n",
    "    ax.grid(True, zorder=0)\n",
    "#     plt.axes().xaxis.grid(True, zorder=0)\n",
    "#     plt.axes().yaxis.grid(True, zorder=0)\n",
    "    # plt.colorbar(CS_lines)\n",
    "    if return_figure_object:\n",
    "        return fig\n",
    "    else:\n",
    "        plt.show()"
   ]
  },
  {
   "cell_type": "code",
   "execution_count": 6,
   "metadata": {
    "ExecuteTime": {
     "end_time": "2019-07-28T10:34:00.533585Z",
     "start_time": "2019-07-28T10:34:00.508568Z"
    },
    "pycharm": {
     "name": "#%%\n"
    }
   },
   "outputs": [],
   "source": [
    "src = '../Datasets/sample3d'"
   ]
  },
  {
   "cell_type": "code",
   "execution_count": 7,
   "metadata": {
    "ExecuteTime": {
     "end_time": "2019-07-28T10:34:30.171191Z",
     "start_time": "2019-07-28T10:34:00.534585Z"
    }
   },
   "outputs": [
    {
     "name": "stdout",
     "output_type": "stream",
     "text": [
      "x_vals(201,), z_vals(251,), X(251, 201), Z(251, 201), M(251, 201)\n"
     ]
    }
   ],
   "source": [
    "# tests get_grid_values\n",
    "data_frame= read_hydrus_data(folder=src, save_to_csv=False)\n",
    "v=0\n",
    "X, Z, M, x_vals, z_vals = get_grid_values(data_frame,variable=v)\n",
    "print('x_vals{}, z_vals{}, X{}, Z{}, M{}'.format(x_vals.shape, \n",
    "                                                 z_vals.shape, X.shape, \n",
    "                                                 Z.shape, M.shape))"
   ]
  },
  {
   "cell_type": "code",
   "execution_count": 8,
   "metadata": {
    "ExecuteTime": {
     "end_time": "2019-07-28T10:34:30.180185Z",
     "start_time": "2019-07-28T10:34:30.174189Z"
    }
   },
   "outputs": [
    {
     "data": {
      "text/plain": [
       "[0, 15, 60, 120, 180, 360, 720, 1440]"
      ]
     },
     "execution_count": 8,
     "metadata": {},
     "output_type": "execute_result"
    }
   ],
   "source": [
    "get_available_timesteps(data_frame)"
   ]
  },
  {
   "cell_type": "code",
   "execution_count": 9,
   "metadata": {
    "ExecuteTime": {
     "end_time": "2019-07-28T10:34:30.210165Z",
     "start_time": "2019-07-28T10:34:30.184183Z"
    }
   },
   "outputs": [
    {
     "data": {
      "text/plain": [
       "{'x': (0.0, 70.0), 'y': (0.0, 100.0), 'z': (-125.0, 0.0)}"
      ]
     },
     "execution_count": 9,
     "metadata": {},
     "output_type": "execute_result"
    }
   ],
   "source": [
    "get_full_dimensions(data_frame)"
   ]
  },
  {
   "cell_type": "code",
   "execution_count": 10,
   "metadata": {
    "ExecuteTime": {
     "end_time": "2019-07-28T10:34:30.229155Z",
     "start_time": "2019-07-28T10:34:30.212166Z"
    }
   },
   "outputs": [
    {
     "data": {
      "text/plain": [
       "array([0.230, 0.240, 0.250, 0.260, 0.270, 0.280, 0.290, 0.300, 0.310,\n",
       "       0.320, 0.330, 0.340, 0.350])"
      ]
     },
     "execution_count": 10,
     "metadata": {},
     "output_type": "execute_result"
    }
   ],
   "source": [
    "get_legend_range(M.min(), M.max())"
   ]
  },
  {
   "cell_type": "code",
   "execution_count": 62,
   "metadata": {
    "ExecuteTime": {
     "end_time": "2019-07-28T14:35:39.195014Z",
     "start_time": "2019-07-28T14:35:39.183021Z"
    }
   },
   "outputs": [
    {
     "name": "stdout",
     "output_type": "stream",
     "text": [
      "[100.000 125.000]\n",
      "[7.000 8.000]\n",
      "(8.0, 8.0)\n"
     ]
    }
   ],
   "source": [
    "# Building a get_fig_shape function\n",
    "\n",
    "max_height = 8\n",
    "extra_width = 1\n",
    "dims = get_full_dimensions(data_frame)\n",
    "for dim, vals in dims.items():\n",
    "    mn, mx = vals\n",
    "    length = mx-mn\n",
    "    #print(dim, length)\n",
    "    dims[dim] = length\n",
    "selected_dim = 'x'\n",
    "sels = {d: dims[d] for d in dims.keys() if d != selected_dim}\n",
    "fig_shape = np.array(list(sels.values()))  # [::-1]\n",
    "print(fig_shape)\n",
    "fig_shape = np.ceil(fig_shape*max_height/fig_shape[1])\n",
    "print(fig_shape)\n",
    "fig_shape[0]+=extra_width\n",
    "fig_shape=tuple(fig_shape)\n",
    "print(fig_shape)\n",
    "# fig_shape = [int(fs/13) for fs in fig_shape]\n",
    "# fig_shape[0]+=2\n",
    "# fig_shape= tuple(fig_shape)\n",
    "# fig_shape"
   ]
  },
  {
   "cell_type": "code",
   "execution_count": 64,
   "metadata": {
    "ExecuteTime": {
     "end_time": "2019-07-28T14:36:16.381191Z",
     "start_time": "2019-07-28T14:36:16.365200Z"
    },
    "code_folding": [
     0
    ]
   },
   "outputs": [
    {
     "data": {
      "text/plain": [
       "((6.0, 8.0), (8.0, 8.0))"
      ]
     },
     "execution_count": 64,
     "metadata": {},
     "output_type": "execute_result"
    }
   ],
   "source": [
    "def get_fig_shape(data_frame, \n",
    "                  selected_dim='y',\n",
    "                  max_height=8,\n",
    "                  extra_width=1):\n",
    "    '''\n",
    "    Returns a proportunal tuple contains the width and the height for a specific data_frame\n",
    "        If the data_frame is a 3D frame, then specify the slicing dimension as selected_dim, \n",
    "        with default value as 'y', which returns a xz 2D dataframe.\n",
    "        the max_height is a limiting factor for the figure's shape, the width will vary, \n",
    "        but the height will be as specified hers, with default value =8.\n",
    "        the width reflects the figure and the legend, that's why we add and extra_width of 1 \n",
    "        in most cases, else if specified otherwise.\n",
    "    '''\n",
    "    dims = get_full_dimensions(data_frame)\n",
    "    for dim, vals in dims.items():\n",
    "        mn, mx = vals\n",
    "        length = mx-mn\n",
    "        dims[dim] = length\n",
    "    sels = {d: dims[d] for d in dims.keys() if d != selected_dim}\n",
    "    fig_shape = np.array(list(sels.values()))  # [::-1]\n",
    "    fig_shape = np.ceil(fig_shape*max_height/fig_shape[1])\n",
    "    fig_shape[0] += extra_width\n",
    "    return tuple(fig_shape)\n",
    "\n",
    "\n",
    "get_fig_shape(data_frame, 'y'), get_fig_shape(data_frame, 'x')"
   ]
  },
  {
   "cell_type": "code",
   "execution_count": 70,
   "metadata": {
    "ExecuteTime": {
     "end_time": "2019-07-28T15:12:30.973365Z",
     "start_time": "2019-07-28T15:12:25.089980Z"
    },
    "code_folding": []
   },
   "outputs": [
    {
     "data": {
      "image/png": "[encoded data removed]",
      "text/plain": [
       "<Figure size 480x640 with 2 Axes>"
      ]
     },
     "metadata": {},
     "output_type": "display_data"
    },
    {
     "data": {
      "text/plain": [
       "None"
      ]
     },
     "metadata": {},
     "output_type": "display_data"
    }
   ],
   "source": [
    "# testing draw_full_contour function\n",
    "# data_frame_test = read_hydrus_data(save_to_csv=False)\n",
    "variable   = 0 # Theta\n",
    "time_step  = 180\n",
    "grid       = 0.5 # cm\n",
    "crosses    = 50.  #cm0)]\n",
    "tol        = 10.\n",
    "section    ='y'\n",
    "\n",
    "# Either (1) set the return_arrays to True and use on right hand side of equal sign, \n",
    "# OR     (2) set the return_arrays to False and use the function as is.\n",
    "\n",
    "# (1)\n",
    "# arrays = draw_full_contour(data_frame_test,variable, time_step, \n",
    "#                            grid, crosses, tol, section)\n",
    "# (2)\n",
    "# draw_full_contour(data_frame_test,variable, time_step, \n",
    "_=draw_full_contour(data_frame,variable, time_step, \n",
    "                  grid, crosses, tol, section, \n",
    "                  return_arrays=False, \n",
    "                  x_step=12, z_step=10, \n",
    "                  mirror_x=True, mirror_z=False, \n",
    "                  fig_size=get_fig_shape(data_frame,section));"
   ]
  },
  {
   "cell_type": "code",
   "execution_count": 69,
   "metadata": {
    "ExecuteTime": {
     "end_time": "2019-07-28T15:11:35.503335Z",
     "start_time": "2019-07-28T15:11:08.192121Z"
    }
   },
   "outputs": [
    {
     "data": {
      "image/png": "[encoded data removed]",
      "text/plain": [
       "<Figure size 640x640 with 2 Axes>"
      ]
     },
     "metadata": {},
     "output_type": "display_data"
    },
    {
     "data": {
      "text/plain": [
       "None"
      ]
     },
     "metadata": {},
     "output_type": "display_data"
    }
   ],
   "source": [
    "section = 'x'\n",
    "crosses    = 35.  #cm0)]\n",
    "_=draw_full_contour(data_frame, variable, time_step,\n",
    "                  grid, crosses, tol, section,\n",
    "                  return_arrays=False,\n",
    "                  x_step=12, z_step=10,\n",
    "                  mirror_x=True, mirror_z=False,\n",
    "                  fig_size=get_fig_shape(data_frame, section))"
   ]
  },
  {
   "cell_type": "markdown",
   "metadata": {},
   "source": [
    "# Get other data from 3D simulation"
   ]
  },
  {
   "cell_type": "code",
   "execution_count": 71,
   "metadata": {
    "ExecuteTime": {
     "end_time": "2019-07-28T18:14:10.808465Z",
     "start_time": "2019-07-28T18:14:10.730515Z"
    }
   },
   "outputs": [
    {
     "data": {
      "text/html": [
       "<div>\n",
       "<style scoped>\n",
       "    .dataframe tbody tr th:only-of-type {\n",
       "        vertical-align: middle;\n",
       "    }\n",
       "\n",
       "    .dataframe tbody tr th {\n",
       "        vertical-align: top;\n",
       "    }\n",
       "\n",
       "    .dataframe thead th {\n",
       "        text-align: right;\n",
       "    }\n",
       "</style>\n",
       "<table border=\"1\" class=\"dataframe\">\n",
       "  <thead>\n",
       "    <tr style=\"text-align: right;\">\n",
       "      <th></th>\n",
       "      <th>Sand Ditch simulation</th>\n",
       "    </tr>\n",
       "  </thead>\n",
       "  <tbody>\n",
       "    <tr>\n",
       "      <th>SimulTime_s</th>\n",
       "      <td>209.7500</td>\n",
       "    </tr>\n",
       "    <tr>\n",
       "      <th>L_Unit</th>\n",
       "      <td>1.0000</td>\n",
       "    </tr>\n",
       "    <tr>\n",
       "      <th>T_Unit</th>\n",
       "      <td>1.0000</td>\n",
       "    </tr>\n",
       "    <tr>\n",
       "      <th>Category</th>\n",
       "      <td>3.0000</td>\n",
       "    </tr>\n",
       "    <tr>\n",
       "      <th>MaxIt</th>\n",
       "      <td>10.0000</td>\n",
       "    </tr>\n",
       "    <tr>\n",
       "      <th>TolTh</th>\n",
       "      <td>0.0010</td>\n",
       "    </tr>\n",
       "    <tr>\n",
       "      <th>TolH</th>\n",
       "      <td>1.0000</td>\n",
       "    </tr>\n",
       "    <tr>\n",
       "      <th>InitH/W</th>\n",
       "      <td>1.0000</td>\n",
       "    </tr>\n",
       "    <tr>\n",
       "      <th>lWat</th>\n",
       "      <td>1.0000</td>\n",
       "    </tr>\n",
       "    <tr>\n",
       "      <th>lChem</th>\n",
       "      <td>0.0000</td>\n",
       "    </tr>\n",
       "    <tr>\n",
       "      <th>lSink</th>\n",
       "      <td>0.0000</td>\n",
       "    </tr>\n",
       "    <tr>\n",
       "      <th>Short</th>\n",
       "      <td>0.0000</td>\n",
       "    </tr>\n",
       "    <tr>\n",
       "      <th>Inter</th>\n",
       "      <td>0.0000</td>\n",
       "    </tr>\n",
       "    <tr>\n",
       "      <th>lScrn</th>\n",
       "      <td>1.0000</td>\n",
       "    </tr>\n",
       "    <tr>\n",
       "      <th>AtmIn</th>\n",
       "      <td>1.0000</td>\n",
       "    </tr>\n",
       "    <tr>\n",
       "      <th>lTemp</th>\n",
       "      <td>0.0000</td>\n",
       "    </tr>\n",
       "    <tr>\n",
       "      <th>lWTDep</th>\n",
       "      <td>0.0000</td>\n",
       "    </tr>\n",
       "    <tr>\n",
       "      <th>lEquil</th>\n",
       "      <td>1.0000</td>\n",
       "    </tr>\n",
       "    <tr>\n",
       "      <th>lExtGen</th>\n",
       "      <td>1.0000</td>\n",
       "    </tr>\n",
       "    <tr>\n",
       "      <th>lInv</th>\n",
       "      <td>0.0000</td>\n",
       "    </tr>\n",
       "    <tr>\n",
       "      <th>lUnsatCh</th>\n",
       "      <td>0.0000</td>\n",
       "    </tr>\n",
       "    <tr>\n",
       "      <th>lCFSTr</th>\n",
       "      <td>0.0000</td>\n",
       "    </tr>\n",
       "    <tr>\n",
       "      <th>lHP2</th>\n",
       "      <td>0.0000</td>\n",
       "    </tr>\n",
       "    <tr>\n",
       "      <th>m_lActRSU</th>\n",
       "      <td>0.0000</td>\n",
       "    </tr>\n",
       "    <tr>\n",
       "      <th>lDummy</th>\n",
       "      <td>0.0000</td>\n",
       "    </tr>\n",
       "    <tr>\n",
       "      <th>lDummy</th>\n",
       "      <td>0.0000</td>\n",
       "    </tr>\n",
       "    <tr>\n",
       "      <th>lDummy</th>\n",
       "      <td>0.0000</td>\n",
       "    </tr>\n",
       "    <tr>\n",
       "      <th>NMat</th>\n",
       "      <td>1.0000</td>\n",
       "    </tr>\n",
       "    <tr>\n",
       "      <th>NLay</th>\n",
       "      <td>1.0000</td>\n",
       "    </tr>\n",
       "    <tr>\n",
       "      <th>hTab1</th>\n",
       "      <td>0.0001</td>\n",
       "    </tr>\n",
       "    <tr>\n",
       "      <th>...</th>\n",
       "      <td>...</td>\n",
       "    </tr>\n",
       "    <tr>\n",
       "      <th>VolumeW60</th>\n",
       "      <td>184070.0000</td>\n",
       "    </tr>\n",
       "    <tr>\n",
       "      <th>VolumeW120</th>\n",
       "      <td>184370.0000</td>\n",
       "    </tr>\n",
       "    <tr>\n",
       "      <th>VolumeW180</th>\n",
       "      <td>184670.0000</td>\n",
       "    </tr>\n",
       "    <tr>\n",
       "      <th>VolumeW360</th>\n",
       "      <td>171480.0000</td>\n",
       "    </tr>\n",
       "    <tr>\n",
       "      <th>VolumeW720</th>\n",
       "      <td>144850.0000</td>\n",
       "    </tr>\n",
       "    <tr>\n",
       "      <th>VolumeW1440</th>\n",
       "      <td>120410.0000</td>\n",
       "    </tr>\n",
       "    <tr>\n",
       "      <th>WatBalR0</th>\n",
       "      <td>NaN</td>\n",
       "    </tr>\n",
       "    <tr>\n",
       "      <th>WatBalR15</th>\n",
       "      <td>0.1000</td>\n",
       "    </tr>\n",
       "    <tr>\n",
       "      <th>WatBalR60</th>\n",
       "      <td>0.0850</td>\n",
       "    </tr>\n",
       "    <tr>\n",
       "      <th>WatBalR120</th>\n",
       "      <td>0.0790</td>\n",
       "    </tr>\n",
       "    <tr>\n",
       "      <th>WatBalR180</th>\n",
       "      <td>0.1010</td>\n",
       "    </tr>\n",
       "    <tr>\n",
       "      <th>WatBalR360</th>\n",
       "      <td>0.0950</td>\n",
       "    </tr>\n",
       "    <tr>\n",
       "      <th>WatBalR720</th>\n",
       "      <td>0.1010</td>\n",
       "    </tr>\n",
       "    <tr>\n",
       "      <th>WatBalR1440</th>\n",
       "      <td>0.1390</td>\n",
       "    </tr>\n",
       "    <tr>\n",
       "      <th>WatBalT0</th>\n",
       "      <td>NaN</td>\n",
       "    </tr>\n",
       "    <tr>\n",
       "      <th>WatBalT15</th>\n",
       "      <td>2.0785</td>\n",
       "    </tr>\n",
       "    <tr>\n",
       "      <th>WatBalT60</th>\n",
       "      <td>7.1151</td>\n",
       "    </tr>\n",
       "    <tr>\n",
       "      <th>WatBalT120</th>\n",
       "      <td>13.2160</td>\n",
       "    </tr>\n",
       "    <tr>\n",
       "      <th>WatBalT180</th>\n",
       "      <td>25.2300</td>\n",
       "    </tr>\n",
       "    <tr>\n",
       "      <th>WatBalT360</th>\n",
       "      <td>36.4230</td>\n",
       "    </tr>\n",
       "    <tr>\n",
       "      <th>WatBalT720</th>\n",
       "      <td>65.2450</td>\n",
       "    </tr>\n",
       "    <tr>\n",
       "      <th>WatBalT1440</th>\n",
       "      <td>124.3300</td>\n",
       "    </tr>\n",
       "    <tr>\n",
       "      <th>hMean0</th>\n",
       "      <td>-10.2210</td>\n",
       "    </tr>\n",
       "    <tr>\n",
       "      <th>hMean15</th>\n",
       "      <td>-10.2290</td>\n",
       "    </tr>\n",
       "    <tr>\n",
       "      <th>hMean60</th>\n",
       "      <td>-10.2620</td>\n",
       "    </tr>\n",
       "    <tr>\n",
       "      <th>hMean120</th>\n",
       "      <td>-10.3060</td>\n",
       "    </tr>\n",
       "    <tr>\n",
       "      <th>hMean180</th>\n",
       "      <td>-10.3440</td>\n",
       "    </tr>\n",
       "    <tr>\n",
       "      <th>hMean360</th>\n",
       "      <td>-11.2990</td>\n",
       "    </tr>\n",
       "    <tr>\n",
       "      <th>hMean720</th>\n",
       "      <td>-13.4640</td>\n",
       "    </tr>\n",
       "    <tr>\n",
       "      <th>hMean1440</th>\n",
       "      <td>-16.1200</td>\n",
       "    </tr>\n",
       "  </tbody>\n",
       "</table>\n",
       "<p>126 rows × 1 columns</p>\n",
       "</div>"
      ],
      "text/plain": [
       "             Sand Ditch simulation\n",
       "SimulTime_s               209.7500\n",
       "L_Unit                      1.0000\n",
       "T_Unit                      1.0000\n",
       "Category                    3.0000\n",
       "MaxIt                      10.0000\n",
       "TolTh                       0.0010\n",
       "TolH                        1.0000\n",
       "InitH/W                     1.0000\n",
       "lWat                        1.0000\n",
       "lChem                       0.0000\n",
       "lSink                       0.0000\n",
       "Short                       0.0000\n",
       "Inter                       0.0000\n",
       "lScrn                       1.0000\n",
       "AtmIn                       1.0000\n",
       "lTemp                       0.0000\n",
       "lWTDep                      0.0000\n",
       "lEquil                      1.0000\n",
       "lExtGen                     1.0000\n",
       "lInv                        0.0000\n",
       "lUnsatCh                    0.0000\n",
       "lCFSTr                      0.0000\n",
       "lHP2                        0.0000\n",
       "m_lActRSU                   0.0000\n",
       "lDummy                      0.0000\n",
       "lDummy                      0.0000\n",
       "lDummy                      0.0000\n",
       "NMat                        1.0000\n",
       "NLay                        1.0000\n",
       "hTab1                       0.0001\n",
       "...                            ...\n",
       "VolumeW60              184070.0000\n",
       "VolumeW120             184370.0000\n",
       "VolumeW180             184670.0000\n",
       "VolumeW360             171480.0000\n",
       "VolumeW720             144850.0000\n",
       "VolumeW1440            120410.0000\n",
       "WatBalR0                       NaN\n",
       "WatBalR15                   0.1000\n",
       "WatBalR60                   0.0850\n",
       "WatBalR120                  0.0790\n",
       "WatBalR180                  0.1010\n",
       "WatBalR360                  0.0950\n",
       "WatBalR720                  0.1010\n",
       "WatBalR1440                 0.1390\n",
       "WatBalT0                       NaN\n",
       "WatBalT15                   2.0785\n",
       "WatBalT60                   7.1151\n",
       "WatBalT120                 13.2160\n",
       "WatBalT180                 25.2300\n",
       "WatBalT360                 36.4230\n",
       "WatBalT720                 65.2450\n",
       "WatBalT1440               124.3300\n",
       "hMean0                    -10.2210\n",
       "hMean15                   -10.2290\n",
       "hMean60                   -10.2620\n",
       "hMean120                  -10.3060\n",
       "hMean180                  -10.3440\n",
       "hMean360                  -11.2990\n",
       "hMean720                  -13.4640\n",
       "hMean1440                 -16.1200\n",
       "\n",
       "[126 rows x 1 columns]"
      ]
     },
     "execution_count": 71,
     "metadata": {},
     "output_type": "execute_result"
    }
   ],
   "source": [
    "get_one_line_df(src, simulation_name=\"Sand Ditch simulation\", dims='3d')"
   ]
  },
  {
   "cell_type": "code",
   "execution_count": null,
   "metadata": {},
   "outputs": [],
   "source": []
  }
 ],
 "metadata": {
  "kernelspec": {
   "display_name": "Python 3",
   "language": "python",
   "name": "python3"
  },
  "language_info": {
   "codemirror_mode": {
    "name": "ipython",
    "version": 3
   },
   "file_extension": ".py",
   "mimetype": "text/x-python",
   "name": "python",
   "nbconvert_exporter": "python",
   "pygments_lexer": "ipython3",
   "version": "3.7.4"
  },
  "pycharm": {
   "stem_cell": {
    "cell_type": "raw",
    "metadata": {
     "collapsed": false
    },
    "source": []
   }
  },
  "varInspector": {
   "cols": {
    "lenName": 16,
    "lenType": 16,
    "lenVar": 40
   },
   "kernels_config": {
    "python": {
     "delete_cmd_postfix": "",
     "delete_cmd_prefix": "del ",
     "library": "var_list.py",
     "varRefreshCmd": "print(var_dic_list())"
    },
    "r": {
     "delete_cmd_postfix": ") ",
     "delete_cmd_prefix": "rm(",
     "library": "var_list.r",
     "varRefreshCmd": "cat(var_dic_list()) "
    }
   },
   "types_to_exclude": [
    "module",
    "function",
    "builtin_function_or_method",
    "instance",
    "_Feature"
   ],
   "window_display": false
  }
 },
 "nbformat": 4,
 "nbformat_minor": 1
}
