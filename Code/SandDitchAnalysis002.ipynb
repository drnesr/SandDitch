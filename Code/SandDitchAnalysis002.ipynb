{
 "cells": [
  {
   "cell_type": "code",
   "execution_count": 1,
   "metadata": {
    "ExecuteTime": {
     "end_time": "2019-07-29T20:03:18.512034Z",
     "start_time": "2019-07-29T20:03:17.336203Z"
    },
    "pycharm": {
     "is_executing": false,
     "name": "#%%\n"
    }
   },
   "outputs": [],
   "source": [
    "import os\n",
    "import glob\n",
    "import shutil\n",
    "import pandas as pd\n",
    "import numpy as np\n",
    "import matplotlib.pyplot as plt\n",
    "from matplotlib.colors import LinearSegmentedColormap as LSCm\n",
    "from scipy.interpolate import griddata\n",
    "from scipy.signal import savgol_filter\n",
    "from scipy import integrate\n"
   ]
  },
  {
   "cell_type": "code",
   "execution_count": 2,
   "metadata": {
    "ExecuteTime": {
     "end_time": "2019-07-29T20:03:18.546010Z",
     "start_time": "2019-07-29T20:03:18.514035Z"
    },
    "pycharm": {
     "is_executing": false,
     "name": "#%%\n"
    }
   },
   "outputs": [],
   "source": [
    "from NesrHydrusAnalyst import *"
   ]
  },
  {
   "cell_type": "code",
   "execution_count": 3,
   "metadata": {
    "ExecuteTime": {
     "end_time": "2019-07-29T20:03:18.564999Z",
     "start_time": "2019-07-29T20:03:18.549009Z"
    },
    "pycharm": {
     "name": "#%%\n"
    }
   },
   "outputs": [],
   "source": [
    "src = '../Datasets/sample3d'"
   ]
  },
  {
   "cell_type": "markdown",
   "metadata": {},
   "source": [
    "# Modifying data grabbing"
   ]
  },
  {
   "cell_type": "code",
   "execution_count": 4,
   "metadata": {
    "ExecuteTime": {
     "end_time": "2019-07-29T20:03:20.298916Z",
     "start_time": "2019-07-29T20:03:18.566997Z"
    }
   },
   "outputs": [],
   "source": [
    "# tests get_grid_values\n",
    "data_frame= read_hydrus_data(folder=src, save_to_csv=False)"
   ]
  },
  {
   "cell_type": "code",
   "execution_count": 5,
   "metadata": {
    "ExecuteTime": {
     "end_time": "2019-07-29T20:03:49.319783Z",
     "start_time": "2019-07-29T20:03:20.300915Z"
    }
   },
   "outputs": [],
   "source": [
    "v=0\n",
    "X, Z, M, x_vals, z_vals = get_grid_values(data_frame,variable=v)"
   ]
  },
  {
   "cell_type": "code",
   "execution_count": 6,
   "metadata": {
    "ExecuteTime": {
     "end_time": "2019-07-29T20:03:49.327618Z",
     "start_time": "2019-07-29T20:03:49.322780Z"
    }
   },
   "outputs": [],
   "source": [
    "# print('x_vals{}, z_vals{}, X{}, Z{}, M{}'.format(x_vals.shape, \n",
    "#                                                  z_vals.shape, X.shape, \n",
    "#                                                  Z.shape, M.shape))"
   ]
  },
  {
   "cell_type": "code",
   "execution_count": 7,
   "metadata": {
    "ExecuteTime": {
     "end_time": "2019-07-29T20:03:49.357602Z",
     "start_time": "2019-07-29T20:03:49.333615Z"
    }
   },
   "outputs": [
    {
     "data": {
      "text/plain": [
       "[0, 15, 60, 120, 180, 360, 720, 1440]"
      ]
     },
     "execution_count": 7,
     "metadata": {},
     "output_type": "execute_result"
    }
   ],
   "source": [
    "get_available_timesteps(data_frame)"
   ]
  },
  {
   "cell_type": "code",
   "execution_count": 8,
   "metadata": {
    "ExecuteTime": {
     "end_time": "2019-07-29T20:03:49.383584Z",
     "start_time": "2019-07-29T20:03:49.359598Z"
    }
   },
   "outputs": [
    {
     "data": {
      "text/plain": [
       "{'x': (0.0, 70.0), 'y': (0.0, 100.0), 'z': (-125.0, 0.0)}"
      ]
     },
     "execution_count": 8,
     "metadata": {},
     "output_type": "execute_result"
    }
   ],
   "source": [
    "get_full_dimensions(data_frame)"
   ]
  },
  {
   "cell_type": "code",
   "execution_count": 9,
   "metadata": {
    "ExecuteTime": {
     "end_time": "2019-07-29T20:03:49.400574Z",
     "start_time": "2019-07-29T20:03:49.387593Z"
    }
   },
   "outputs": [
    {
     "data": {
      "text/plain": [
       "array([0.230, 0.240, 0.250, 0.260, 0.270, 0.280, 0.290, 0.300, 0.310,\n",
       "       0.320, 0.330, 0.340, 0.350])"
      ]
     },
     "execution_count": 9,
     "metadata": {},
     "output_type": "execute_result"
    }
   ],
   "source": [
    "get_legend_range(M.min(), M.max())"
   ]
  },
  {
   "cell_type": "code",
   "execution_count": 10,
   "metadata": {
    "ExecuteTime": {
     "end_time": "2019-07-29T20:03:49.508506Z",
     "start_time": "2019-07-29T20:03:49.405571Z"
    }
   },
   "outputs": [
    {
     "data": {
      "text/html": [
       "<div>\n",
       "<style scoped>\n",
       "    .dataframe tbody tr th:only-of-type {\n",
       "        vertical-align: middle;\n",
       "    }\n",
       "\n",
       "    .dataframe tbody tr th {\n",
       "        vertical-align: top;\n",
       "    }\n",
       "\n",
       "    .dataframe thead th {\n",
       "        text-align: right;\n",
       "    }\n",
       "</style>\n",
       "<table border=\"1\" class=\"dataframe\">\n",
       "  <thead>\n",
       "    <tr style=\"text-align: right;\">\n",
       "      <th></th>\n",
       "      <th>SimulTime_s</th>\n",
       "      <th>L_Unit</th>\n",
       "      <th>T_Unit</th>\n",
       "      <th>Category</th>\n",
       "      <th>MaxIt</th>\n",
       "      <th>TolTh</th>\n",
       "      <th>TolH</th>\n",
       "      <th>InitH/W</th>\n",
       "      <th>lWat</th>\n",
       "      <th>lChem</th>\n",
       "      <th>...</th>\n",
       "      <th>WatBalT720</th>\n",
       "      <th>WatBalT1440</th>\n",
       "      <th>hMean0</th>\n",
       "      <th>hMean15</th>\n",
       "      <th>hMean60</th>\n",
       "      <th>hMean120</th>\n",
       "      <th>hMean180</th>\n",
       "      <th>hMean360</th>\n",
       "      <th>hMean720</th>\n",
       "      <th>hMean1440</th>\n",
       "    </tr>\n",
       "  </thead>\n",
       "  <tbody>\n",
       "    <tr>\n",
       "      <th>Sand Ditch simulation</th>\n",
       "      <td>209.75</td>\n",
       "      <td>1.0</td>\n",
       "      <td>1.0</td>\n",
       "      <td>3.0</td>\n",
       "      <td>10.0</td>\n",
       "      <td>0.001</td>\n",
       "      <td>1.0</td>\n",
       "      <td>1.0</td>\n",
       "      <td>1.0</td>\n",
       "      <td>0.0</td>\n",
       "      <td>...</td>\n",
       "      <td>65.245</td>\n",
       "      <td>124.33</td>\n",
       "      <td>-10.221</td>\n",
       "      <td>-10.229</td>\n",
       "      <td>-10.262</td>\n",
       "      <td>-10.306</td>\n",
       "      <td>-10.344</td>\n",
       "      <td>-11.299</td>\n",
       "      <td>-13.464</td>\n",
       "      <td>-16.12</td>\n",
       "    </tr>\n",
       "  </tbody>\n",
       "</table>\n",
       "<p>1 rows × 126 columns</p>\n",
       "</div>"
      ],
      "text/plain": [
       "                       SimulTime_s  L_Unit  T_Unit  Category  MaxIt  TolTh  \\\n",
       "Sand Ditch simulation       209.75     1.0     1.0       3.0   10.0  0.001   \n",
       "\n",
       "                       TolH  InitH/W  lWat  lChem  ...  WatBalT720  \\\n",
       "Sand Ditch simulation   1.0      1.0   1.0    0.0  ...      65.245   \n",
       "\n",
       "                       WatBalT1440  hMean0  hMean15  hMean60  hMean120  \\\n",
       "Sand Ditch simulation       124.33 -10.221  -10.229  -10.262   -10.306   \n",
       "\n",
       "                       hMean180  hMean360  hMean720  hMean1440  \n",
       "Sand Ditch simulation   -10.344   -11.299   -13.464     -16.12  \n",
       "\n",
       "[1 rows x 126 columns]"
      ]
     },
     "execution_count": 10,
     "metadata": {},
     "output_type": "execute_result"
    }
   ],
   "source": [
    "get_one_line_df(src, simulation_name=\"Sand Ditch simulation\", dims='3d').T"
   ]
  },
  {
   "cell_type": "code",
   "execution_count": 12,
   "metadata": {
    "ExecuteTime": {
     "end_time": "2019-07-29T20:22:38.160960Z",
     "start_time": "2019-07-29T20:22:38.135976Z"
    }
   },
   "outputs": [
    {
     "data": {
      "text/html": [
       "<div>\n",
       "<style scoped>\n",
       "    .dataframe tbody tr th:only-of-type {\n",
       "        vertical-align: middle;\n",
       "    }\n",
       "\n",
       "    .dataframe tbody tr th {\n",
       "        vertical-align: top;\n",
       "    }\n",
       "\n",
       "    .dataframe thead th {\n",
       "        text-align: right;\n",
       "    }\n",
       "</style>\n",
       "<table border=\"1\" class=\"dataframe\">\n",
       "  <thead>\n",
       "    <tr style=\"text-align: right;\">\n",
       "      <th></th>\n",
       "      <th>n</th>\n",
       "      <th>x</th>\n",
       "      <th>y</th>\n",
       "      <th>z</th>\n",
       "      <th>Th_T=0</th>\n",
       "      <th>Th_T=15</th>\n",
       "      <th>Th_T=60</th>\n",
       "      <th>Th_T=120</th>\n",
       "      <th>Th_T=180</th>\n",
       "      <th>Th_T=360</th>\n",
       "      <th>Th_T=720</th>\n",
       "      <th>Th_T=1440</th>\n",
       "      <th>H_T=0</th>\n",
       "      <th>H_T=15</th>\n",
       "      <th>H_T=60</th>\n",
       "      <th>H_T=120</th>\n",
       "      <th>H_T=180</th>\n",
       "      <th>H_T=360</th>\n",
       "      <th>H_T=720</th>\n",
       "      <th>H_T=1440</th>\n",
       "    </tr>\n",
       "  </thead>\n",
       "  <tbody>\n",
       "    <tr>\n",
       "      <th>1</th>\n",
       "      <td>1</td>\n",
       "      <td>2.91667</td>\n",
       "      <td>0.0</td>\n",
       "      <td>-2.91667</td>\n",
       "      <td>0.210063</td>\n",
       "      <td>0.191791</td>\n",
       "      <td>0.158732</td>\n",
       "      <td>0.139777</td>\n",
       "      <td>0.130033</td>\n",
       "      <td>0.113877</td>\n",
       "      <td>0.100160</td>\n",
       "      <td>0.089611</td>\n",
       "      <td>-10.2125</td>\n",
       "      <td>-11.2717</td>\n",
       "      <td>-13.5745</td>\n",
       "      <td>-15.3043</td>\n",
       "      <td>-16.5198</td>\n",
       "      <td>-18.8943</td>\n",
       "      <td>-21.5512</td>\n",
       "      <td>-24.7883</td>\n",
       "    </tr>\n",
       "    <tr>\n",
       "      <th>2</th>\n",
       "      <td>2</td>\n",
       "      <td>2.91667</td>\n",
       "      <td>0.0</td>\n",
       "      <td>-5.83333</td>\n",
       "      <td>0.210063</td>\n",
       "      <td>0.203564</td>\n",
       "      <td>0.172109</td>\n",
       "      <td>0.152735</td>\n",
       "      <td>0.140227</td>\n",
       "      <td>0.122310</td>\n",
       "      <td>0.107456</td>\n",
       "      <td>0.094662</td>\n",
       "      <td>-10.2125</td>\n",
       "      <td>-10.5847</td>\n",
       "      <td>-12.4606</td>\n",
       "      <td>-14.0738</td>\n",
       "      <td>-15.2490</td>\n",
       "      <td>-17.4841</td>\n",
       "      <td>-20.1368</td>\n",
       "      <td>-23.2386</td>\n",
       "    </tr>\n",
       "    <tr>\n",
       "      <th>3</th>\n",
       "      <td>3</td>\n",
       "      <td>70.00000</td>\n",
       "      <td>0.0</td>\n",
       "      <td>-125.00000</td>\n",
       "      <td>0.210063</td>\n",
       "      <td>0.210063</td>\n",
       "      <td>0.210063</td>\n",
       "      <td>0.210063</td>\n",
       "      <td>0.210067</td>\n",
       "      <td>0.203415</td>\n",
       "      <td>0.199713</td>\n",
       "      <td>0.167566</td>\n",
       "      <td>-10.2125</td>\n",
       "      <td>-10.2125</td>\n",
       "      <td>-10.2125</td>\n",
       "      <td>-10.2125</td>\n",
       "      <td>-10.2123</td>\n",
       "      <td>-10.6090</td>\n",
       "      <td>-10.8127</td>\n",
       "      <td>-12.8261</td>\n",
       "    </tr>\n",
       "    <tr>\n",
       "      <th>4</th>\n",
       "      <td>4</td>\n",
       "      <td>0.00000</td>\n",
       "      <td>0.0</td>\n",
       "      <td>-125.00000</td>\n",
       "      <td>0.210063</td>\n",
       "      <td>0.210063</td>\n",
       "      <td>0.210063</td>\n",
       "      <td>0.210063</td>\n",
       "      <td>0.210071</td>\n",
       "      <td>0.194964</td>\n",
       "      <td>0.198825</td>\n",
       "      <td>0.167340</td>\n",
       "      <td>-10.2125</td>\n",
       "      <td>-10.2125</td>\n",
       "      <td>-10.2125</td>\n",
       "      <td>-10.2125</td>\n",
       "      <td>-10.2120</td>\n",
       "      <td>-11.0986</td>\n",
       "      <td>-10.8698</td>\n",
       "      <td>-12.8375</td>\n",
       "    </tr>\n",
       "    <tr>\n",
       "      <th>5</th>\n",
       "      <td>5</td>\n",
       "      <td>70.00000</td>\n",
       "      <td>100.0</td>\n",
       "      <td>-125.00000</td>\n",
       "      <td>0.210063</td>\n",
       "      <td>0.210063</td>\n",
       "      <td>0.210063</td>\n",
       "      <td>0.210063</td>\n",
       "      <td>0.210067</td>\n",
       "      <td>0.194068</td>\n",
       "      <td>0.199096</td>\n",
       "      <td>0.167400</td>\n",
       "      <td>-10.2125</td>\n",
       "      <td>-10.2125</td>\n",
       "      <td>-10.2125</td>\n",
       "      <td>-10.2125</td>\n",
       "      <td>-10.2122</td>\n",
       "      <td>-11.1508</td>\n",
       "      <td>-10.8534</td>\n",
       "      <td>-12.8323</td>\n",
       "    </tr>\n",
       "  </tbody>\n",
       "</table>\n",
       "</div>"
      ],
      "text/plain": [
       "   n         x      y          z    Th_T=0   Th_T=15   Th_T=60  Th_T=120  \\\n",
       "1  1   2.91667    0.0   -2.91667  0.210063  0.191791  0.158732  0.139777   \n",
       "2  2   2.91667    0.0   -5.83333  0.210063  0.203564  0.172109  0.152735   \n",
       "3  3  70.00000    0.0 -125.00000  0.210063  0.210063  0.210063  0.210063   \n",
       "4  4   0.00000    0.0 -125.00000  0.210063  0.210063  0.210063  0.210063   \n",
       "5  5  70.00000  100.0 -125.00000  0.210063  0.210063  0.210063  0.210063   \n",
       "\n",
       "   Th_T=180  Th_T=360  Th_T=720  Th_T=1440    H_T=0   H_T=15   H_T=60  \\\n",
       "1  0.130033  0.113877  0.100160   0.089611 -10.2125 -11.2717 -13.5745   \n",
       "2  0.140227  0.122310  0.107456   0.094662 -10.2125 -10.5847 -12.4606   \n",
       "3  0.210067  0.203415  0.199713   0.167566 -10.2125 -10.2125 -10.2125   \n",
       "4  0.210071  0.194964  0.198825   0.167340 -10.2125 -10.2125 -10.2125   \n",
       "5  0.210067  0.194068  0.199096   0.167400 -10.2125 -10.2125 -10.2125   \n",
       "\n",
       "   H_T=120  H_T=180  H_T=360  H_T=720  H_T=1440  \n",
       "1 -15.3043 -16.5198 -18.8943 -21.5512  -24.7883  \n",
       "2 -14.0738 -15.2490 -17.4841 -20.1368  -23.2386  \n",
       "3 -10.2125 -10.2123 -10.6090 -10.8127  -12.8261  \n",
       "4 -10.2125 -10.2120 -11.0986 -10.8698  -12.8375  \n",
       "5 -10.2125 -10.2122 -11.1508 -10.8534  -12.8323  "
      ]
     },
     "execution_count": 12,
     "metadata": {},
     "output_type": "execute_result"
    }
   ],
   "source": [
    "data_frame.head()"
   ]
  },
  {
   "cell_type": "markdown",
   "metadata": {},
   "source": [
    "# Get data from Sand Ditch 3D simulation"
   ]
  },
  {
   "cell_type": "code",
   "execution_count": 13,
   "metadata": {
    "ExecuteTime": {
     "end_time": "2019-07-29T20:24:03.445873Z",
     "start_time": "2019-07-29T20:24:03.442873Z"
    }
   },
   "outputs": [],
   "source": [
    "src = '../Datasets/H3D2_SandDitch0011'"
   ]
  },
  {
   "cell_type": "code",
   "execution_count": 14,
   "metadata": {
    "ExecuteTime": {
     "end_time": "2019-07-29T20:24:13.464762Z",
     "start_time": "2019-07-29T20:24:13.216916Z"
    }
   },
   "outputs": [],
   "source": [
    "df= read_hydrus_data(folder=src, save_to_csv=False)"
   ]
  },
  {
   "cell_type": "code",
   "execution_count": 16,
   "metadata": {
    "ExecuteTime": {
     "end_time": "2019-07-29T20:24:21.890746Z",
     "start_time": "2019-07-29T20:24:21.864762Z"
    }
   },
   "outputs": [
    {
     "data": {
      "text/html": [
       "<div>\n",
       "<style scoped>\n",
       "    .dataframe tbody tr th:only-of-type {\n",
       "        vertical-align: middle;\n",
       "    }\n",
       "\n",
       "    .dataframe tbody tr th {\n",
       "        vertical-align: top;\n",
       "    }\n",
       "\n",
       "    .dataframe thead th {\n",
       "        text-align: right;\n",
       "    }\n",
       "</style>\n",
       "<table border=\"1\" class=\"dataframe\">\n",
       "  <thead>\n",
       "    <tr style=\"text-align: right;\">\n",
       "      <th></th>\n",
       "      <th>n</th>\n",
       "      <th>x</th>\n",
       "      <th>y</th>\n",
       "      <th>z</th>\n",
       "      <th>Th_T=0</th>\n",
       "      <th>Th_T=5</th>\n",
       "      <th>Th_T=15</th>\n",
       "      <th>Th_T=30</th>\n",
       "      <th>Th_T=60</th>\n",
       "      <th>Th_T=120</th>\n",
       "      <th>...</th>\n",
       "      <th>H_T=5</th>\n",
       "      <th>H_T=15</th>\n",
       "      <th>H_T=30</th>\n",
       "      <th>H_T=60</th>\n",
       "      <th>H_T=120</th>\n",
       "      <th>H_T=180</th>\n",
       "      <th>H_T=240</th>\n",
       "      <th>H_T=500</th>\n",
       "      <th>H_T=720</th>\n",
       "      <th>H_T=1440</th>\n",
       "    </tr>\n",
       "  </thead>\n",
       "  <tbody>\n",
       "    <tr>\n",
       "      <th>1</th>\n",
       "      <td>1</td>\n",
       "      <td>0.0000</td>\n",
       "      <td>0.0</td>\n",
       "      <td>0.00000</td>\n",
       "      <td>0.15</td>\n",
       "      <td>0.056079</td>\n",
       "      <td>0.056170</td>\n",
       "      <td>0.055658</td>\n",
       "      <td>0.054891</td>\n",
       "      <td>0.382578</td>\n",
       "      <td>...</td>\n",
       "      <td>-57.6896</td>\n",
       "      <td>-57.40750</td>\n",
       "      <td>-59.03960</td>\n",
       "      <td>-61.730800</td>\n",
       "      <td>-4.28025</td>\n",
       "      <td>-4.77654</td>\n",
       "      <td>-5.51407</td>\n",
       "      <td>-7.66429</td>\n",
       "      <td>-8.79789</td>\n",
       "      <td>-10.01450</td>\n",
       "    </tr>\n",
       "    <tr>\n",
       "      <th>2</th>\n",
       "      <td>2</td>\n",
       "      <td>49.9601</td>\n",
       "      <td>0.0</td>\n",
       "      <td>1.99787</td>\n",
       "      <td>0.15</td>\n",
       "      <td>0.053222</td>\n",
       "      <td>0.053808</td>\n",
       "      <td>0.053949</td>\n",
       "      <td>0.053876</td>\n",
       "      <td>0.266495</td>\n",
       "      <td>...</td>\n",
       "      <td>-68.9306</td>\n",
       "      <td>-66.15350</td>\n",
       "      <td>-65.53300</td>\n",
       "      <td>-65.850000</td>\n",
       "      <td>-8.03020</td>\n",
       "      <td>-6.91749</td>\n",
       "      <td>-7.33861</td>\n",
       "      <td>-9.28291</td>\n",
       "      <td>-9.97427</td>\n",
       "      <td>-9.55989</td>\n",
       "    </tr>\n",
       "    <tr>\n",
       "      <th>3</th>\n",
       "      <td>3</td>\n",
       "      <td>49.8802</td>\n",
       "      <td>0.0</td>\n",
       "      <td>3.99627</td>\n",
       "      <td>0.15</td>\n",
       "      <td>0.203979</td>\n",
       "      <td>0.208893</td>\n",
       "      <td>0.211409</td>\n",
       "      <td>0.213525</td>\n",
       "      <td>0.359747</td>\n",
       "      <td>...</td>\n",
       "      <td>-143.6060</td>\n",
       "      <td>-129.86400</td>\n",
       "      <td>-123.52800</td>\n",
       "      <td>-118.526000</td>\n",
       "      <td>-10.08760</td>\n",
       "      <td>-8.96240</td>\n",
       "      <td>-9.38220</td>\n",
       "      <td>-11.33150</td>\n",
       "      <td>-12.00630</td>\n",
       "      <td>-11.55600</td>\n",
       "    </tr>\n",
       "    <tr>\n",
       "      <th>4</th>\n",
       "      <td>4</td>\n",
       "      <td>27.3981</td>\n",
       "      <td>0.0</td>\n",
       "      <td>3.09723</td>\n",
       "      <td>0.15</td>\n",
       "      <td>0.245272</td>\n",
       "      <td>0.261515</td>\n",
       "      <td>0.270286</td>\n",
       "      <td>0.390000</td>\n",
       "      <td>0.381931</td>\n",
       "      <td>...</td>\n",
       "      <td>-67.8090</td>\n",
       "      <td>-52.53410</td>\n",
       "      <td>-45.99290</td>\n",
       "      <td>4.978220</td>\n",
       "      <td>-4.42541</td>\n",
       "      <td>-5.89492</td>\n",
       "      <td>-6.76845</td>\n",
       "      <td>-8.86218</td>\n",
       "      <td>-9.78174</td>\n",
       "      <td>-10.86720</td>\n",
       "    </tr>\n",
       "    <tr>\n",
       "      <th>5</th>\n",
       "      <td>5</td>\n",
       "      <td>26.6789</td>\n",
       "      <td>0.0</td>\n",
       "      <td>21.08290</td>\n",
       "      <td>0.10</td>\n",
       "      <td>0.072666</td>\n",
       "      <td>0.394500</td>\n",
       "      <td>0.417685</td>\n",
       "      <td>0.430000</td>\n",
       "      <td>0.202791</td>\n",
       "      <td>...</td>\n",
       "      <td>-33.3201</td>\n",
       "      <td>-3.84076</td>\n",
       "      <td>-2.82451</td>\n",
       "      <td>-0.922182</td>\n",
       "      <td>-10.76650</td>\n",
       "      <td>-12.89320</td>\n",
       "      <td>-14.40420</td>\n",
       "      <td>-18.55390</td>\n",
       "      <td>-20.73460</td>\n",
       "      <td>-24.69590</td>\n",
       "    </tr>\n",
       "  </tbody>\n",
       "</table>\n",
       "<p>5 rows × 26 columns</p>\n",
       "</div>"
      ],
      "text/plain": [
       "   n        x    y         z  Th_T=0    Th_T=5   Th_T=15   Th_T=30   Th_T=60  \\\n",
       "1  1   0.0000  0.0   0.00000    0.15  0.056079  0.056170  0.055658  0.054891   \n",
       "2  2  49.9601  0.0   1.99787    0.15  0.053222  0.053808  0.053949  0.053876   \n",
       "3  3  49.8802  0.0   3.99627    0.15  0.203979  0.208893  0.211409  0.213525   \n",
       "4  4  27.3981  0.0   3.09723    0.15  0.245272  0.261515  0.270286  0.390000   \n",
       "5  5  26.6789  0.0  21.08290    0.10  0.072666  0.394500  0.417685  0.430000   \n",
       "\n",
       "   Th_T=120  ...     H_T=5     H_T=15     H_T=30      H_T=60   H_T=120  \\\n",
       "1  0.382578  ...  -57.6896  -57.40750  -59.03960  -61.730800  -4.28025   \n",
       "2  0.266495  ...  -68.9306  -66.15350  -65.53300  -65.850000  -8.03020   \n",
       "3  0.359747  ... -143.6060 -129.86400 -123.52800 -118.526000 -10.08760   \n",
       "4  0.381931  ...  -67.8090  -52.53410  -45.99290    4.978220  -4.42541   \n",
       "5  0.202791  ...  -33.3201   -3.84076   -2.82451   -0.922182 -10.76650   \n",
       "\n",
       "    H_T=180   H_T=240   H_T=500   H_T=720  H_T=1440  \n",
       "1  -4.77654  -5.51407  -7.66429  -8.79789 -10.01450  \n",
       "2  -6.91749  -7.33861  -9.28291  -9.97427  -9.55989  \n",
       "3  -8.96240  -9.38220 -11.33150 -12.00630 -11.55600  \n",
       "4  -5.89492  -6.76845  -8.86218  -9.78174 -10.86720  \n",
       "5 -12.89320 -14.40420 -18.55390 -20.73460 -24.69590  \n",
       "\n",
       "[5 rows x 26 columns]"
      ]
     },
     "execution_count": 16,
     "metadata": {},
     "output_type": "execute_result"
    }
   ],
   "source": [
    "df.head()"
   ]
  },
  {
   "cell_type": "code",
   "execution_count": null,
   "metadata": {},
   "outputs": [],
   "source": [
    "v = 0\n",
    "X, Z, M, x_vals, z_vals = get_grid_values(data_frame, variable=v)\n",
    "\n",
    "display(get_available_timesteps(df),\n",
    "        get_full_dimensions(data_frame),\n",
    "        get_legend_range(M.min(), M.max()),\n",
    "        'x_vals{}, z_vals{}, X{}, Z{}, M{}'.format(x_vals.shape,\n",
    "                                                   z_vals.shape, X.shape,\n",
    "                                                   Z.shape, M.shape))"
   ]
  }
 ],
 "metadata": {
  "kernelspec": {
   "display_name": "Python 3",
   "language": "python",
   "name": "python3"
  },
  "language_info": {
   "codemirror_mode": {
    "name": "ipython",
    "version": 3
   },
   "file_extension": ".py",
   "mimetype": "text/x-python",
   "name": "python",
   "nbconvert_exporter": "python",
   "pygments_lexer": "ipython3",
   "version": "3.7.3"
  },
  "pycharm": {
   "stem_cell": {
    "cell_type": "raw",
    "metadata": {
     "collapsed": false
    },
    "source": []
   }
  }
 },
 "nbformat": 4,
 "nbformat_minor": 1
}
