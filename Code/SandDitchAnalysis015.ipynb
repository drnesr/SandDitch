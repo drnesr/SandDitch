{
 "cells": [
  {
   "cell_type": "code",
   "execution_count": 1,
   "metadata": {
    "ExecuteTime": {
     "end_time": "2020-01-01T11:44:09.357907Z",
     "start_time": "2020-01-01T11:44:05.869136Z"
    }
   },
   "outputs": [],
   "source": [
    "import os\n",
    "import glob\n",
    "import shutil\n",
    "import pandas as pd\n",
    "import numpy as np\n",
    "import matplotlib.pyplot as plt\n",
    "\n",
    "from NesrHydrusAnalyst import *"
   ]
  },
  {
   "cell_type": "code",
   "execution_count": 2,
   "metadata": {
    "ExecuteTime": {
     "end_time": "2020-01-01T11:44:09.363804Z",
     "start_time": "2020-01-01T11:44:09.358790Z"
    }
   },
   "outputs": [],
   "source": [
    "extensions = ('', 'a', 'b', 'c', 'd', 'e')\n",
    "sources = [f'../Datasets/H3D2_SandDitch0014{x}' for x in extensions]"
   ]
  },
  {
   "cell_type": "code",
   "execution_count": 3,
   "metadata": {
    "ExecuteTime": {
     "end_time": "2020-01-01T11:44:09.987108Z",
     "start_time": "2020-01-01T11:44:09.364776Z"
    }
   },
   "outputs": [],
   "source": [
    "dfs = [\n",
    "    pd.read_csv(os.path.join(sources[x], 'Nesr', '1-Original_Grid.csv'))\n",
    "    for x in range(len(extensions))\n",
    "]"
   ]
  },
  {
   "cell_type": "code",
   "execution_count": 4,
   "metadata": {
    "ExecuteTime": {
     "end_time": "2020-01-01T11:44:10.070883Z",
     "start_time": "2020-01-01T11:44:09.989104Z"
    },
    "scrolled": true
   },
   "outputs": [
    {
     "data": {
      "text/plain": [
       "''"
      ]
     },
     "metadata": {},
     "output_type": "display_data"
    },
    {
     "data": {
      "text/html": [
       "<div>\n",
       "<style scoped>\n",
       "    .dataframe tbody tr th:only-of-type {\n",
       "        vertical-align: middle;\n",
       "    }\n",
       "\n",
       "    .dataframe tbody tr th {\n",
       "        vertical-align: top;\n",
       "    }\n",
       "\n",
       "    .dataframe thead th {\n",
       "        text-align: right;\n",
       "    }\n",
       "</style>\n",
       "<table border=\"1\" class=\"dataframe\">\n",
       "  <thead>\n",
       "    <tr style=\"text-align: right;\">\n",
       "      <th></th>\n",
       "      <th>n</th>\n",
       "      <th>x</th>\n",
       "      <th>y</th>\n",
       "      <th>z</th>\n",
       "      <th>Th_T0</th>\n",
       "      <th>Th_T5</th>\n",
       "      <th>Th_T15</th>\n",
       "      <th>Th_T30</th>\n",
       "      <th>Th_T60</th>\n",
       "      <th>Th_T120</th>\n",
       "      <th>...</th>\n",
       "      <th>V3_T720</th>\n",
       "      <th>V1_T1440</th>\n",
       "      <th>V2_T1440</th>\n",
       "      <th>V3_T1440</th>\n",
       "      <th>V1_T2160</th>\n",
       "      <th>V2_T2160</th>\n",
       "      <th>V3_T2160</th>\n",
       "      <th>V1_T2880</th>\n",
       "      <th>V2_T2880</th>\n",
       "      <th>V3_T2880</th>\n",
       "    </tr>\n",
       "  </thead>\n",
       "  <tbody>\n",
       "    <tr>\n",
       "      <th>0</th>\n",
       "      <td>1</td>\n",
       "      <td>7.5</td>\n",
       "      <td>30.0</td>\n",
       "      <td>19.25</td>\n",
       "      <td>0.15</td>\n",
       "      <td>0.150278</td>\n",
       "      <td>0.150805</td>\n",
       "      <td>0.151563</td>\n",
       "      <td>0.239586</td>\n",
       "      <td>0.417002</td>\n",
       "      <td>...</td>\n",
       "      <td>-0.000162</td>\n",
       "      <td>-0.000031</td>\n",
       "      <td>2.916750e-07</td>\n",
       "      <td>-0.000041</td>\n",
       "      <td>-0.000015</td>\n",
       "      <td>6.311460e-08</td>\n",
       "      <td>-0.00001</td>\n",
       "      <td>-0.000007</td>\n",
       "      <td>1.667550e-08</td>\n",
       "      <td>-0.000002</td>\n",
       "    </tr>\n",
       "  </tbody>\n",
       "</table>\n",
       "<p>1 rows × 69 columns</p>\n",
       "</div>"
      ],
      "text/plain": [
       "   n    x     y      z  Th_T0     Th_T5    Th_T15    Th_T30    Th_T60  \\\n",
       "0  1  7.5  30.0  19.25   0.15  0.150278  0.150805  0.151563  0.239586   \n",
       "\n",
       "    Th_T120  ...   V3_T720  V1_T1440      V2_T1440  V3_T1440  V1_T2160  \\\n",
       "0  0.417002  ... -0.000162 -0.000031  2.916750e-07 -0.000041 -0.000015   \n",
       "\n",
       "       V2_T2160  V3_T2160  V1_T2880      V2_T2880  V3_T2880  \n",
       "0  6.311460e-08  -0.00001 -0.000007  1.667550e-08 -0.000002  \n",
       "\n",
       "[1 rows x 69 columns]"
      ]
     },
     "metadata": {},
     "output_type": "display_data"
    },
    {
     "data": {
      "text/plain": [
       "'a'"
      ]
     },
     "metadata": {},
     "output_type": "display_data"
    },
    {
     "data": {
      "text/html": [
       "<div>\n",
       "<style scoped>\n",
       "    .dataframe tbody tr th:only-of-type {\n",
       "        vertical-align: middle;\n",
       "    }\n",
       "\n",
       "    .dataframe tbody tr th {\n",
       "        vertical-align: top;\n",
       "    }\n",
       "\n",
       "    .dataframe thead th {\n",
       "        text-align: right;\n",
       "    }\n",
       "</style>\n",
       "<table border=\"1\" class=\"dataframe\">\n",
       "  <thead>\n",
       "    <tr style=\"text-align: right;\">\n",
       "      <th></th>\n",
       "      <th>n</th>\n",
       "      <th>x</th>\n",
       "      <th>y</th>\n",
       "      <th>z</th>\n",
       "      <th>Th_T0</th>\n",
       "      <th>Th_T5</th>\n",
       "      <th>Th_T15</th>\n",
       "      <th>Th_T30</th>\n",
       "      <th>Th_T60</th>\n",
       "      <th>Th_T120</th>\n",
       "      <th>...</th>\n",
       "      <th>V3_T720</th>\n",
       "      <th>V1_T1440</th>\n",
       "      <th>V2_T1440</th>\n",
       "      <th>V3_T1440</th>\n",
       "      <th>V1_T2160</th>\n",
       "      <th>V2_T2160</th>\n",
       "      <th>V3_T2160</th>\n",
       "      <th>V1_T2880</th>\n",
       "      <th>V2_T2880</th>\n",
       "      <th>V3_T2880</th>\n",
       "    </tr>\n",
       "  </thead>\n",
       "  <tbody>\n",
       "    <tr>\n",
       "      <th>0</th>\n",
       "      <td>1</td>\n",
       "      <td>7.5</td>\n",
       "      <td>30.0</td>\n",
       "      <td>19.25</td>\n",
       "      <td>0.15</td>\n",
       "      <td>0.150279</td>\n",
       "      <td>0.150848</td>\n",
       "      <td>0.151986</td>\n",
       "      <td>0.327933</td>\n",
       "      <td>0.435693</td>\n",
       "      <td>...</td>\n",
       "      <td>-0.000171</td>\n",
       "      <td>-0.000021</td>\n",
       "      <td>2.702990e-07</td>\n",
       "      <td>-0.000037</td>\n",
       "      <td>-0.00001</td>\n",
       "      <td>5.287160e-08</td>\n",
       "      <td>-0.000009</td>\n",
       "      <td>-0.000005</td>\n",
       "      <td>1.310360e-08</td>\n",
       "      <td>-0.000002</td>\n",
       "    </tr>\n",
       "  </tbody>\n",
       "</table>\n",
       "<p>1 rows × 69 columns</p>\n",
       "</div>"
      ],
      "text/plain": [
       "   n    x     y      z  Th_T0     Th_T5    Th_T15    Th_T30    Th_T60  \\\n",
       "0  1  7.5  30.0  19.25   0.15  0.150279  0.150848  0.151986  0.327933   \n",
       "\n",
       "    Th_T120  ...   V3_T720  V1_T1440      V2_T1440  V3_T1440  V1_T2160  \\\n",
       "0  0.435693  ... -0.000171 -0.000021  2.702990e-07 -0.000037  -0.00001   \n",
       "\n",
       "       V2_T2160  V3_T2160  V1_T2880      V2_T2880  V3_T2880  \n",
       "0  5.287160e-08 -0.000009 -0.000005  1.310360e-08 -0.000002  \n",
       "\n",
       "[1 rows x 69 columns]"
      ]
     },
     "metadata": {},
     "output_type": "display_data"
    },
    {
     "data": {
      "text/plain": [
       "'b'"
      ]
     },
     "metadata": {},
     "output_type": "display_data"
    },
    {
     "data": {
      "text/html": [
       "<div>\n",
       "<style scoped>\n",
       "    .dataframe tbody tr th:only-of-type {\n",
       "        vertical-align: middle;\n",
       "    }\n",
       "\n",
       "    .dataframe tbody tr th {\n",
       "        vertical-align: top;\n",
       "    }\n",
       "\n",
       "    .dataframe thead th {\n",
       "        text-align: right;\n",
       "    }\n",
       "</style>\n",
       "<table border=\"1\" class=\"dataframe\">\n",
       "  <thead>\n",
       "    <tr style=\"text-align: right;\">\n",
       "      <th></th>\n",
       "      <th>n</th>\n",
       "      <th>x</th>\n",
       "      <th>y</th>\n",
       "      <th>z</th>\n",
       "      <th>Th_T0</th>\n",
       "      <th>Th_T5</th>\n",
       "      <th>Th_T15</th>\n",
       "      <th>Th_T30</th>\n",
       "      <th>Th_T60</th>\n",
       "      <th>Th_T120</th>\n",
       "      <th>...</th>\n",
       "      <th>V3_T720</th>\n",
       "      <th>V1_T1440</th>\n",
       "      <th>V2_T1440</th>\n",
       "      <th>V3_T1440</th>\n",
       "      <th>V1_T2160</th>\n",
       "      <th>V2_T2160</th>\n",
       "      <th>V3_T2160</th>\n",
       "      <th>V1_T2880</th>\n",
       "      <th>V2_T2880</th>\n",
       "      <th>V3_T2880</th>\n",
       "    </tr>\n",
       "  </thead>\n",
       "  <tbody>\n",
       "    <tr>\n",
       "      <th>0</th>\n",
       "      <td>1</td>\n",
       "      <td>7.5</td>\n",
       "      <td>30.0</td>\n",
       "      <td>19.25</td>\n",
       "      <td>0.15</td>\n",
       "      <td>0.150278</td>\n",
       "      <td>0.150804</td>\n",
       "      <td>0.15156</td>\n",
       "      <td>0.345353</td>\n",
       "      <td>0.421597</td>\n",
       "      <td>...</td>\n",
       "      <td>-0.000128</td>\n",
       "      <td>-0.000023</td>\n",
       "      <td>2.884690e-07</td>\n",
       "      <td>-0.000039</td>\n",
       "      <td>-0.000014</td>\n",
       "      <td>1.029490e-07</td>\n",
       "      <td>-0.000013</td>\n",
       "      <td>-0.000009</td>\n",
       "      <td>5.639120e-08</td>\n",
       "      <td>-0.000003</td>\n",
       "    </tr>\n",
       "  </tbody>\n",
       "</table>\n",
       "<p>1 rows × 69 columns</p>\n",
       "</div>"
      ],
      "text/plain": [
       "   n    x     y      z  Th_T0     Th_T5    Th_T15   Th_T30    Th_T60  \\\n",
       "0  1  7.5  30.0  19.25   0.15  0.150278  0.150804  0.15156  0.345353   \n",
       "\n",
       "    Th_T120  ...   V3_T720  V1_T1440      V2_T1440  V3_T1440  V1_T2160  \\\n",
       "0  0.421597  ... -0.000128 -0.000023  2.884690e-07 -0.000039 -0.000014   \n",
       "\n",
       "       V2_T2160  V3_T2160  V1_T2880      V2_T2880  V3_T2880  \n",
       "0  1.029490e-07 -0.000013 -0.000009  5.639120e-08 -0.000003  \n",
       "\n",
       "[1 rows x 69 columns]"
      ]
     },
     "metadata": {},
     "output_type": "display_data"
    },
    {
     "data": {
      "text/plain": [
       "'c'"
      ]
     },
     "metadata": {},
     "output_type": "display_data"
    },
    {
     "data": {
      "text/html": [
       "<div>\n",
       "<style scoped>\n",
       "    .dataframe tbody tr th:only-of-type {\n",
       "        vertical-align: middle;\n",
       "    }\n",
       "\n",
       "    .dataframe tbody tr th {\n",
       "        vertical-align: top;\n",
       "    }\n",
       "\n",
       "    .dataframe thead th {\n",
       "        text-align: right;\n",
       "    }\n",
       "</style>\n",
       "<table border=\"1\" class=\"dataframe\">\n",
       "  <thead>\n",
       "    <tr style=\"text-align: right;\">\n",
       "      <th></th>\n",
       "      <th>n</th>\n",
       "      <th>x</th>\n",
       "      <th>y</th>\n",
       "      <th>z</th>\n",
       "      <th>Th_T0</th>\n",
       "      <th>Th_T5</th>\n",
       "      <th>Th_T15</th>\n",
       "      <th>Th_T30</th>\n",
       "      <th>Th_T60</th>\n",
       "      <th>Th_T120</th>\n",
       "      <th>...</th>\n",
       "      <th>V3_T720</th>\n",
       "      <th>V1_T1440</th>\n",
       "      <th>V2_T1440</th>\n",
       "      <th>V3_T1440</th>\n",
       "      <th>V1_T2160</th>\n",
       "      <th>V2_T2160</th>\n",
       "      <th>V3_T2160</th>\n",
       "      <th>V1_T2880</th>\n",
       "      <th>V2_T2880</th>\n",
       "      <th>V3_T2880</th>\n",
       "    </tr>\n",
       "  </thead>\n",
       "  <tbody>\n",
       "    <tr>\n",
       "      <th>0</th>\n",
       "      <td>1</td>\n",
       "      <td>7.5</td>\n",
       "      <td>30.0</td>\n",
       "      <td>19.25</td>\n",
       "      <td>0.15</td>\n",
       "      <td>0.150278</td>\n",
       "      <td>0.150803</td>\n",
       "      <td>0.151532</td>\n",
       "      <td>0.266687</td>\n",
       "      <td>0.41654</td>\n",
       "      <td>...</td>\n",
       "      <td>-0.000167</td>\n",
       "      <td>-0.000025</td>\n",
       "      <td>3.654150e-07</td>\n",
       "      <td>-0.000046</td>\n",
       "      <td>-0.000015</td>\n",
       "      <td>1.256010e-07</td>\n",
       "      <td>-0.000014</td>\n",
       "      <td>-0.00001</td>\n",
       "      <td>6.433500e-08</td>\n",
       "      <td>-0.000003</td>\n",
       "    </tr>\n",
       "  </tbody>\n",
       "</table>\n",
       "<p>1 rows × 69 columns</p>\n",
       "</div>"
      ],
      "text/plain": [
       "   n    x     y      z  Th_T0     Th_T5    Th_T15    Th_T30    Th_T60  \\\n",
       "0  1  7.5  30.0  19.25   0.15  0.150278  0.150803  0.151532  0.266687   \n",
       "\n",
       "   Th_T120  ...   V3_T720  V1_T1440      V2_T1440  V3_T1440  V1_T2160  \\\n",
       "0  0.41654  ... -0.000167 -0.000025  3.654150e-07 -0.000046 -0.000015   \n",
       "\n",
       "       V2_T2160  V3_T2160  V1_T2880      V2_T2880  V3_T2880  \n",
       "0  1.256010e-07 -0.000014  -0.00001  6.433500e-08 -0.000003  \n",
       "\n",
       "[1 rows x 69 columns]"
      ]
     },
     "metadata": {},
     "output_type": "display_data"
    },
    {
     "data": {
      "text/plain": [
       "'d'"
      ]
     },
     "metadata": {},
     "output_type": "display_data"
    },
    {
     "data": {
      "text/html": [
       "<div>\n",
       "<style scoped>\n",
       "    .dataframe tbody tr th:only-of-type {\n",
       "        vertical-align: middle;\n",
       "    }\n",
       "\n",
       "    .dataframe tbody tr th {\n",
       "        vertical-align: top;\n",
       "    }\n",
       "\n",
       "    .dataframe thead th {\n",
       "        text-align: right;\n",
       "    }\n",
       "</style>\n",
       "<table border=\"1\" class=\"dataframe\">\n",
       "  <thead>\n",
       "    <tr style=\"text-align: right;\">\n",
       "      <th></th>\n",
       "      <th>n</th>\n",
       "      <th>x</th>\n",
       "      <th>y</th>\n",
       "      <th>z</th>\n",
       "      <th>Th_T0</th>\n",
       "      <th>Th_T5</th>\n",
       "      <th>Th_T15</th>\n",
       "      <th>Th_T30</th>\n",
       "      <th>Th_T60</th>\n",
       "      <th>Th_T120</th>\n",
       "      <th>...</th>\n",
       "      <th>V3_T720</th>\n",
       "      <th>V1_T1440</th>\n",
       "      <th>V2_T1440</th>\n",
       "      <th>V3_T1440</th>\n",
       "      <th>V1_T2160</th>\n",
       "      <th>V2_T2160</th>\n",
       "      <th>V3_T2160</th>\n",
       "      <th>V1_T2880</th>\n",
       "      <th>V2_T2880</th>\n",
       "      <th>V3_T2880</th>\n",
       "    </tr>\n",
       "  </thead>\n",
       "  <tbody>\n",
       "    <tr>\n",
       "      <th>0</th>\n",
       "      <td>1</td>\n",
       "      <td>7.5</td>\n",
       "      <td>30.0</td>\n",
       "      <td>19.25</td>\n",
       "      <td>0.15</td>\n",
       "      <td>0.150278</td>\n",
       "      <td>0.150803</td>\n",
       "      <td>0.151539</td>\n",
       "      <td>0.308406</td>\n",
       "      <td>0.412841</td>\n",
       "      <td>...</td>\n",
       "      <td>-0.000133</td>\n",
       "      <td>-0.000026</td>\n",
       "      <td>3.727310e-07</td>\n",
       "      <td>-0.000041</td>\n",
       "      <td>-0.000018</td>\n",
       "      <td>1.639530e-07</td>\n",
       "      <td>-0.000013</td>\n",
       "      <td>-0.000013</td>\n",
       "      <td>1.058690e-07</td>\n",
       "      <td>-0.000002</td>\n",
       "    </tr>\n",
       "  </tbody>\n",
       "</table>\n",
       "<p>1 rows × 69 columns</p>\n",
       "</div>"
      ],
      "text/plain": [
       "   n    x     y      z  Th_T0     Th_T5    Th_T15    Th_T30    Th_T60  \\\n",
       "0  1  7.5  30.0  19.25   0.15  0.150278  0.150803  0.151539  0.308406   \n",
       "\n",
       "    Th_T120  ...   V3_T720  V1_T1440      V2_T1440  V3_T1440  V1_T2160  \\\n",
       "0  0.412841  ... -0.000133 -0.000026  3.727310e-07 -0.000041 -0.000018   \n",
       "\n",
       "       V2_T2160  V3_T2160  V1_T2880      V2_T2880  V3_T2880  \n",
       "0  1.639530e-07 -0.000013 -0.000013  1.058690e-07 -0.000002  \n",
       "\n",
       "[1 rows x 69 columns]"
      ]
     },
     "metadata": {},
     "output_type": "display_data"
    },
    {
     "data": {
      "text/plain": [
       "'e'"
      ]
     },
     "metadata": {},
     "output_type": "display_data"
    },
    {
     "data": {
      "text/html": [
       "<div>\n",
       "<style scoped>\n",
       "    .dataframe tbody tr th:only-of-type {\n",
       "        vertical-align: middle;\n",
       "    }\n",
       "\n",
       "    .dataframe tbody tr th {\n",
       "        vertical-align: top;\n",
       "    }\n",
       "\n",
       "    .dataframe thead th {\n",
       "        text-align: right;\n",
       "    }\n",
       "</style>\n",
       "<table border=\"1\" class=\"dataframe\">\n",
       "  <thead>\n",
       "    <tr style=\"text-align: right;\">\n",
       "      <th></th>\n",
       "      <th>n</th>\n",
       "      <th>x</th>\n",
       "      <th>y</th>\n",
       "      <th>z</th>\n",
       "      <th>Th_T0</th>\n",
       "      <th>Th_T5</th>\n",
       "      <th>Th_T15</th>\n",
       "      <th>Th_T30</th>\n",
       "      <th>Th_T60</th>\n",
       "      <th>Th_T120</th>\n",
       "      <th>...</th>\n",
       "      <th>V3_T720</th>\n",
       "      <th>V1_T1440</th>\n",
       "      <th>V2_T1440</th>\n",
       "      <th>V3_T1440</th>\n",
       "      <th>V1_T2160</th>\n",
       "      <th>V2_T2160</th>\n",
       "      <th>V3_T2160</th>\n",
       "      <th>V1_T2880</th>\n",
       "      <th>V2_T2880</th>\n",
       "      <th>V3_T2880</th>\n",
       "    </tr>\n",
       "  </thead>\n",
       "  <tbody>\n",
       "    <tr>\n",
       "      <th>0</th>\n",
       "      <td>1</td>\n",
       "      <td>7.5</td>\n",
       "      <td>30.0</td>\n",
       "      <td>19.25</td>\n",
       "      <td>0.15</td>\n",
       "      <td>0.150278</td>\n",
       "      <td>0.150803</td>\n",
       "      <td>0.151532</td>\n",
       "      <td>0.270685</td>\n",
       "      <td>0.409786</td>\n",
       "      <td>...</td>\n",
       "      <td>-0.000157</td>\n",
       "      <td>-0.000028</td>\n",
       "      <td>4.269530e-07</td>\n",
       "      <td>-0.000046</td>\n",
       "      <td>-0.000018</td>\n",
       "      <td>1.844710e-07</td>\n",
       "      <td>-0.000014</td>\n",
       "      <td>-0.000013</td>\n",
       "      <td>1.153140e-07</td>\n",
       "      <td>-0.000002</td>\n",
       "    </tr>\n",
       "  </tbody>\n",
       "</table>\n",
       "<p>1 rows × 69 columns</p>\n",
       "</div>"
      ],
      "text/plain": [
       "   n    x     y      z  Th_T0     Th_T5    Th_T15    Th_T30    Th_T60  \\\n",
       "0  1  7.5  30.0  19.25   0.15  0.150278  0.150803  0.151532  0.270685   \n",
       "\n",
       "    Th_T120  ...   V3_T720  V1_T1440      V2_T1440  V3_T1440  V1_T2160  \\\n",
       "0  0.409786  ... -0.000157 -0.000028  4.269530e-07 -0.000046 -0.000018   \n",
       "\n",
       "       V2_T2160  V3_T2160  V1_T2880      V2_T2880  V3_T2880  \n",
       "0  1.844710e-07 -0.000014 -0.000013  1.153140e-07 -0.000002  \n",
       "\n",
       "[1 rows x 69 columns]"
      ]
     },
     "metadata": {},
     "output_type": "display_data"
    }
   ],
   "source": [
    "for x in range(len(extensions)):\n",
    "    display(extensions[x], dfs[x].head(1))"
   ]
  },
  {
   "cell_type": "code",
   "execution_count": 5,
   "metadata": {
    "ExecuteTime": {
     "end_time": "2020-01-01T11:44:37.767711Z",
     "start_time": "2020-01-01T11:44:10.071881Z"
    }
   },
   "outputs": [
    {
     "name": "stdout",
     "output_type": "stream",
     "text": [
      "For the cross section at  0.00 cm, The total passing flow = 0.0012 qcm\n",
      "For the cross section at 10.00 cm, The total passing flow = 0.0004 qcm\n",
      "For the cross section at 20.00 cm, The total passing flow = 0.0001 qcm\n",
      "For the cross section at 30.00 cm, The total passing flow = 0.0000 qcm\n",
      "For the cross section at 45.00 cm, The total passing flow = 1.4031 qcm\n"
     ]
    }
   ],
   "source": [
    "# Test at different cross sections\n",
    "for crossing in [0, 10, 20, 30, 45]:\n",
    "    flow = get_uneven_spans_area(\n",
    "        get_window_time_volumes(dfs[0], crossing, 2, 21))\n",
    "    print(\n",
    "        f'For the cross section at {crossing:5.2f} cm, The total passing flow = '\n",
    "        f'{flow:6.4f} qcm')"
   ]
  },
  {
   "cell_type": "code",
   "execution_count": 6,
   "metadata": {
    "ExecuteTime": {
     "end_time": "2020-01-01T11:45:04.071271Z",
     "start_time": "2020-01-01T11:44:37.768709Z"
    }
   },
   "outputs": [
    {
     "name": "stdout",
     "output_type": "stream",
     "text": [
      "0 {0: 8.751058876868021e-06, 5: 1.1941223110428759e-05, 15: 1.1611631446186417e-05, 30: 1.1115245450951835e-05, 60: 2.0242946097260184e-05, 120: 0, 180: 0, 240: 0, 500: 0, 720: 0, 1440: 0, 2160: 0, 2880: 0}\n",
      "10 {0: 8.40135052961272e-06, 5: 7.293921547864896e-06, 15: 6.3510473359366144e-06, 30: 7.904753271108225e-06, 60: 0, 120: 0, 180: 0, 240: 0, 500: 0, 720: 0, 1440: 0, 2160: 0, 2880: 0}\n",
      "20 {0: 3.4106665213263925e-06, 5: 3.505955787675151e-06, 15: 3.3746811266550436e-06, 30: 0, 60: 0, 120: 0, 180: 0, 240: 0, 500: 0, 720: 0, 1440: 0, 2160: 0, 2880: 0}\n",
      "30 {0: 3.971393518784156e-06, 5: 3.9764055618142594e-06, 15: 0, 30: 0, 60: 0, 120: 0, 180: 0, 240: 0, 500: 0, 720: 0, 1440: 0, 2160: 0, 2880: 0}\n",
      "45 {0: 7.153804092855782e-05, 5: 0.007912945388627794, 15: 0.06302413233998283, 30: 0.02384628607440419, 60: 0, 120: 0.002553791310335569, 180: 0.0012120805346935387, 240: 0.0005708074253331994, 500: 4.433719620395006e-05, 720: 0, 1440: 0, 2160: 0, 2880: 0}\n"
     ]
    }
   ],
   "source": [
    "# get_window_time_volumes(df_rotated, 50, 2, 21, return_dictionary=False)\n",
    "# Test at different cross sections\n",
    "for crossing in [0, 10, 20, 30, 45]:\n",
    "    flow = get_window_time_volumes(dfs[0], crossing, 2, 21)\n",
    "    print(crossing, flow)"
   ]
  },
  {
   "cell_type": "code",
   "execution_count": null,
   "metadata": {},
   "outputs": [],
   "source": []
  }
 ],
 "metadata": {
  "kernelspec": {
   "display_name": "Python 3",
   "language": "python",
   "name": "python3"
  },
  "language_info": {
   "codemirror_mode": {
    "name": "ipython",
    "version": 3
   },
   "file_extension": ".py",
   "mimetype": "text/x-python",
   "name": "python",
   "nbconvert_exporter": "python",
   "pygments_lexer": "ipython3",
   "version": "3.7.4"
  },
  "varInspector": {
   "cols": {
    "lenName": 16,
    "lenType": 16,
    "lenVar": 40
   },
   "kernels_config": {
    "python": {
     "delete_cmd_postfix": "",
     "delete_cmd_prefix": "del ",
     "library": "var_list.py",
     "varRefreshCmd": "print(var_dic_list())"
    },
    "r": {
     "delete_cmd_postfix": ") ",
     "delete_cmd_prefix": "rm(",
     "library": "var_list.r",
     "varRefreshCmd": "cat(var_dic_list()) "
    }
   },
   "types_to_exclude": [
    "module",
    "function",
    "builtin_function_or_method",
    "instance",
    "_Feature"
   ],
   "window_display": false
  }
 },
 "nbformat": 4,
 "nbformat_minor": 2
}
