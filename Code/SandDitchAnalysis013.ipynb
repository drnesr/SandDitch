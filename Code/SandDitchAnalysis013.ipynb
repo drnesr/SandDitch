{
 "cells": [
  {
   "cell_type": "code",
   "execution_count": 1,
   "metadata": {
    "ExecuteTime": {
     "end_time": "2019-12-26T12:40:53.661267Z",
     "start_time": "2019-12-26T12:40:51.518557Z"
    }
   },
   "outputs": [],
   "source": [
    "import os\n",
    "import glob\n",
    "import shutil\n",
    "import pandas as pd\n",
    "import numpy as np\n",
    "import matplotlib.pyplot as plt\n",
    "\n",
    "from NesrHydrusAnalyst import *"
   ]
  },
  {
   "cell_type": "code",
   "execution_count": 2,
   "metadata": {
    "ExecuteTime": {
     "end_time": "2019-12-26T12:40:53.666256Z",
     "start_time": "2019-12-26T12:40:53.662264Z"
    }
   },
   "outputs": [],
   "source": [
    "src = '../Datasets/H3D2_SandDitch0011'"
   ]
  },
  {
   "cell_type": "code",
   "execution_count": 3,
   "metadata": {
    "ExecuteTime": {
     "end_time": "2019-12-26T12:40:58.693492Z",
     "start_time": "2019-12-26T12:40:53.669247Z"
    }
   },
   "outputs": [
    {
     "name": "stdout",
     "output_type": "stream",
     "text": [
      "**SAVED** >> path: ../Datasets/H3D2_SandDitch0011/Nesr/1-Original_Grid.csv\n",
      "**SAVED** >> path: ../Datasets/H3D2_SandDitch0011/Nesr/2-Original_PrettyGrid.csv\n",
      "**SAVED** >> path: ../Datasets/H3D2_SandDitch0011/Nesr/3-Atm_A_level.csv\n",
      "**SAVED** >> path: ../Datasets/H3D2_SandDitch0011/Nesr/4-MassBalance.csv\n",
      "**SAVED** >> path: ../Datasets/H3D2_SandDitch0011/Nesr/5-Simulation_info.csv\n",
      "**SAVED** >> path: ../Datasets/H3D2_SandDitch0011/Nesr/6-BoundaryData.csv\n",
      "**SAVED** >> path: ../Datasets/H3D2_SandDitch0011/Nesr/7-MaterialsData.csv\n",
      "**All the CSV files were exported successfully**\n"
     ]
    }
   ],
   "source": [
    "# Test\n",
    "export_all_csvs(src, rotation_angle=0)"
   ]
  },
  {
   "cell_type": "code",
   "execution_count": 5,
   "metadata": {
    "ExecuteTime": {
     "end_time": "2019-12-26T12:42:05.545957Z",
     "start_time": "2019-12-26T12:41:22.322739Z"
    }
   },
   "outputs": [
    {
     "name": "stdout",
     "output_type": "stream",
     "text": [
      "\n",
      "For the 014 simulation\n",
      "**SAVED** >> path: ../Datasets/H3D2_SandDitch0014/Nesr/1-Original_Grid.csv\n",
      "**SAVED** >> path: ../Datasets/H3D2_SandDitch0014/Nesr/2-Original_PrettyGrid.csv\n",
      "**SAVED** >> path: ../Datasets/H3D2_SandDitch0014/Nesr/3-Atm_A_level.csv\n",
      "**SAVED** >> path: ../Datasets/H3D2_SandDitch0014/Nesr/4-MassBalance.csv\n",
      "**SAVED** >> path: ../Datasets/H3D2_SandDitch0014/Nesr/5-Simulation_info.csv\n",
      "**SAVED** >> path: ../Datasets/H3D2_SandDitch0014/Nesr/6-BoundaryData.csv\n",
      "**SAVED** >> path: ../Datasets/H3D2_SandDitch0014/Nesr/7-MaterialsData.csv\n",
      "**All the CSV files were exported successfully**\n",
      "\n",
      "For the 14a simulation\n",
      "**SAVED** >> path: ../Datasets/H3D2_SandDitch0014a/Nesr/1-Original_Grid.csv\n",
      "**SAVED** >> path: ../Datasets/H3D2_SandDitch0014a/Nesr/2-Original_PrettyGrid.csv\n",
      "**SAVED** >> path: ../Datasets/H3D2_SandDitch0014a/Nesr/3-Atm_A_level.csv\n",
      "**SAVED** >> path: ../Datasets/H3D2_SandDitch0014a/Nesr/4-MassBalance.csv\n",
      "**SAVED** >> path: ../Datasets/H3D2_SandDitch0014a/Nesr/5-Simulation_info.csv\n",
      "**SAVED** >> path: ../Datasets/H3D2_SandDitch0014a/Nesr/6-BoundaryData.csv\n",
      "**SAVED** >> path: ../Datasets/H3D2_SandDitch0014a/Nesr/7-MaterialsData.csv\n",
      "**All the CSV files were exported successfully**\n",
      "\n",
      "For the 14b simulation\n",
      "**SAVED** >> path: ../Datasets/H3D2_SandDitch0014b/Nesr/1-Original_Grid.csv\n",
      "**SAVED** >> path: ../Datasets/H3D2_SandDitch0014b/Nesr/2-Original_PrettyGrid.csv\n",
      "**SAVED** >> path: ../Datasets/H3D2_SandDitch0014b/Nesr/3-Atm_A_level.csv\n",
      "**SAVED** >> path: ../Datasets/H3D2_SandDitch0014b/Nesr/4-MassBalance.csv\n",
      "**SAVED** >> path: ../Datasets/H3D2_SandDitch0014b/Nesr/5-Simulation_info.csv\n",
      "**SAVED** >> path: ../Datasets/H3D2_SandDitch0014b/Nesr/6-BoundaryData.csv\n",
      "**SAVED** >> path: ../Datasets/H3D2_SandDitch0014b/Nesr/7-MaterialsData.csv\n",
      "**All the CSV files were exported successfully**\n",
      "\n",
      "For the 14c simulation\n",
      "**SAVED** >> path: ../Datasets/H3D2_SandDitch0014c/Nesr/1-Original_Grid.csv\n",
      "**SAVED** >> path: ../Datasets/H3D2_SandDitch0014c/Nesr/2-Original_PrettyGrid.csv\n",
      "**SAVED** >> path: ../Datasets/H3D2_SandDitch0014c/Nesr/3-Atm_A_level.csv\n",
      "**SAVED** >> path: ../Datasets/H3D2_SandDitch0014c/Nesr/4-MassBalance.csv\n",
      "**SAVED** >> path: ../Datasets/H3D2_SandDitch0014c/Nesr/5-Simulation_info.csv\n",
      "**SAVED** >> path: ../Datasets/H3D2_SandDitch0014c/Nesr/6-BoundaryData.csv\n",
      "**SAVED** >> path: ../Datasets/H3D2_SandDitch0014c/Nesr/7-MaterialsData.csv\n",
      "**All the CSV files were exported successfully**\n",
      "\n",
      "For the 14d simulation\n",
      "**SAVED** >> path: ../Datasets/H3D2_SandDitch0014d/Nesr/1-Original_Grid.csv\n",
      "**SAVED** >> path: ../Datasets/H3D2_SandDitch0014d/Nesr/2-Original_PrettyGrid.csv\n",
      "**SAVED** >> path: ../Datasets/H3D2_SandDitch0014d/Nesr/3-Atm_A_level.csv\n",
      "**SAVED** >> path: ../Datasets/H3D2_SandDitch0014d/Nesr/4-MassBalance.csv\n",
      "**SAVED** >> path: ../Datasets/H3D2_SandDitch0014d/Nesr/5-Simulation_info.csv\n",
      "**SAVED** >> path: ../Datasets/H3D2_SandDitch0014d/Nesr/6-BoundaryData.csv\n",
      "**SAVED** >> path: ../Datasets/H3D2_SandDitch0014d/Nesr/7-MaterialsData.csv\n",
      "**All the CSV files were exported successfully**\n",
      "\n",
      "For the 14e simulation\n",
      "**SAVED** >> path: ../Datasets/H3D2_SandDitch0014e/Nesr/1-Original_Grid.csv\n",
      "**SAVED** >> path: ../Datasets/H3D2_SandDitch0014e/Nesr/2-Original_PrettyGrid.csv\n",
      "**SAVED** >> path: ../Datasets/H3D2_SandDitch0014e/Nesr/3-Atm_A_level.csv\n",
      "**SAVED** >> path: ../Datasets/H3D2_SandDitch0014e/Nesr/4-MassBalance.csv\n",
      "**SAVED** >> path: ../Datasets/H3D2_SandDitch0014e/Nesr/5-Simulation_info.csv\n",
      "**SAVED** >> path: ../Datasets/H3D2_SandDitch0014e/Nesr/6-BoundaryData.csv\n",
      "**SAVED** >> path: ../Datasets/H3D2_SandDitch0014e/Nesr/7-MaterialsData.csv\n",
      "**All the CSV files were exported successfully**\n"
     ]
    }
   ],
   "source": [
    "sources = [f'../Datasets/H3D2_SandDitch0014{x}' for x in ('', 'a', 'b', 'c', 'd', 'e')]\n",
    "for source in sources:\n",
    "    print(f'\\nFor the {source.split(\"/\")[2][-3:]} simulation')\n",
    "    export_all_csvs(source, rotation_angle=0)"
   ]
  },
  {
   "cell_type": "code",
   "execution_count": 6,
   "metadata": {
    "ExecuteTime": {
     "end_time": "2019-12-26T12:42:28.432540Z",
     "start_time": "2019-12-26T12:42:28.426556Z"
    }
   },
   "outputs": [
    {
     "data": {
      "text/plain": [
       "['..', 'Datasets', 'H3D2_SandDitch0014{x}']"
      ]
     },
     "execution_count": 6,
     "metadata": {},
     "output_type": "execute_result"
    }
   ],
   "source": [
    "'../Datasets/H3D2_SandDitch0014{x}'.split('/')"
   ]
  },
  {
   "cell_type": "code",
   "execution_count": null,
   "metadata": {},
   "outputs": [],
   "source": []
  }
 ],
 "metadata": {
  "kernelspec": {
   "display_name": "Python 3",
   "language": "python",
   "name": "python3"
  },
  "language_info": {
   "codemirror_mode": {
    "name": "ipython",
    "version": 3
   },
   "file_extension": ".py",
   "mimetype": "text/x-python",
   "name": "python",
   "nbconvert_exporter": "python",
   "pygments_lexer": "ipython3",
   "version": "3.7.4"
  },
  "varInspector": {
   "cols": {
    "lenName": 16,
    "lenType": 16,
    "lenVar": 40
   },
   "kernels_config": {
    "python": {
     "delete_cmd_postfix": "",
     "delete_cmd_prefix": "del ",
     "library": "var_list.py",
     "varRefreshCmd": "print(var_dic_list())"
    },
    "r": {
     "delete_cmd_postfix": ") ",
     "delete_cmd_prefix": "rm(",
     "library": "var_list.r",
     "varRefreshCmd": "cat(var_dic_list()) "
    }
   },
   "types_to_exclude": [
    "module",
    "function",
    "builtin_function_or_method",
    "instance",
    "_Feature"
   ],
   "window_display": false
  }
 },
 "nbformat": 4,
 "nbformat_minor": 2
}
