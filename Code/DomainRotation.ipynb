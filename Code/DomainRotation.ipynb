{
 "cells": [
  {
   "cell_type": "markdown",
   "metadata": {},
   "source": [
    "# Basic shape rotation\n",
    "Source: https://www.mathematics-monster.com/lessons/how_to_rotate_a_shape.html"
   ]
  },
  {
   "cell_type": "code",
   "execution_count": 2,
   "metadata": {
    "ExecuteTime": {
     "end_time": "2019-11-03T11:20:37.136358Z",
     "start_time": "2019-11-03T11:20:36.368416Z"
    }
   },
   "outputs": [],
   "source": [
    "import numpy as np\n",
    "import pandas as pd\n"
   ]
  },
  {
   "cell_type": "markdown",
   "metadata": {},
   "source": [
    "![Please refer to https://www.mathematics-monster.com/lessons/how_to_rotate_a_shape.html](../Assets/rotate1.png \"Shape Rotation\")"
   ]
  },
  {
   "cell_type": "code",
   "execution_count": 41,
   "metadata": {
    "ExecuteTime": {
     "end_time": "2019-11-03T12:07:57.656526Z",
     "start_time": "2019-11-03T12:07:57.647549Z"
    }
   },
   "outputs": [],
   "source": [
    "# Basic idea from https://stackoverflow.com/a/45649110/5820024\n",
    "def to_rad(deg):\n",
    "    return deg * np.pi / 180.\n",
    "\n",
    "\n",
    "def sin(degrees):\n",
    "    return np.sin(to_rad(degrees))\n",
    "\n",
    "\n",
    "def cos(degrees):\n",
    "    return np.cos(to_rad(degrees))\n",
    "\n",
    "\n",
    "def rotate_point_old1(x, y, x_c, y_c, degrees, round_to=4):\n",
    "    '''\n",
    "    get the new point after rotation\n",
    "    x, y: original coordinates of the point\n",
    "    x_c, y_c: center of rotation's coordinates\n",
    "    degrees: the rotation angle in degrees (+ve CCW, -ve CW)\n",
    "    round_to: the rounding digits\n",
    "    '''\n",
    "    newx = (x - x_c) * cos(degrees) - (y - y_c) * sin(degrees) + x_c\n",
    "    newy = (x - x_c) * sin(degrees) + (y - y_c) * cos(degrees) + y_c\n",
    "    return np.round(np.array([newx, newy]), decimals=4).tolist()\n",
    "\n",
    "\n",
    "def rotate_point_old2(x, y, x_c, y_c, degrees, round_to=4):\n",
    "    '''\n",
    "    get the new point after rotation\n",
    "    x, y: original coordinates of the point\n",
    "    x_c, y_c: center of rotation's coordinates\n",
    "    degrees: the rotation angle in degrees (+ve CCW, -ve CW)\n",
    "    round_to: the rounding digits\n",
    "    '''\n",
    "    rads = degrees * np.pi / 180.\n",
    "    cr, sr = np.cos(rads), np.sin(rads)\n",
    "    newx = (x - x_c) * cr - (y - y_c) * sr + x_c\n",
    "    newy = (x - x_c) * sr + (y - y_c) * cr + y_c\n",
    "    return np.round(np.array([newx, newy]), decimals=4).tolist()\n",
    "\n",
    "def rotate_point(x, y, x_c, y_c, cr, sr, round_to=4):\n",
    "    '''\n",
    "    get the new point after rotation\n",
    "    x, y: original coordinates of the point\n",
    "    x_c, y_c: center of rotation's coordinates\n",
    "    degrees: the rotation angle in degrees (+ve CCW, -ve CW)\n",
    "    round_to: the rounding digits\n",
    "    '''\n",
    "\n",
    "    newx = (x - x_c) * cr - (y - y_c) * sr + x_c\n",
    "    newy = (x - x_c) * sr + (y - y_c) * cr + y_c\n",
    "    return np.round(np.array([newx, newy]), decimals=4).tolist()"
   ]
  },
  {
   "cell_type": "markdown",
   "metadata": {},
   "source": [
    "***Notice that CW rotation is negative, while CCW rotation is positive***"
   ]
  },
  {
   "cell_type": "code",
   "execution_count": 45,
   "metadata": {
    "ExecuteTime": {
     "end_time": "2019-11-03T12:08:21.471438Z",
     "start_time": "2019-11-03T12:08:21.467421Z"
    }
   },
   "outputs": [
    {
     "data": {
      "text/plain": [
       "[4.5981, 4.2321]"
      ]
     },
     "execution_count": 45,
     "metadata": {},
     "output_type": "execute_result"
    }
   ],
   "source": [
    "# The given example rotation is NEGATIVE 60\n",
    "rotate_point_old2(1, 4, 3, 1, -60)"
   ]
  },
  {
   "cell_type": "code",
   "execution_count": 46,
   "metadata": {
    "ExecuteTime": {
     "end_time": "2019-11-03T12:08:22.099294Z",
     "start_time": "2019-11-03T12:08:22.094308Z"
    }
   },
   "outputs": [
    {
     "data": {
      "text/plain": [
       "[1.0, 4.0]"
      ]
     },
     "execution_count": 46,
     "metadata": {},
     "output_type": "execute_result"
    }
   ],
   "source": [
    "# Rotate back\n",
    "rotate_point_old2(4.598076211353316, 4.232050807568878, 3, 1, 60)\n",
    "rotate_point_old2(4.5981, 4.2321, 3, 1, 60)"
   ]
  },
  {
   "cell_type": "code",
   "execution_count": 47,
   "metadata": {
    "ExecuteTime": {
     "end_time": "2019-11-03T12:08:29.132530Z",
     "start_time": "2019-11-03T12:08:29.125549Z"
    }
   },
   "outputs": [],
   "source": [
    "def rotate_shape_old(points, center, degrees, round_to=4):\n",
    "    rotated=[]\n",
    "    x_c, y_c = center\n",
    "    \n",
    "    for point in points:\n",
    "        x, y = point\n",
    "        new_point=tuple(rotate_point(x, y, x_c, y_c, degrees, round_to))\n",
    "        rotated.append(new_point)\n",
    "    return rotated\n",
    "\n",
    "def rotate_shape(points, center, degrees, round_to=4):\n",
    "    rotated=[]\n",
    "    x_c, y_c = center\n",
    "    rads = degrees * np.pi / 180.\n",
    "    cr, sr = np.cos(rads), np.sin(rads)\n",
    "    for point in points:\n",
    "        x, y = point\n",
    "        new_point=tuple(rotate_point(x, y, x_c, y_c, cr, sr, round_to))\n",
    "        rotated.append(new_point)\n",
    "    return rotated"
   ]
  },
  {
   "cell_type": "code",
   "execution_count": 48,
   "metadata": {
    "ExecuteTime": {
     "end_time": "2019-11-03T12:08:29.930942Z",
     "start_time": "2019-11-03T12:08:29.925955Z"
    }
   },
   "outputs": [
    {
     "data": {
      "text/plain": [
       "[(4.5981, 4.2321), (6.8301, 4.366), (5.5981, 2.5)]"
      ]
     },
     "execution_count": 48,
     "metadata": {},
     "output_type": "execute_result"
    }
   ],
   "source": [
    "rotate_shape(((1,4), (2, 6), (3, 4)), (3, 1), -60)"
   ]
  },
  {
   "cell_type": "markdown",
   "metadata": {},
   "source": [
    "#### Defining an array-based function"
   ]
  },
  {
   "cell_type": "code",
   "execution_count": 59,
   "metadata": {
    "ExecuteTime": {
     "end_time": "2019-11-03T12:36:50.757830Z",
     "start_time": "2019-11-03T12:36:50.752845Z"
    }
   },
   "outputs": [
    {
     "data": {
      "text/plain": [
       "array([[1, 4],\n",
       "       [2, 6],\n",
       "       [3, 4]])"
      ]
     },
     "execution_count": 59,
     "metadata": {},
     "output_type": "execute_result"
    }
   ],
   "source": [
    "shape=np.array(((1,4), (2, 6), (3, 4)))\n",
    "shape"
   ]
  },
  {
   "cell_type": "code",
   "execution_count": 52,
   "metadata": {
    "ExecuteTime": {
     "end_time": "2019-11-03T12:32:51.595938Z",
     "start_time": "2019-11-03T12:32:51.592944Z"
    }
   },
   "outputs": [],
   "source": [
    "center = (3, 1)\n",
    "degrees = -60\n",
    "\n",
    "rads = degrees * np.pi / 180.\n",
    "cr, sr = np.cos(rads), np.sin(rads)\n",
    "x_c, y_c = center"
   ]
  },
  {
   "cell_type": "code",
   "execution_count": 54,
   "metadata": {
    "ExecuteTime": {
     "end_time": "2019-11-03T12:34:14.049197Z",
     "start_time": "2019-11-03T12:34:14.045207Z"
    }
   },
   "outputs": [
    {
     "data": {
      "text/plain": [
       "(array([1, 2, 3]), array([4, 6, 4]))"
      ]
     },
     "execution_count": 54,
     "metadata": {},
     "output_type": "execute_result"
    }
   ],
   "source": [
    "\n",
    "X, Y = shape[:,0], shape[:,1]\n",
    "X, Y"
   ]
  },
  {
   "cell_type": "code",
   "execution_count": 60,
   "metadata": {
    "ExecuteTime": {
     "end_time": "2019-11-03T12:37:38.276825Z",
     "start_time": "2019-11-03T12:37:38.272807Z"
    }
   },
   "outputs": [
    {
     "name": "stdout",
     "output_type": "stream",
     "text": [
      "[1 2 3] [4 6 4]\n",
      "[-2 -1  0] [3 5 3]\n"
     ]
    }
   ],
   "source": [
    "new_shape = shape.copy()\n",
    "X, Y = new_shape[:, 0], new_shape[:, 1]\n",
    "print(X, Y)\n",
    "X -= x_c\n",
    "Y -= y_c\n",
    "print(X, Y)"
   ]
  },
  {
   "cell_type": "code",
   "execution_count": 61,
   "metadata": {
    "ExecuteTime": {
     "end_time": "2019-11-03T12:39:20.247116Z",
     "start_time": "2019-11-03T12:39:20.242130Z"
    }
   },
   "outputs": [
    {
     "name": "stdout",
     "output_type": "stream",
     "text": [
      "[4.59807621 6.83012702 5.59807621] [4.23205081 4.3660254  2.5       ]\n"
     ]
    }
   ],
   "source": [
    "X, Y = X * cr - Y * sr + x_c, X * sr + Y * cr + y_c\n",
    "\n",
    "print(X, Y)"
   ]
  },
  {
   "cell_type": "code",
   "execution_count": 66,
   "metadata": {
    "ExecuteTime": {
     "end_time": "2019-11-03T12:42:42.441236Z",
     "start_time": "2019-11-03T12:42:42.436249Z"
    }
   },
   "outputs": [
    {
     "data": {
      "text/plain": [
       "array([[4.59807621, 4.23205081],\n",
       "       [6.83012702, 4.3660254 ],\n",
       "       [5.59807621, 2.5       ]])"
      ]
     },
     "execution_count": 66,
     "metadata": {},
     "output_type": "execute_result"
    }
   ],
   "source": [
    "new_shape = np.vstack((X, Y)).T\n",
    "new_shape"
   ]
  },
  {
   "cell_type": "markdown",
   "metadata": {},
   "source": [
    "### Using metrices\n",
    "https://math.stackexchange.com/questions/1917449/rotate-polygon-around-center-and-get-the-coordinates\n",
    "![Please refer to https://math.stackexchange.com/questions/1917449/rotate-polygon-around-center-and-get-the-coordinates](../Assets/rotate2.png \"Shape Rotation\")"
   ]
  },
  {
   "cell_type": "markdown",
   "metadata": {
    "ExecuteTime": {
     "end_time": "2019-11-03T13:02:25.196491Z",
     "start_time": "2019-11-03T13:02:25.191504Z"
    }
   },
   "source": [
    "**[Another good source](https://matthew-brett.github.io/teaching/rotation_2d.html)**"
   ]
  },
  {
   "cell_type": "code",
   "execution_count": 83,
   "metadata": {
    "ExecuteTime": {
     "end_time": "2019-11-03T13:00:58.480902Z",
     "start_time": "2019-11-03T13:00:58.475916Z"
    }
   },
   "outputs": [
    {
     "data": {
      "text/plain": [
       "(array([3, 1]),\n",
       " [[0.5000000000000001, 0.8660254037844386],\n",
       "  [-0.8660254037844386, 0.5000000000000001]])"
      ]
     },
     "execution_count": 83,
     "metadata": {},
     "output_type": "execute_result"
    }
   ],
   "source": [
    "# new_shape =\n",
    "# C =np.array(((x_c), (y_c)))\n",
    "C = np.array((x_c, y_c))\n",
    "R = [[cr, -sr], [sr, cr]]\n",
    "\n",
    "C, R"
   ]
  },
  {
   "cell_type": "code",
   "execution_count": 87,
   "metadata": {
    "ExecuteTime": {
     "end_time": "2019-11-03T13:09:58.986900Z",
     "start_time": "2019-11-03T13:09:58.981912Z"
    }
   },
   "outputs": [
    {
     "data": {
      "text/plain": [
       "array([[4.59807621, 4.23205081],\n",
       "       [6.83012702, 4.3660254 ],\n",
       "       [5.59807621, 2.5       ]])"
      ]
     },
     "execution_count": 87,
     "metadata": {},
     "output_type": "execute_result"
    }
   ],
   "source": [
    "new_shape = np.dot(R, (shape - C).T).T + C\n",
    "new_shape"
   ]
  },
  {
   "cell_type": "code",
   "execution_count": 99,
   "metadata": {
    "ExecuteTime": {
     "end_time": "2019-11-03T14:08:42.831086Z",
     "start_time": "2019-11-03T14:08:42.821088Z"
    }
   },
   "outputs": [
    {
     "data": {
      "text/plain": [
       "array([[1, 4],\n",
       "       [2, 6],\n",
       "       [3, 4]])"
      ]
     },
     "metadata": {},
     "output_type": "display_data"
    },
    {
     "data": {
      "text/plain": [
       "(3, 1)"
      ]
     },
     "metadata": {},
     "output_type": "display_data"
    },
    {
     "data": {
      "text/plain": [
       "-60"
      ]
     },
     "metadata": {},
     "output_type": "display_data"
    },
    {
     "data": {
      "text/plain": [
       "array([[4.59807621, 4.23205081],\n",
       "       [6.83012702, 4.3660254 ],\n",
       "       [5.59807621, 2.5       ]])"
      ]
     },
     "execution_count": 99,
     "metadata": {},
     "output_type": "execute_result"
    }
   ],
   "source": [
    "def array_rotate_2D(cords, center, degrees):\n",
    "    '''\n",
    "    To find the new coordinates of the rotated shape\n",
    "    cords: the original coordinates (numpy array of 2 columns (x,y) and n rows)\n",
    "    center: the x, y coordinates of the point of rotation\n",
    "    degrees: the angle of rotation (+ve CCW, -ve CW)\n",
    "    '''\n",
    "    rads = degrees * np.pi / 180.\n",
    "    cr, sr = np.cos(rads), np.sin(rads)\n",
    "    # x_c, y_c = center\n",
    "    C = np.array(center)  #np.array((x_c, y_c))\n",
    "    R = [[cr, -sr], [sr, cr]]\n",
    "    return np.dot(R, (cords - C).T).T + C\n",
    "\n",
    "\n",
    "# Test\n",
    "display(shape, center, degrees)\n",
    "array_rotate_2D(shape, center, degrees)"
   ]
  },
  {
   "cell_type": "markdown",
   "metadata": {},
   "source": [
    "## Shape rotation in 3D across X, Y, or Z axes\n",
    "\n",
    "[The source of formulas](https://stackoverflow.com/a/14609567/5820024), [and a thorough description of rules is here](https://en.wikipedia.org/wiki/Rotation_matrix)"
   ]
  },
  {
   "cell_type": "code",
   "execution_count": 103,
   "metadata": {
    "ExecuteTime": {
     "end_time": "2019-11-03T14:12:03.560584Z",
     "start_time": "2019-11-03T14:12:03.553604Z"
    }
   },
   "outputs": [],
   "source": [
    "def array_rotate_3D(cords, degrees, rotation_axis='X'):\n",
    "    '''\n",
    "    To find the new coordinates of the rotated shape\n",
    "    The shape here is rotated with ONE angle on ONE axis only.\n",
    "    \n",
    "    cords: the original coordinates \n",
    "            (a numpy array of 3 columns (x, y, z) and n rows)\n",
    "    degrees: the angle of rotation (+ve CCW, -ve CW)\n",
    "    rotation_axis='X' or 'Y' or 'Z'\n",
    "    '''\n",
    "    rads = degrees * np.pi / 180.\n",
    "    cr, sr = np.cos(rads), np.sin(rads)\n",
    "    # x_c, y_c = center\n",
    "    C = np.array(center)  #np.array((x_c, y_c))\n",
    "    ax = rotation_axis.lower()\n",
    "    if ax == 'x':\n",
    "        R = [[1, 0, 0], [0, cr, -sr], [0, sr, cr]]\n",
    "    elif ax == 'y':\n",
    "        R = [[cr, 0, sr], [0, 1, 0], [-sr, 0, cr]]\n",
    "    elif ax == 'z':\n",
    "        R = [[cr, -sr, 0], [sr, cr, 0], [0, 0, 1]]\n",
    "    else:  # Other\n",
    "        print(f'Axis {rotation_axis} is not recognized!')\n",
    "        raise ()\n",
    "\n",
    "    # display(R, cords.T)\n",
    "    return np.dot(R, cords.T).T"
   ]
  },
  {
   "cell_type": "code",
   "execution_count": 104,
   "metadata": {
    "ExecuteTime": {
     "end_time": "2019-11-03T14:12:04.350797Z",
     "start_time": "2019-11-03T14:12:04.343788Z"
    }
   },
   "outputs": [
    {
     "data": {
      "text/plain": [
       "array([[1, 4, 2],\n",
       "       [2, 6, 2],\n",
       "       [3, 4, 2]])"
      ]
     },
     "metadata": {},
     "output_type": "display_data"
    },
    {
     "data": {
      "text/plain": [
       "array([[1, 4, 2],\n",
       "       [2, 6, 3],\n",
       "       [3, 4, 4]])"
      ]
     },
     "metadata": {},
     "output_type": "display_data"
    }
   ],
   "source": [
    "shape3D1 = np.array(((1, 4, 2), (2, 6, 2), (3, 4, 2)))\n",
    "shape3D2 = np.array(((1, 4, 2), (2, 6, 3), (3, 4, 4)))\n",
    "display(shape3D1,  shape3D2)"
   ]
  },
  {
   "cell_type": "code",
   "execution_count": 105,
   "metadata": {
    "ExecuteTime": {
     "end_time": "2019-11-03T14:12:05.355315Z",
     "start_time": "2019-11-03T14:12:05.351330Z"
    }
   },
   "outputs": [
    {
     "data": {
      "text/plain": [
       "array([[ 3.96410162,  1.1339746 ,  2.        ],\n",
       "       [ 6.19615242,  1.26794919,  2.        ],\n",
       "       [ 4.96410162, -0.59807621,  2.        ]])"
      ]
     },
     "execution_count": 105,
     "metadata": {},
     "output_type": "execute_result"
    }
   ],
   "source": [
    "array_rotate_3D(shape3D1, -60, rotation_axis='Z')"
   ]
  },
  {
   "cell_type": "code",
   "execution_count": 106,
   "metadata": {
    "ExecuteTime": {
     "end_time": "2019-11-03T14:13:19.016428Z",
     "start_time": "2019-11-03T14:13:19.012462Z"
    }
   },
   "outputs": [
    {
     "data": {
      "text/plain": [
       "array([[ 3.96410162,  1.1339746 ],\n",
       "       [ 6.19615242,  1.26794919],\n",
       "       [ 4.96410162, -0.59807621]])"
      ]
     },
     "execution_count": 106,
     "metadata": {},
     "output_type": "execute_result"
    }
   ],
   "source": [
    "array_rotate_2D(shape, (0, 0), degrees)"
   ]
  },
  {
   "cell_type": "code",
   "execution_count": 107,
   "metadata": {
    "ExecuteTime": {
     "end_time": "2019-11-03T14:15:27.346590Z",
     "start_time": "2019-11-03T14:15:27.339608Z"
    }
   },
   "outputs": [
    {
     "data": {
      "text/plain": [
       "array([[-1.23205081,  4.        ,  1.8660254 ],\n",
       "       [-0.73205081,  6.        ,  2.73205081],\n",
       "       [-0.23205081,  4.        ,  3.59807621]])"
      ]
     },
     "execution_count": 107,
     "metadata": {},
     "output_type": "execute_result"
    }
   ],
   "source": [
    "array_rotate_3D(shape3D1, -60, rotation_axis='Y')"
   ]
  },
  {
   "cell_type": "code",
   "execution_count": 108,
   "metadata": {
    "ExecuteTime": {
     "end_time": "2019-11-03T14:16:18.920707Z",
     "start_time": "2019-11-03T14:16:18.915693Z"
    }
   },
   "outputs": [
    {
     "data": {
      "text/plain": [
       "array([[ 1.        ,  3.73205081, -2.46410162],\n",
       "       [ 2.        ,  4.73205081, -4.19615242],\n",
       "       [ 3.        ,  3.73205081, -2.46410162]])"
      ]
     },
     "execution_count": 108,
     "metadata": {},
     "output_type": "execute_result"
    }
   ],
   "source": [
    "array_rotate_3D(shape3D1, -60, rotation_axis='x')"
   ]
  },
  {
   "cell_type": "code",
   "execution_count": 109,
   "metadata": {
    "ExecuteTime": {
     "end_time": "2019-11-03T14:17:05.184866Z",
     "start_time": "2019-11-03T14:17:05.180877Z"
    }
   },
   "outputs": [
    {
     "data": {
      "text/plain": [
       "array([[ 3.96410162,  1.1339746 ,  2.        ],\n",
       "       [ 6.19615242,  1.26794919,  3.        ],\n",
       "       [ 4.96410162, -0.59807621,  4.        ]])"
      ]
     },
     "execution_count": 109,
     "metadata": {},
     "output_type": "execute_result"
    }
   ],
   "source": [
    "array_rotate_3D(shape3D2, -60, rotation_axis='Z')"
   ]
  },
  {
   "cell_type": "code",
   "execution_count": null,
   "metadata": {},
   "outputs": [],
   "source": []
  }
 ],
 "metadata": {
  "kernelspec": {
   "display_name": "Python 3",
   "language": "python",
   "name": "python3"
  },
  "language_info": {
   "codemirror_mode": {
    "name": "ipython",
    "version": 3
   },
   "file_extension": ".py",
   "mimetype": "text/x-python",
   "name": "python",
   "nbconvert_exporter": "python",
   "pygments_lexer": "ipython3",
   "version": "3.7.4"
  },
  "varInspector": {
   "cols": {
    "lenName": 16,
    "lenType": 16,
    "lenVar": 40
   },
   "kernels_config": {
    "python": {
     "delete_cmd_postfix": "",
     "delete_cmd_prefix": "del ",
     "library": "var_list.py",
     "varRefreshCmd": "print(var_dic_list())"
    },
    "r": {
     "delete_cmd_postfix": ") ",
     "delete_cmd_prefix": "rm(",
     "library": "var_list.r",
     "varRefreshCmd": "cat(var_dic_list()) "
    }
   },
   "types_to_exclude": [
    "module",
    "function",
    "builtin_function_or_method",
    "instance",
    "_Feature"
   ],
   "window_display": false
  }
 },
 "nbformat": 4,
 "nbformat_minor": 2
}
