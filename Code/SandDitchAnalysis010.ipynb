{
 "cells": [
  {
   "cell_type": "markdown",
   "metadata": {},
   "source": [
    "# Reading the rest of HYDRUS files\n",
    "![The project files](../Assets/Project_files.png)"
   ]
  },
  {
   "cell_type": "markdown",
   "metadata": {},
   "source": [
    "## Importing and loading dataset"
   ]
  },
  {
   "cell_type": "code",
   "execution_count": 1,
   "metadata": {
    "ExecuteTime": {
     "end_time": "2019-11-24T11:27:54.709224Z",
     "start_time": "2019-11-24T11:27:52.632782Z"
    }
   },
   "outputs": [],
   "source": [
    "import os\n",
    "import glob\n",
    "import shutil\n",
    "import pandas as pd\n",
    "import numpy as np\n",
    "import matplotlib.pyplot as plt\n",
    "\n",
    "from NesrHydrusAnalyst import *"
   ]
  },
  {
   "cell_type": "code",
   "execution_count": 2,
   "metadata": {
    "ExecuteTime": {
     "end_time": "2019-11-24T11:27:54.829901Z",
     "start_time": "2019-11-24T11:27:54.825913Z"
    }
   },
   "outputs": [],
   "source": [
    "src = '../Datasets/H3D2_SandDitch0011'"
   ]
  },
  {
   "cell_type": "markdown",
   "metadata": {},
   "source": [
    "## Unreadable files\n",
    "Encrypted files that are converted to text elswhere\n",
    "1. `h.out`\n",
    "2. `Q.out`\n",
    "3. `v.out`\n",
    "3. `th.out`\n",
    "4. `MESHTRIA.000`\n",
    "4. `DOMAIN.IN`"
   ]
  },
  {
   "cell_type": "markdown",
   "metadata": {},
   "source": [
    "## Reading previous implemented files\n",
    "### Reading the _mesh files_\n",
    "1. `H.TXT`\n",
    "2. `V.TXT`\n",
    "3. `TH.TXT`\n",
    "4. `MESHTRIA.TXT`"
   ]
  },
  {
   "cell_type": "code",
   "execution_count": 4,
   "metadata": {
    "ExecuteTime": {
     "end_time": "2019-11-24T11:28:34.282203Z",
     "start_time": "2019-11-24T11:28:33.499326Z"
    },
    "scrolled": true
   },
   "outputs": [
    {
     "name": "stdout",
     "output_type": "stream",
     "text": [
      " For the entire simulation\n",
      " ========================= \n",
      "Time steps : [0, 5, 15, 30, 60, 120, 180, 240, 500, 720, 1440] \n",
      "Dimensions : {'x': (-0.839105, 49.9601), 'y': (0.0, 20.0), 'z': (0.0, 22.9811)} \n",
      "Matrix dims: x_vals(41,), z_vals(46,), X(46, 41), Z(46, 41), M(46, 41)\n",
      "\n",
      "\n",
      " Variables statistics:\n",
      " =====================\n"
     ]
    },
    {
     "data": {
      "text/html": [
       "<div>\n",
       "<style scoped>\n",
       "    .dataframe tbody tr th:only-of-type {\n",
       "        vertical-align: middle;\n",
       "    }\n",
       "\n",
       "    .dataframe tbody tr th {\n",
       "        vertical-align: top;\n",
       "    }\n",
       "\n",
       "    .dataframe thead th {\n",
       "        text-align: right;\n",
       "    }\n",
       "</style>\n",
       "<table border=\"1\" class=\"dataframe\">\n",
       "  <thead>\n",
       "    <tr style=\"text-align: right;\">\n",
       "      <th></th>\n",
       "      <th>n</th>\n",
       "      <th>x</th>\n",
       "      <th>y</th>\n",
       "      <th>z</th>\n",
       "      <th>Th_T0</th>\n",
       "      <th>Th_T5</th>\n",
       "      <th>Th_T15</th>\n",
       "      <th>Th_T30</th>\n",
       "      <th>Th_T60</th>\n",
       "      <th>Th_T120</th>\n",
       "      <th>...</th>\n",
       "      <th>V3_T240</th>\n",
       "      <th>V1_T500</th>\n",
       "      <th>V2_T500</th>\n",
       "      <th>V3_T500</th>\n",
       "      <th>V1_T720</th>\n",
       "      <th>V2_T720</th>\n",
       "      <th>V3_T720</th>\n",
       "      <th>V1_T1440</th>\n",
       "      <th>V2_T1440</th>\n",
       "      <th>V3_T1440</th>\n",
       "    </tr>\n",
       "  </thead>\n",
       "  <tbody>\n",
       "    <tr>\n",
       "      <th>1266</th>\n",
       "      <td>1266</td>\n",
       "      <td>22.7091</td>\n",
       "      <td>9.23077</td>\n",
       "      <td>0.908123</td>\n",
       "      <td>0.15</td>\n",
       "      <td>0.119158</td>\n",
       "      <td>0.106917</td>\n",
       "      <td>0.098430</td>\n",
       "      <td>0.430000</td>\n",
       "      <td>0.426271</td>\n",
       "      <td>...</td>\n",
       "      <td>-0.003333</td>\n",
       "      <td>-0.003492</td>\n",
       "      <td>-0.000026</td>\n",
       "      <td>-0.001036</td>\n",
       "      <td>-0.002300</td>\n",
       "      <td>-0.000019</td>\n",
       "      <td>-0.000648</td>\n",
       "      <td>-0.001456</td>\n",
       "      <td>-2.256330e-05</td>\n",
       "      <td>-0.000330</td>\n",
       "    </tr>\n",
       "    <tr>\n",
       "      <th>2705</th>\n",
       "      <td>2705</td>\n",
       "      <td>49.4606</td>\n",
       "      <td>7.69231</td>\n",
       "      <td>14.487900</td>\n",
       "      <td>0.20</td>\n",
       "      <td>0.200000</td>\n",
       "      <td>0.200001</td>\n",
       "      <td>0.200277</td>\n",
       "      <td>0.266887</td>\n",
       "      <td>0.316886</td>\n",
       "      <td>...</td>\n",
       "      <td>-0.000862</td>\n",
       "      <td>0.000022</td>\n",
       "      <td>0.000004</td>\n",
       "      <td>-0.000419</td>\n",
       "      <td>0.000011</td>\n",
       "      <td>0.000003</td>\n",
       "      <td>-0.000244</td>\n",
       "      <td>0.000003</td>\n",
       "      <td>1.035450e-06</td>\n",
       "      <td>-0.000057</td>\n",
       "    </tr>\n",
       "    <tr>\n",
       "      <th>2980</th>\n",
       "      <td>2980</td>\n",
       "      <td>41.1274</td>\n",
       "      <td>10.76920</td>\n",
       "      <td>22.661400</td>\n",
       "      <td>0.10</td>\n",
       "      <td>0.382433</td>\n",
       "      <td>0.430000</td>\n",
       "      <td>0.430000</td>\n",
       "      <td>0.430000</td>\n",
       "      <td>0.223530</td>\n",
       "      <td>...</td>\n",
       "      <td>-0.000102</td>\n",
       "      <td>-0.000106</td>\n",
       "      <td>0.000004</td>\n",
       "      <td>-0.000037</td>\n",
       "      <td>-0.000022</td>\n",
       "      <td>0.000003</td>\n",
       "      <td>-0.000020</td>\n",
       "      <td>0.000003</td>\n",
       "      <td>9.741010e-07</td>\n",
       "      <td>-0.000004</td>\n",
       "    </tr>\n",
       "  </tbody>\n",
       "</table>\n",
       "<p>3 rows × 59 columns</p>\n",
       "</div>"
      ],
      "text/plain": [
       "         n        x         y          z  Th_T0     Th_T5    Th_T15    Th_T30  \\\n",
       "1266  1266  22.7091   9.23077   0.908123   0.15  0.119158  0.106917  0.098430   \n",
       "2705  2705  49.4606   7.69231  14.487900   0.20  0.200000  0.200001  0.200277   \n",
       "2980  2980  41.1274  10.76920  22.661400   0.10  0.382433  0.430000  0.430000   \n",
       "\n",
       "        Th_T60   Th_T120  ...   V3_T240   V1_T500   V2_T500   V3_T500  \\\n",
       "1266  0.430000  0.426271  ... -0.003333 -0.003492 -0.000026 -0.001036   \n",
       "2705  0.266887  0.316886  ... -0.000862  0.000022  0.000004 -0.000419   \n",
       "2980  0.430000  0.223530  ... -0.000102 -0.000106  0.000004 -0.000037   \n",
       "\n",
       "       V1_T720   V2_T720   V3_T720  V1_T1440      V2_T1440  V3_T1440  \n",
       "1266 -0.002300 -0.000019 -0.000648 -0.001456 -2.256330e-05 -0.000330  \n",
       "2705  0.000011  0.000003 -0.000244  0.000003  1.035450e-06 -0.000057  \n",
       "2980 -0.000022  0.000003 -0.000020  0.000003  9.741010e-07 -0.000004  \n",
       "\n",
       "[3 rows x 59 columns]"
      ]
     },
     "metadata": {},
     "output_type": "display_data"
    },
    {
     "data": {
      "text/html": [
       "<div>\n",
       "<style scoped>\n",
       "    .dataframe tbody tr th:only-of-type {\n",
       "        vertical-align: middle;\n",
       "    }\n",
       "\n",
       "    .dataframe tbody tr th {\n",
       "        vertical-align: top;\n",
       "    }\n",
       "\n",
       "    .dataframe thead th {\n",
       "        text-align: right;\n",
       "    }\n",
       "</style>\n",
       "<table border=\"1\" class=\"dataframe\">\n",
       "  <thead>\n",
       "    <tr style=\"text-align: right;\">\n",
       "      <th></th>\n",
       "      <th>Min</th>\n",
       "      <th>Mean</th>\n",
       "      <th>Median</th>\n",
       "      <th>Max</th>\n",
       "    </tr>\n",
       "  </thead>\n",
       "  <tbody>\n",
       "    <tr>\n",
       "      <th>Th</th>\n",
       "      <td>0.049132</td>\n",
       "      <td>0.257289</td>\n",
       "      <td>3.117305e-01</td>\n",
       "      <td>0.430000</td>\n",
       "    </tr>\n",
       "    <tr>\n",
       "      <th>H</th>\n",
       "      <td>-676.912000</td>\n",
       "      <td>-66.645863</td>\n",
       "      <td>-1.962600e+01</td>\n",
       "      <td>12.429200</td>\n",
       "    </tr>\n",
       "    <tr>\n",
       "      <th>V1</th>\n",
       "      <td>-1.660930</td>\n",
       "      <td>-0.021988</td>\n",
       "      <td>-1.864930e-05</td>\n",
       "      <td>0.802749</td>\n",
       "    </tr>\n",
       "    <tr>\n",
       "      <th>V2</th>\n",
       "      <td>-0.263769</td>\n",
       "      <td>-0.000331</td>\n",
       "      <td>1.837060e-08</td>\n",
       "      <td>0.265775</td>\n",
       "    </tr>\n",
       "    <tr>\n",
       "      <th>V3</th>\n",
       "      <td>-1.086420</td>\n",
       "      <td>-0.002844</td>\n",
       "      <td>-2.684000e-05</td>\n",
       "      <td>0.777201</td>\n",
       "    </tr>\n",
       "  </tbody>\n",
       "</table>\n",
       "</div>"
      ],
      "text/plain": [
       "           Min       Mean        Median        Max\n",
       "Th    0.049132   0.257289  3.117305e-01   0.430000\n",
       "H  -676.912000 -66.645863 -1.962600e+01  12.429200\n",
       "V1   -1.660930  -0.021988 -1.864930e-05   0.802749\n",
       "V2   -0.263769  -0.000331  1.837060e-08   0.265775\n",
       "V3   -1.086420  -0.002844 -2.684000e-05   0.777201"
      ]
     },
     "metadata": {},
     "output_type": "display_data"
    },
    {
     "name": "stdout",
     "output_type": "stream",
     "text": [
      " For the entire simulation\n",
      " ========================= \n",
      "Time steps : [0, 5, 15, 30, 60, 120, 180, 240, 500, 720, 1440] \n",
      "Dimensions : {'x': (0.0, 50.0), 'y': (0.0, 20.0), 'z': (0.0, 21.0)} \n",
      "Matrix dims: x_vals(41,), z_vals(43,), X(43, 41), Z(43, 41), M(43, 41)\n",
      "\n",
      "\n",
      " Variables statistics:\n",
      " =====================\n"
     ]
    },
    {
     "data": {
      "text/html": [
       "<div>\n",
       "<style scoped>\n",
       "    .dataframe tbody tr th:only-of-type {\n",
       "        vertical-align: middle;\n",
       "    }\n",
       "\n",
       "    .dataframe tbody tr th {\n",
       "        vertical-align: top;\n",
       "    }\n",
       "\n",
       "    .dataframe thead th {\n",
       "        text-align: right;\n",
       "    }\n",
       "</style>\n",
       "<table border=\"1\" class=\"dataframe\">\n",
       "  <thead>\n",
       "    <tr style=\"text-align: right;\">\n",
       "      <th></th>\n",
       "      <th>Min</th>\n",
       "      <th>Mean</th>\n",
       "      <th>Median</th>\n",
       "      <th>Max</th>\n",
       "    </tr>\n",
       "  </thead>\n",
       "  <tbody>\n",
       "    <tr>\n",
       "      <th>Th</th>\n",
       "      <td>0.049132</td>\n",
       "      <td>0.257289</td>\n",
       "      <td>3.117305e-01</td>\n",
       "      <td>0.430000</td>\n",
       "    </tr>\n",
       "    <tr>\n",
       "      <th>H</th>\n",
       "      <td>-676.912000</td>\n",
       "      <td>-66.645863</td>\n",
       "      <td>-1.962600e+01</td>\n",
       "      <td>12.429200</td>\n",
       "    </tr>\n",
       "    <tr>\n",
       "      <th>V1</th>\n",
       "      <td>-1.660930</td>\n",
       "      <td>-0.021988</td>\n",
       "      <td>-1.864930e-05</td>\n",
       "      <td>0.802749</td>\n",
       "    </tr>\n",
       "    <tr>\n",
       "      <th>V2</th>\n",
       "      <td>-0.263769</td>\n",
       "      <td>-0.000331</td>\n",
       "      <td>1.837060e-08</td>\n",
       "      <td>0.265775</td>\n",
       "    </tr>\n",
       "    <tr>\n",
       "      <th>V3</th>\n",
       "      <td>-1.086420</td>\n",
       "      <td>-0.002844</td>\n",
       "      <td>-2.684000e-05</td>\n",
       "      <td>0.777201</td>\n",
       "    </tr>\n",
       "  </tbody>\n",
       "</table>\n",
       "</div>"
      ],
      "text/plain": [
       "           Min       Mean        Median        Max\n",
       "Th    0.049132   0.257289  3.117305e-01   0.430000\n",
       "H  -676.912000 -66.645863 -1.962600e+01  12.429200\n",
       "V1   -1.660930  -0.021988 -1.864930e-05   0.802749\n",
       "V2   -0.263769  -0.000331  1.837060e-08   0.265775\n",
       "V3   -1.086420  -0.002844 -2.684000e-05   0.777201"
      ]
     },
     "execution_count": 4,
     "metadata": {},
     "output_type": "execute_result"
    }
   ],
   "source": [
    "df = read_hydrus_data(folder=src, save_to_csv=False, read_velocities=True)\n",
    "display(df.sample(3), get_full_simulation_info(df))\n",
    "\n",
    "df_rotated = rotate_back(df, 2.2899, rotation_axis='y')\n",
    "get_full_simulation_info(df_rotated)"
   ]
  },
  {
   "cell_type": "markdown",
   "metadata": {},
   "source": [
    "### Reading the _information files_\n",
    "1. `A_Level.out`\n",
    "2. `ATMOSPH.IN`\n",
    "3. `Balance.out`\n",
    "4. `DIMENSIO.IN`\n",
    "5. `Run_Inf.out`\n",
    "6. `SELECTOR.IN`"
   ]
  },
  {
   "cell_type": "code",
   "execution_count": null,
   "metadata": {
    "ExecuteTime": {
     "end_time": "2019-11-24T11:29:47.421183Z",
     "start_time": "2019-11-24T11:29:47.349375Z"
    }
   },
   "outputs": [],
   "source": []
  },
  {
   "cell_type": "code",
   "execution_count": null,
   "metadata": {
    "ExecuteTime": {
     "end_time": "2019-11-24T11:32:31.280938Z",
     "start_time": "2019-11-24T11:32:31.263985Z"
    }
   },
   "outputs": [],
   "source": []
  },
  {
   "cell_type": "markdown",
   "metadata": {},
   "source": [
    "## Files to be implemented here\n",
    "### Spread-info files\n",
    "\n",
    "1. `Cum_Q.out`\n",
    "1. `h_Mean.out`\n",
    "1. `v_Mean.out`\n",
    "\n",
    "### Fragment-info files\n",
    "\n",
    "1. `Boundary.out`\n",
    "1. `BOUNDARY.IN`\n",
    "1. `Check.out`"
   ]
  },
  {
   "cell_type": "code",
   "execution_count": null,
   "metadata": {},
   "outputs": [],
   "source": []
  }
 ],
 "metadata": {
  "kernelspec": {
   "display_name": "Python 3",
   "language": "python",
   "name": "python3"
  },
  "language_info": {
   "codemirror_mode": {
    "name": "ipython",
    "version": 3
   },
   "file_extension": ".py",
   "mimetype": "text/x-python",
   "name": "python",
   "nbconvert_exporter": "python",
   "pygments_lexer": "ipython3",
   "version": "3.7.4"
  },
  "varInspector": {
   "cols": {
    "lenName": 16,
    "lenType": 16,
    "lenVar": 40
   },
   "kernels_config": {
    "python": {
     "delete_cmd_postfix": "",
     "delete_cmd_prefix": "del ",
     "library": "var_list.py",
     "varRefreshCmd": "print(var_dic_list())"
    },
    "r": {
     "delete_cmd_postfix": ") ",
     "delete_cmd_prefix": "rm(",
     "library": "var_list.r",
     "varRefreshCmd": "cat(var_dic_list()) "
    }
   },
   "types_to_exclude": [
    "module",
    "function",
    "builtin_function_or_method",
    "instance",
    "_Feature"
   ],
   "window_display": false
  }
 },
 "nbformat": 4,
 "nbformat_minor": 2
}
